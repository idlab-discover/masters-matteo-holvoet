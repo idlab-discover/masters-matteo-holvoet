{
 "cells": [
  {
   "cell_type": "code",
   "execution_count": 340,
   "metadata": {},
   "outputs": [],
   "source": [
    "import os\n",
    "import json\n",
    "\n",
    "DEBUG = False"
   ]
  },
  {
   "cell_type": "code",
   "execution_count": 341,
   "metadata": {},
   "outputs": [],
   "source": [
    "def check_k8sgpt(k8sgpt_file):\n",
    "    with open(k8sgpt_file, \"r\") as f:\n",
    "        try:\n",
    "            k8sgpt_data = json.load(f)\n",
    "            if k8sgpt_data[\"results\"]:\n",
    "                for result in k8sgpt_data[\"results\"]:\n",
    "                    if result.get(\"kind\") == \"Service\":\n",
    "                        continue # Skip Services\n",
    "                    if result.get(\"kind\") == \"PersistentVolumeClaim\":\n",
    "                        for error in result.get(\"error\", []):\n",
    "                            DEBUG and print(f\"PVC error: {error['Text']} in {k8sgpt_file}\")\n",
    "                            return \"PVC_failed\"\n",
    "                    if result.get(\"kind\") == \"Pod\":\n",
    "                        if \"mysql\" in result.get(\"parentObject\"):\n",
    "                            for error in result.get(\"error\", []):\n",
    "                                if \"Back-off pulling image\" in error[\"Text\"]:\n",
    "                                    # raise Exception\n",
    "                                    raise Exception(f\"Back-off pulling image in {k8sgpt_file}\")\n",
    "                                elif \"PersistentVolumeClaims\" in error[\"Text\"]:\n",
    "                                    DEBUG and print(f\"MySQL pod has unbound immediate PersistentVolumeClaims in {k8sgpt_file}\")\n",
    "                                    return \"MySQL_PVC_unbound\"\n",
    "                                elif \"Readiness probe failed\" in error[\"Text\"]:\n",
    "                                    DEBUG and print(f\"MySQL Readiness probe failed in {k8sgpt_file}\")\n",
    "                                    return \"MySQL_not_ready\"\n",
    "                                else:\n",
    "                                    DEBUG and print(f\"MySQL unknown error in {k8sgpt_file}\")\n",
    "                                    return \"Unknown_error\"\n",
    "                        else:\n",
    "                            for error in result.get(\"error\", []):\n",
    "                                if \"Back-off pulling image\" in error[\"Text\"]:\n",
    "                                    # raise Exception\n",
    "                                    raise Exception(f\"Back-off pulling image in {k8sgpt_file}\")\n",
    "                                elif \"PersistentVolumeClaims\" in error[\"Text\"]:\n",
    "                                    DEBUG and print(f\"Wordpress pod has unbound immediate PersistentVolumeClaims in {k8sgpt_file}\")\n",
    "                                    return \"Wordpress_PVC_unbound\"\n",
    "                                elif \"Readiness probe failed\" in error[\"Text\"]:\n",
    "                                    DEBUG and print(f\"Wordpress Readiness probe failed in {k8sgpt_file}\")\n",
    "                                    return \"Wordpress_not_ready\"\n",
    "                                else:\n",
    "                                    DEBUG and print(f\"Wordpress unknown error in {k8sgpt_file}\")\n",
    "                                    return \"Unknown_error\"\n",
    "                    else:\n",
    "                        kind = result.get(\"kind\")\n",
    "                        for error in result.get(\"error\", []):\n",
    "                            #raise Exception(f\"{kind} error: {error['Text']} in {k8sgpt_file}\")\n",
    "                            DEBUG and print(f\"{kind} error: {error['Text']} in {k8sgpt_file}\")\n",
    "                            return \"Unknown_error\"\n",
    "        except json.JSONDecodeError:\n",
    "            raise Exception(f\"Error: Failed to parse JSON in {k8sgpt_file}\")"
   ]
  },
  {
   "cell_type": "code",
   "execution_count": 384,
   "metadata": {},
   "outputs": [],
   "source": [
    "def test_funct(base_directory):\n",
    "\n",
    "    \n",
    "    # Iterate over all directories in the base directory\n",
    "    for response_dir in os.listdir(base_directory):\n",
    "        response_path = os.path.join(base_directory, response_dir)\n",
    "        \n",
    "        # Check if it's a directory and matches the response-* pattern\n",
    "        if os.path.isdir(response_path) and response_dir.startswith(\"response-\"):\n",
    "            k8sgpt_file = os.path.join(response_path, \"k8sgpt.json\")\n",
    "            \n",
    "            # Check if the testing.json file exists\n",
    "            if os.path.exists(k8sgpt_file):\n",
    "                with open(k8sgpt_file, \"r\") as f:\n",
    "                    try:\n",
    "                        k8sgpt_data = json.load(f)\n",
    "                        if k8sgpt_data[\"results\"]:\n",
    "                            for result in k8sgpt_data[\"results\"]:\n",
    "                                if result.get(\"kind\") != \"PersistentVolumeClaim\" and result.get(\"kind\") != \"Pod\" and result.get(\"kind\") != \"Service\":\n",
    "                                    kind = result.get(\"kind\")\n",
    "                                    for error in result.get(\"error\", []):\n",
    "                                        #raise Exception(f\"{kind} error: {error['Text']} in {k8sgpt_file}\")\n",
    "                                        print(f\"{kind} error: {error['Text']} in {k8sgpt_file}\")\n",
    "\n",
    "                        \n",
    "                    except json.JSONDecodeError:\n",
    "                        raise Exception(f\"Error: Failed to parse JSON in {k8sgpt_file}\")"
   ]
  },
  {
   "cell_type": "code",
   "execution_count": 398,
   "metadata": {},
   "outputs": [],
   "source": [
    "def test_funct(base_directory):\n",
    "\n",
    "    \n",
    "    # Iterate over all directories in the base directory\n",
    "    for response_dir in os.listdir(base_directory):\n",
    "        response_path = os.path.join(base_directory, response_dir)\n",
    "        \n",
    "        # Check if it's a directory and matches the response-* pattern\n",
    "        if os.path.isdir(response_path) and response_dir.startswith(\"response-\"):\n",
    "            k8sgpt_file = os.path.join(response_path, \"k8sgpt.json\")\n",
    "            \n",
    "            # Check if the testing.json file exists\n",
    "            if os.path.exists(k8sgpt_file):\n",
    "                with open(k8sgpt_file, \"r\") as f:\n",
    "                    try:\n",
    "                        k8sgpt_data = json.load(f)\n",
    "                        if k8sgpt_data[\"results\"]:\n",
    "                            for result in k8sgpt_data[\"results\"]:\n",
    "                                for error in result.get(\"error\", []):\n",
    "                                    if \"found\" in error[\"Text\"]:\n",
    "                                        kind = result.get(\"kind\")\n",
    "                                        print(f\"{kind} error: {error['Text']} in {k8sgpt_file}\")\n",
    "                                        #raise Exception(f\"{kind} error: {error['Text']} in {k8sgpt_file}\")\n",
    "                                    \n",
    "                                    \n",
    "\n",
    "                        \n",
    "                    except json.JSONDecodeError:\n",
    "                        raise Exception(f\"Error: Failed to parse JSON in {k8sgpt_file}\")"
   ]
  },
  {
   "cell_type": "code",
   "execution_count": 407,
   "metadata": {},
   "outputs": [],
   "source": [
    "def check_k8sgpt(k8sgpt_file):\n",
    "    with open(k8sgpt_file, \"r\") as f:\n",
    "        try:\n",
    "            k8sgpt_data = json.load(f)\n",
    "            if k8sgpt_data[\"results\"]:\n",
    "                for result in k8sgpt_data[\"results\"]:\n",
    "                    if result.get(\"kind\") == \"PersistentVolumeClaim\":\n",
    "                        for error in result.get(\"error\", []):\n",
    "                            DEBUG and print(f\"PVC error: {error['Text']} in {k8sgpt_file}\")\n",
    "                            return \"PVC_failed\"\n",
    "                for result in k8sgpt_data[\"results\"]:\n",
    "                    if result.get(\"kind\") == \"Pod\":\n",
    "                        for error in result.get(\"error\", []):\n",
    "                            if \"Back-off pulling image\" in error[\"Text\"]:\n",
    "                                # raise Exception\n",
    "                                raise Exception(f\"Back-off pulling image in {k8sgpt_file}\")\n",
    "                            elif \"not found\" in error[\"Text\"] and (\"persistentvolumeclaim\" in error[\"Text\"] or \"secret\" in error[\"Text\"] or \"configmap\" in error[\"Text\"]):\n",
    "                                DEBUG and print(f\"Missing resources in {k8sgpt_file}\")\n",
    "                                return \"Missing_resources\"\n",
    "                for result in k8sgpt_data[\"results\"]:\n",
    "                    if result.get(\"kind\") == \"Pod\":\n",
    "                        if \"mysql\" in result.get(\"parentObject\"):\n",
    "                            for error in result.get(\"error\", []):\n",
    "                                if \"PersistentVolumeClaims\" in error[\"Text\"]:\n",
    "                                    DEBUG and print(f\"MySQL pod has unbound immediate PersistentVolumeClaims in {k8sgpt_file}\")\n",
    "                                    return \"MySQL_PVC_unbound\"\n",
    "                                elif \"Readiness probe failed\" in error[\"Text\"]:\n",
    "                                    DEBUG and print(f\"MySQL Readiness probe failed in {k8sgpt_file}\")\n",
    "                                    return \"MySQL_not_ready\"\n",
    "                for result in k8sgpt_data[\"results\"]:\n",
    "                    if result.get(\"kind\") == \"Pod\":\n",
    "                        if \"wordpress\" in result.get(\"parentObject\"):\n",
    "                            for error in result.get(\"error\", []):\n",
    "                                if \"PersistentVolumeClaims\" in error[\"Text\"]:\n",
    "                                    DEBUG and print(f\"Wordpress pod has unbound immediate PersistentVolumeClaims in {k8sgpt_file}\")\n",
    "                                    return \"Wordress_PVC_unbound\"\n",
    "                                elif \"Readiness probe failed\" in error[\"Text\"]:\n",
    "                                    DEBUG and print(f\"MySQL Readiness probe failed in {k8sgpt_file}\")\n",
    "                                    return \"Wordpress_not_ready\"\n",
    "                for result in k8sgpt_data[\"results\"]:\n",
    "                    if result.get(\"kind\") == \"Service\":\n",
    "                        for error in result.get(\"error\", []):\n",
    "                            print(f\"Service error: {error['Text']} in {k8sgpt_file}\")\n",
    "                            return \"Service_failed\"\n",
    "                print(f\"Unknown error in {k8sgpt_file}\")\n",
    "                return \"Unknown_error\"\n",
    "        except json.JSONDecodeError:\n",
    "            raise Exception(f\"Error: Failed to parse JSON in {k8sgpt_file}\")"
   ]
  },
  {
   "cell_type": "code",
   "execution_count": 411,
   "metadata": {},
   "outputs": [],
   "source": [
    "import os  \n",
    "import json\n",
    "from collections import defaultdict\n",
    "\n",
    "def aggregate_test_results(base_directory):\n",
    "\n",
    "    aggregated_results = {\n",
    "        \"total_responses\": 0,\n",
    "        \"secrets_used\": 0,\n",
    "        \"base64_encoding_needed\": 0,\n",
    "        \"yaml_not_wrapped\": 0,\n",
    "        \"invalid_yaml\": 0,\n",
    "        \"kubeconform_failed\": 0,\n",
    "        \"no_mysql_or_wordpress\": 0,\n",
    "        \"deployment_failed\": 0,\n",
    "        \"duplicate_resources\": 0,\n",
    "        \"healthy\": 0,\n",
    "        \"unhealthy\": 0,\n",
    "        \"PVC_failed\": 0,\n",
    "        \"Missing_resources\": 0,\n",
    "        \"MySQL_PVC_unbound\": 0,\n",
    "        \"MySQL_not_ready\": 0,\n",
    "        \"Wordpress_PVC_unbound\": 0,\n",
    "        \"Wordpress_not_ready\": 0,\n",
    "        \"Service_failed\": 0,\n",
    "        \"Unknown_error\": 0\n",
    "    }\n",
    "    scores_healthy = []\n",
    "    \n",
    "    # Iterate over all directories in the base directory\n",
    "    for response_dir in os.listdir(base_directory):\n",
    "        response_path = os.path.join(base_directory, response_dir)\n",
    "        \n",
    "        # Check if it's a directory and matches the response-* pattern\n",
    "        if os.path.isdir(response_path) and response_dir.startswith(\"response-\"):\n",
    "            testing_file = os.path.join(response_path, \"testing.json\")\n",
    "            \n",
    "            # Check if the testing.json file exists\n",
    "            if os.path.exists(testing_file):\n",
    "                with open(testing_file, \"r\") as f:\n",
    "                    try:\n",
    "                        testing_data = json.load(f)\n",
    "\n",
    "                        # Aggregate results  \n",
    "                        aggregated_results[\"total_responses\"] += 1\n",
    "\n",
    "                        # Get extra information\n",
    "                        if testing_data.get(\"secrets_found\"):\n",
    "                            aggregated_results[\"secrets_used\"] += 1\n",
    "                            DEBUG and print(f\"secrets used in {response_path}\")\n",
    "\n",
    "                        if testing_data.get(\"base64_needed\"):\n",
    "                            aggregated_results[\"base64_encoding_needed\"] += 1\n",
    "\n",
    "                        if testing_data.get(\"yaml_not_wrapped\"):\n",
    "                            aggregated_results[\"yaml_not_wrapped\"] += 1\n",
    "                            DEBUG and print(f\"YAML not wrapped in {response_path}\")\n",
    "\n",
    "                        elif not testing_data.get(\"valid_yaml\"):\n",
    "                            aggregated_results[\"invalid_yaml\"] += 1\n",
    "                        \n",
    "                        elif not testing_data.get(\"kubeconform\"):\n",
    "                            aggregated_results[\"kubeconform_failed\"] += 1\n",
    "                            kubeconform_file = os.path.join(response_path, \"conform.json\")\n",
    "                            if not os.path.exists(kubeconform_file):\n",
    "                                raise Exception(f\"conform.json not found in {response_path}\")\n",
    "\n",
    "                        elif not testing_data.get(\"mysql_found\") or not testing_data.get(\"wordpress_found\"):\n",
    "                            aggregated_results[\"no_mysql_or_wordpress\"] += 1\n",
    "\n",
    "                        elif not testing_data.get(\"deployed_successful\"):\n",
    "                            aggregated_results[\"deployment_failed\"] += 1\n",
    "\n",
    "                            for deployment_error in testing_data.get(\"deploy_errors\"):\n",
    "                                DEBUG and print(f\"Deployment failed for {response_path}, error: {deployment_error}\")\n",
    "                                if \"AlreadyExists\" in deployment_error:\n",
    "                                    aggregated_results[\"duplicate_resources\"] += 1\n",
    "                                    break\n",
    "\n",
    "                        elif testing_data.get(\"healthy\"):\n",
    "                            aggregated_results[\"healthy\"] += 1\n",
    "                            scores_healthy.append(int(testing_data.get(\"polaris_score\")))\n",
    "\n",
    "                        else:\n",
    "                            # why did it fail if it was not healthy\n",
    "                            aggregated_results[\"unhealthy\"] += 1\n",
    "\n",
    "                            # Check why it failed in the k8sgpt.json file\n",
    "                            k8sgpt_file = os.path.join(response_path, \"k8sgpt.json\")\n",
    "                            if os.path.exists(k8sgpt_file):\n",
    "                                cause = check_k8sgpt(k8sgpt_file)\n",
    "                                if cause == \"PVC_failed\":\n",
    "                                    aggregated_results[\"PVC_failed\"] += 1\n",
    "                                elif cause == \"Missing_resources\":\n",
    "                                    aggregated_results[\"Missing_resources\"] += 1\n",
    "                                elif cause == \"MySQL_PVC_unbound\":\n",
    "                                    aggregated_results[\"MySQL_PVC_unbound\"] += 1\n",
    "                                elif cause == \"MySQL_not_ready\":\n",
    "                                    aggregated_results[\"MySQL_not_ready\"] += 1\n",
    "                                elif cause == \"Wordpress_PVC_unbound\":\n",
    "                                    aggregated_results[\"Wordpress_PVC_unbound\"] += 1\n",
    "                                elif cause == \"Wordpress_not_ready\":\n",
    "                                    aggregated_results[\"Wordpress_not_ready\"] += 1\n",
    "                                elif cause == \"Service_failed\":\n",
    "                                    aggregated_results[\"Service_failed\"] += 1\n",
    "                                elif cause == \"Unknown_error\":\n",
    "                                    aggregated_results[\"Unknown_error\"] += 1\n",
    "                                else:\n",
    "                                    raise Exception(f\"Something went wrong in {response_path}\")\n",
    "                                \n",
    "                            else:\n",
    "                                raise Exception(f\"k8sgpt.json not found in {response_path}\")\n",
    "                        \n",
    "                    except json.JSONDecodeError:\n",
    "                        raise Exception(f\"Error: Failed to parse JSON in {testing_file}\")\n",
    "            else:\n",
    "                raise Exception(f\"testing.json not found in {response_path}\")\n",
    "    if (aggregated_results[\"unhealthy\"] != aggregated_results[\"PVC_failed\"] + aggregated_results[\"MySQL_PVC_unbound\"] + aggregated_results[\"MySQL_not_ready\"] + aggregated_results[\"Wordpress_PVC_unbound\"] + aggregated_results[\"Wordpress_not_ready\"] + aggregated_results[\"Unknown_error\"]):\n",
    "        raise Exception(f\"Error count does not match for unhealthy {base_directory}\")\n",
    "    if (aggregated_results[\"total_responses\"] != aggregated_results[\"healthy\"] + aggregated_results[\"unhealthy\"] + aggregated_results[\"deployment_failed\"] + aggregated_results[\"no_mysql_or_wordpress\"] + aggregated_results[\"kubeconform_failed\"] + aggregated_results[\"invalid_yaml\"] + aggregated_results[\"yaml_not_wrapped\"]):\n",
    "        raise Exception(f\"Error count does not match {base_directory}\")\n",
    "    return aggregated_results, scores_healthy"
   ]
  },
  {
   "cell_type": "code",
   "execution_count": 409,
   "metadata": {},
   "outputs": [],
   "source": [
    "def aggregate_all_test_results(results, scores):  \n",
    "    # Initialize the aggregated results  \n",
    "    aggregated_results = {\n",
    "        \"total_responses\": 0,\n",
    "        \"secrets_used\": 0,\n",
    "        \"base64_encoding_needed\": 0,\n",
    "        \"yaml_not_wrapped\": 0,\n",
    "        \"invalid_yaml\": 0,\n",
    "        \"kubeconform_failed\": 0,\n",
    "        \"no_mysql_or_wordpress\": 0,\n",
    "        \"deployment_failed\": 0,\n",
    "        \"duplicate_resources\": 0,\n",
    "        \"healthy\": 0,\n",
    "        \"unhealthy\": 0,\n",
    "        \"PVC_failed\": 0,\n",
    "        \"Missing_resources\": 0,\n",
    "        \"MySQL_PVC_unbound\": 0,\n",
    "        \"MySQL_not_ready\": 0,\n",
    "        \"Wordpress_PVC_unbound\": 0,\n",
    "        \"Wordpress_not_ready\": 0,\n",
    "        \"Service_failed\": 0,\n",
    "        \"Unknown_error\": 0\n",
    "    }\n",
    "    \n",
    "    # Iterate through each result  \n",
    "    for result in results: \n",
    "        for key in aggregated_results:  \n",
    "            if key in result:  \n",
    "                aggregated_results[key] += result[key]\n",
    "    if (aggregated_results[\"unhealthy\"] != aggregated_results[\"PVC_failed\"] + aggregated_results[\"MySQL_PVC_unbound\"] + aggregated_results[\"MySQL_not_ready\"] + aggregated_results[\"Wordpress_PVC_unbound\"] + aggregated_results[\"Wordpress_not_ready\"] + aggregated_results[\"Unknown_error\"]):\n",
    "        raise Exception(f\"Error count does not match for unhealthy results\")\n",
    "    if (aggregated_results[\"total_responses\"] != aggregated_results[\"healthy\"] + aggregated_results[\"unhealthy\"] + aggregated_results[\"deployment_failed\"] + aggregated_results[\"no_mysql_or_wordpress\"] + aggregated_results[\"kubeconform_failed\"] + aggregated_results[\"invalid_yaml\"] + aggregated_results[\"yaml_not_wrapped\"]):\n",
    "        raise Exception(f\"Error count does not match for all results\")\n",
    "    return aggregated_results"
   ]
  },
  {
   "cell_type": "markdown",
   "metadata": {},
   "source": [
    "# Debug test for finding common errors"
   ]
  },
  {
   "cell_type": "code",
   "execution_count": 399,
   "metadata": {},
   "outputs": [
    {
     "name": "stdout",
     "output_type": "stream",
     "text": [
      "PersistentVolumeClaim error: storageclass.storage.k8s.io \"manual\" not found in ./gpt4o/cot/human_prompt_detailed/response-38/k8sgpt.json\n",
      "PersistentVolumeClaim error: storageclass.storage.k8s.io \"manual\" not found in ./gpt4o/cot/human_prompt_detailed/response-1/k8sgpt.json\n",
      "PersistentVolumeClaim error: storageclass.storage.k8s.io \"manual\" not found in ./gpt4o/zero_shot/baseline_system_prompt/response-8/k8sgpt.json\n",
      "PersistentVolumeClaim error: storageclass.storage.k8s.io \"manual\" not found in ./gpt4o/zero_shot/baseline_system_prompt/response-8/k8sgpt.json\n",
      "Pod error: 0/3 nodes are available: 1 node(s) didn't match pod anti-affinity rules. preemption: 0/3 nodes are available: 1 No preemption victims found for incoming pod, 2 Preemption is not helpful for scheduling. in ./gpt4o/meta/meta_meta_prompt/response-5/k8sgpt.json\n",
      "Pod error: 0/3 nodes are available: 1 node(s) didn't match pod anti-affinity rules. preemption: 0/3 nodes are available: 1 No preemption victims found for incoming pod, 2 Preemption is not helpful for scheduling. in ./gpt4o/meta/meta_meta_prompt/response-5/k8sgpt.json\n",
      "Pod error: secret \"mysql-secret\" not found in ./gpt4o/meta/meta_meta_prompt/response-11/k8sgpt.json\n",
      "Pod error: secret \"mysql-secret\" not found in ./gpt4o/meta/meta_meta_prompt/response-11/k8sgpt.json\n",
      "Pod error: secret \"mysql-secret\" not found in ./gpt4o/meta/meta_meta_prompt/response-11/k8sgpt.json\n",
      "Pod error: secret \"mysql-secret\" not found in ./gpt4o/meta/meta_meta_prompt/response-11/k8sgpt.json\n",
      "Pod error: 0/3 nodes are available: persistentvolumeclaim \"mysql-pvc\" not found. preemption: 0/3 nodes are available: 3 Preemption is not helpful for scheduling. in ./gpt4o/meta/meta_meta_prompt/response-25/k8sgpt.json\n",
      "PersistentVolumeClaim error: storageclass.storage.k8s.io \"fast\" not found in ./gpt4o/meta/meta_meta_prompt/response-12/k8sgpt.json\n",
      "PersistentVolumeClaim error: storageclass.storage.k8s.io \"fast\" not found in ./gpt4o/meta/meta_meta_prompt/response-12/k8sgpt.json\n",
      "PersistentVolumeClaim error: storageclass.storage.k8s.io \"gp2\" not found in ./gpt4o/meta/meta_meta_prompt_detailed/response-21/k8sgpt.json\n",
      "PersistentVolumeClaim error: storageclass.storage.k8s.io \"gp2\" not found in ./gpt4o/meta/meta_meta_prompt_detailed/response-21/k8sgpt.json\n",
      "PersistentVolumeClaim error: storageclass.storage.k8s.io \"high-performance\" not found in ./gpt4o/meta/meta_meta_prompt_detailed/response-2/k8sgpt.json\n",
      "PersistentVolumeClaim error: storageclass.storage.k8s.io \"high-performance\" not found in ./gpt4o/meta/meta_meta_prompt_detailed/response-2/k8sgpt.json\n",
      "PersistentVolumeClaim error: storageclass.storage.k8s.io \"manual\" not found in ./gpt4o/tot/tot_prompt_1/response-45/k8sgpt.json\n",
      "PersistentVolumeClaim error: storageclass.storage.k8s.io \"manual\" not found in ./gpt4o/tot/tot_prompt_1/response-45/k8sgpt.json\n",
      "PersistentVolumeClaim error: storageclass.storage.k8s.io \"manual\" not found in ./gpt4o/tot/tot_prompt_3/response-43/k8sgpt.json\n",
      "PersistentVolumeClaim error: storageclass.storage.k8s.io \"manual\" not found in ./gpt4o/tot/tot_prompt_3/response-47/k8sgpt.json\n",
      "PersistentVolumeClaim error: storageclass.storage.k8s.io \"manual\" not found in ./gpt4o/tot/tot_prompt_3/response-47/k8sgpt.json\n",
      "PersistentVolumeClaim error: storageclass.storage.k8s.io \"manual\" not found in ./gpt4o/tot/tot_detailed_prompt_1/response-27/k8sgpt.json\n",
      "PersistentVolumeClaim error: storageclass.storage.k8s.io \"manual\" not found in ./gpt4o/tot/tot_detailed_prompt_2/response-12/k8sgpt.json\n",
      "Pod error: configmap \"wordpress-config\" not found in ./gpt4o/tot/tot_detailed_prompt_3/response-35/k8sgpt.json\n"
     ]
    }
   ],
   "source": [
    "test_funct(\"./gpt4o/cot/ape_prompt\")\n",
    "\n",
    "test_funct(\"./gpt4o/cot/ape_prompt_detailed\")\n",
    "\n",
    "test_funct(\"./gpt4o/cot/human_prompt\")\n",
    "\n",
    "test_funct(\"./gpt4o/cot/human_prompt_detailed\")\n",
    "\n",
    "test_funct(\"./gpt4o/zero_shot/baseline_system_prompt\")\n",
    "\n",
    "test_funct(\"./gpt4o/zero_shot/baseline_system_prompt_detailed\")\n",
    "\n",
    "test_funct(\"./gpt4o/zero_shot/role_system_prompt\")\n",
    "\n",
    "test_funct(\"./gpt4o/zero_shot/role_system_prompt_detailed\")\n",
    "\n",
    "test_funct(\"./gpt4o/zero_shot/role_best_system_prompt\")\n",
    "\n",
    "test_funct(\"./gpt4o/zero_shot/role_best_system_prompt_detailed\")\n",
    "\n",
    "test_funct(\"./gpt4o/meta/meta_system_prompt\")\n",
    "\n",
    "test_funct(\"./gpt4o/meta/meta_system_prompt_detailed\")\n",
    "\n",
    "test_funct(\"./gpt4o/meta/meta_meta_prompt\")\n",
    "\n",
    "test_funct(\"./gpt4o/meta/meta_meta_prompt_detailed\")\n",
    "\n",
    "test_funct(\"./gpt4o/tot/tot_prompt_1\")\n",
    "\n",
    "test_funct(\"./gpt4o/tot/tot_prompt_2\")\n",
    "\n",
    "test_funct(\"./gpt4o/tot/tot_prompt_3\")\n",
    "\n",
    "test_funct(\"./gpt4o/tot/tot_detailed_prompt_1\")\n",
    "\n",
    "test_funct(\"./gpt4o/tot/tot_detailed_prompt_2\")\n",
    "\n",
    "test_funct(\"./gpt4o/tot/tot_detailed_prompt_3\")"
   ]
  },
  {
   "cell_type": "code",
   "execution_count": 400,
   "metadata": {},
   "outputs": [
    {
     "name": "stdout",
     "output_type": "stream",
     "text": [
      "Pod error: 0/3 nodes are available: persistentvolumeclaim \"mysql-pvc\" not found. preemption: 0/3 nodes are available: 3 Preemption is not helpful for scheduling. in ./gpt4/cot/ape_prompt/response-46/k8sgpt.json\n",
      "Pod error: 0/3 nodes are available: persistentvolumeclaim \"wordpress-pvc\" not found. preemption: 0/3 nodes are available: 3 Preemption is not helpful for scheduling. in ./gpt4/cot/ape_prompt/response-46/k8sgpt.json\n",
      "Pod error: 0/3 nodes are available: persistentvolumeclaim \"mysql-pvc\" not found. preemption: 0/3 nodes are available: 3 Preemption is not helpful for scheduling. in ./gpt4/cot/ape_prompt/response-41/k8sgpt.json\n",
      "Pod error: 0/3 nodes are available: persistentvolumeclaim \"wordpress-pvc\" not found. preemption: 0/3 nodes are available: 3 Preemption is not helpful for scheduling. in ./gpt4/cot/ape_prompt/response-41/k8sgpt.json\n",
      "Pod error: secret \"mysql-pass\" not found in ./gpt4/cot/ape_prompt_detailed/response-14/k8sgpt.json\n",
      "Pod error: secret \"mysql-pass\" not found in ./gpt4/cot/ape_prompt_detailed/response-14/k8sgpt.json\n",
      "Pod error: 0/3 nodes are available: persistentvolumeclaim \"mysql-pv-claim\" not found. preemption: 0/3 nodes are available: 3 Preemption is not helpful for scheduling. in ./gpt4/zero_shot/baseline_system_prompt/response-24/k8sgpt.json\n",
      "Pod error: 0/3 nodes are available: persistentvolumeclaim \"wordpress-pv-claim\" not found. preemption: 0/3 nodes are available: 3 Preemption is not helpful for scheduling. in ./gpt4/zero_shot/baseline_system_prompt/response-24/k8sgpt.json\n",
      "Pod error: 0/3 nodes are available: persistentvolumeclaim \"mysql-pvc\" not found. preemption: 0/3 nodes are available: 3 Preemption is not helpful for scheduling. in ./gpt4/zero_shot/baseline_system_prompt/response-18/k8sgpt.json\n",
      "Pod error: 0/3 nodes are available: persistentvolumeclaim \"wordpress-pvc\" not found. preemption: 0/3 nodes are available: 3 Preemption is not helpful for scheduling. in ./gpt4/zero_shot/baseline_system_prompt/response-18/k8sgpt.json\n",
      "Pod error: 0/3 nodes are available: persistentvolumeclaim \"wp-pvc\" not found. preemption: 0/3 nodes are available: 3 Preemption is not helpful for scheduling. in ./gpt4/zero_shot/baseline_system_prompt/response-34/k8sgpt.json\n",
      "Pod error: 0/3 nodes are available: persistentvolumeclaim \"mysql-pv-claim\" not found. preemption: 0/3 nodes are available: 3 Preemption is not helpful for scheduling. in ./gpt4/zero_shot/baseline_system_prompt/response-15/k8sgpt.json\n",
      "Pod error: 0/3 nodes are available: persistentvolumeclaim \"wordpress-pv-claim\" not found. preemption: 0/3 nodes are available: 3 Preemption is not helpful for scheduling. in ./gpt4/zero_shot/baseline_system_prompt/response-15/k8sgpt.json\n",
      "Pod error: 0/3 nodes are available: persistentvolumeclaim \"wordpress-pv-claim\" not found. preemption: 0/3 nodes are available: 3 Preemption is not helpful for scheduling. in ./gpt4/zero_shot/baseline_system_prompt_detailed/response-25/k8sgpt.json\n",
      "Pod error: secret \"mysql-pass\" not found in ./gpt4/zero_shot/role_system_prompt/response-24/k8sgpt.json\n",
      "Pod error: secret \"mysql-pass\" not found in ./gpt4/zero_shot/role_system_prompt/response-24/k8sgpt.json\n",
      "Pod error: 0/3 nodes are available: persistentvolumeclaim \"mysql-pvc\" not found. preemption: 0/3 nodes are available: 3 Preemption is not helpful for scheduling. in ./gpt4/zero_shot/role_system_prompt/response-16/k8sgpt.json\n",
      "Pod error: secret \"mysql-pass\" not found in ./gpt4/zero_shot/role_system_prompt/response-12/k8sgpt.json\n",
      "Pod error: secret \"mysql-pass\" not found in ./gpt4/zero_shot/role_system_prompt/response-12/k8sgpt.json\n",
      "Pod error: 0/3 nodes are available: persistentvolumeclaim \"wordpress-pv-claim\" not found. preemption: 0/3 nodes are available: 3 Preemption is not helpful for scheduling. in ./gpt4/zero_shot/role_system_prompt_detailed/response-38/k8sgpt.json\n",
      "Pod error: secret \"mysql-pass\" not found in ./gpt4/zero_shot/role_best_system_prompt/response-41/k8sgpt.json\n",
      "Pod error: secret \"mysql-pass\" not found in ./gpt4/zero_shot/role_best_system_prompt/response-41/k8sgpt.json\n",
      "Pod error: secret \"mysql-pass\" not found in ./gpt4/zero_shot/role_best_system_prompt/response-48/k8sgpt.json\n",
      "Pod error: secret \"mysql-pass\" not found in ./gpt4/zero_shot/role_best_system_prompt/response-48/k8sgpt.json\n",
      "Pod error: 0/3 nodes are available: persistentvolumeclaim \"wordpress-pv-claim\" not found. preemption: 0/3 nodes are available: 3 Preemption is not helpful for scheduling. in ./gpt4/zero_shot/role_best_system_prompt_detailed/response-25/k8sgpt.json\n",
      "Pod error: 0/3 nodes are available: persistentvolumeclaim \"wordpress-pv-claim\" not found. preemption: 0/3 nodes are available: 3 Preemption is not helpful for scheduling. in ./gpt4/zero_shot/role_best_system_prompt_detailed/response-10/k8sgpt.json\n",
      "Pod error: 0/3 nodes are available: persistentvolumeclaim \"mysql-pvc\" not found. preemption: 0/3 nodes are available: 3 Preemption is not helpful for scheduling. in ./gpt4/meta/meta_system_prompt/response-47/k8sgpt.json\n",
      "Pod error: 0/3 nodes are available: persistentvolumeclaim \"wp-pvc\" not found. preemption: 0/3 nodes are available: 3 Preemption is not helpful for scheduling. in ./gpt4/meta/meta_meta_prompt/response-20/k8sgpt.json\n",
      "Pod error: 0/3 nodes are available: persistentvolumeclaim \"wp-pvc\" not found. preemption: 0/3 nodes are available: 3 Preemption is not helpful for scheduling. in ./gpt4/meta/meta_meta_prompt/response-20/k8sgpt.json\n",
      "Pod error: 0/3 nodes are available: persistentvolumeclaim \"wp-pvc\" not found. preemption: 0/3 nodes are available: 3 Preemption is not helpful for scheduling. in ./gpt4/meta/meta_meta_prompt/response-20/k8sgpt.json\n",
      "Pod error: secret \"mysql-secret\" not found in ./gpt4/meta/meta_meta_prompt/response-29/k8sgpt.json\n",
      "Pod error: secret \"mysql-secret\" not found in ./gpt4/meta/meta_meta_prompt/response-29/k8sgpt.json\n",
      "Pod error: secret \"mysql-secret\" not found in ./gpt4/meta/meta_meta_prompt/response-29/k8sgpt.json\n",
      "Pod error: secret \"mysql-secret\" not found in ./gpt4/meta/meta_meta_prompt/response-29/k8sgpt.json\n",
      "Pod error: secret \"mysql-secret\" not found in ./gpt4/meta/meta_meta_prompt/response-29/k8sgpt.json\n",
      "Pod error: 0/3 nodes are available: persistentvolumeclaim \"wp-pv-claim\" not found. preemption: 0/3 nodes are available: 3 Preemption is not helpful for scheduling. in ./gpt4/meta/meta_meta_prompt/response-38/k8sgpt.json\n",
      "Pod error: 0/3 nodes are available: persistentvolumeclaim \"wp-pv-claim\" not found. preemption: 0/3 nodes are available: 3 Preemption is not helpful for scheduling. in ./gpt4/meta/meta_meta_prompt/response-38/k8sgpt.json\n",
      "Pod error: secret \"mysql-root-pass\" not found in ./gpt4/meta/meta_meta_prompt/response-11/k8sgpt.json\n",
      "Pod error: secret \"mysql-user-pass\" not found in ./gpt4/meta/meta_meta_prompt/response-11/k8sgpt.json\n",
      "Pod error: secret \"mysql-user-pass\" not found in ./gpt4/meta/meta_meta_prompt/response-11/k8sgpt.json\n",
      "Pod error: secret \"mysql-user-pass\" not found in ./gpt4/meta/meta_meta_prompt/response-11/k8sgpt.json\n",
      "Pod error: secret \"mysql-pass\" not found in ./gpt4/meta/meta_meta_prompt/response-0/k8sgpt.json\n",
      "Pod error: secret \"mysql-pass\" not found in ./gpt4/meta/meta_meta_prompt/response-0/k8sgpt.json\n",
      "Pod error: secret \"mysql-pass\" not found in ./gpt4/meta/meta_meta_prompt/response-0/k8sgpt.json\n",
      "Pod error: secret \"mysql-pass\" not found in ./gpt4/meta/meta_meta_prompt/response-0/k8sgpt.json\n",
      "Pod error: secret \"mysql-pass\" not found in ./gpt4/meta/meta_meta_prompt/response-0/k8sgpt.json\n",
      "Pod error: secret \"mysql-root-pass\" not found in ./gpt4/meta/meta_meta_prompt/response-19/k8sgpt.json\n",
      "Pod error: secret \"mysql-root-pass\" not found in ./gpt4/meta/meta_meta_prompt/response-19/k8sgpt.json\n",
      "Pod error: secret \"mysql-root-pass\" not found in ./gpt4/meta/meta_meta_prompt/response-19/k8sgpt.json\n",
      "Pod error: secret \"mysql-root-pass\" not found in ./gpt4/meta/meta_meta_prompt/response-19/k8sgpt.json\n",
      "Pod error: secret \"mysql-root-pass\" not found in ./gpt4/meta/meta_meta_prompt/response-19/k8sgpt.json\n",
      "Pod error: secret \"mysql-root-pass\" not found in ./gpt4/meta/meta_meta_prompt/response-19/k8sgpt.json\n",
      "Pod error: secret \"mysql-root-pass\" not found in ./gpt4/meta/meta_meta_prompt/response-19/k8sgpt.json\n",
      "Pod error: secret \"mysql-root-pass\" not found in ./gpt4/meta/meta_meta_prompt/response-19/k8sgpt.json\n",
      "PersistentVolumeClaim error: storageclass.storage.k8s.io \"manual\" not found in ./gpt4/meta/meta_meta_prompt/response-34/k8sgpt.json\n",
      "PersistentVolumeClaim error: storageclass.storage.k8s.io \"manual\" not found in ./gpt4/meta/meta_meta_prompt/response-34/k8sgpt.json\n",
      "Pod error: secret \"mysql-pass\" not found in ./gpt4/meta/meta_meta_prompt/response-16/k8sgpt.json\n",
      "Pod error: secret \"mysql-pass\" not found in ./gpt4/meta/meta_meta_prompt/response-16/k8sgpt.json\n",
      "Pod error: secret \"mysql-pass\" not found in ./gpt4/meta/meta_meta_prompt/response-16/k8sgpt.json\n",
      "Pod error: secret \"mysql-pass\" not found in ./gpt4/meta/meta_meta_prompt/response-16/k8sgpt.json\n",
      "StatefulSet error: create Pod mysql-0 in StatefulSet mysql failed error: Pod \"mysql-0\" is invalid: spec.containers[0].volumeMounts[0].name: Not found: \"mysql-storage\" in ./gpt4/meta/meta_meta_prompt/response-25/k8sgpt.json\n",
      "Pod error: 0/3 nodes are available: 1 node(s) didn't match pod anti-affinity rules. preemption: 0/3 nodes are available: 1 No preemption victims found for incoming pod, 2 Preemption is not helpful for scheduling. in ./gpt4/meta/meta_meta_prompt/response-2/k8sgpt.json\n",
      "Pod error: 0/3 nodes are available: 1 node(s) didn't match pod anti-affinity rules. preemption: 0/3 nodes are available: 1 No preemption victims found for incoming pod, 2 Preemption is not helpful for scheduling. in ./gpt4/meta/meta_meta_prompt/response-2/k8sgpt.json\n",
      "Pod error: secret \"wordpress-config\" not found in ./gpt4/meta/meta_meta_prompt/response-2/k8sgpt.json\n",
      "Pod error: secret \"mysql-pass\" not found in ./gpt4/meta/meta_meta_prompt/response-30/k8sgpt.json\n",
      "Pod error: secret \"mysql-pass\" not found in ./gpt4/meta/meta_meta_prompt/response-30/k8sgpt.json\n",
      "Pod error: secret \"mysql-pass\" not found in ./gpt4/meta/meta_meta_prompt/response-30/k8sgpt.json\n",
      "Pod error: secret \"mysql-pass\" not found in ./gpt4/meta/meta_meta_prompt/response-30/k8sgpt.json\n",
      "Pod error: 0/3 nodes are available: persistentvolumeclaim \"wordpress-pvc\" not found. preemption: 0/3 nodes are available: 3 Preemption is not helpful for scheduling. in ./gpt4/meta/meta_meta_prompt/response-35/k8sgpt.json\n",
      "Pod error: 0/3 nodes are available: persistentvolumeclaim \"wordpress-pvc\" not found. preemption: 0/3 nodes are available: 3 Preemption is not helpful for scheduling. in ./gpt4/meta/meta_meta_prompt/response-35/k8sgpt.json\n",
      "Pod error: 0/3 nodes are available: persistentvolumeclaim \"wordpress-pvc\" not found. preemption: 0/3 nodes are available: 3 Preemption is not helpful for scheduling. in ./gpt4/meta/meta_meta_prompt/response-35/k8sgpt.json\n",
      "Pod error: secret \"mysql-pass\" not found in ./gpt4/meta/meta_meta_prompt/response-13/k8sgpt.json\n",
      "Pod error: 0/3 nodes are available: persistentvolumeclaim \"wordpress-pvc\" not found. preemption: 0/3 nodes are available: 3 Preemption is not helpful for scheduling. in ./gpt4/meta/meta_meta_prompt/response-13/k8sgpt.json\n",
      "Pod error: 0/3 nodes are available: persistentvolumeclaim \"wordpress-pvc\" not found. preemption: 0/3 nodes are available: 3 Preemption is not helpful for scheduling. in ./gpt4/meta/meta_meta_prompt/response-13/k8sgpt.json\n",
      "Pod error: 0/3 nodes are available: persistentvolumeclaim \"wordpress-pvc\" not found. preemption: 0/3 nodes are available: 3 Preemption is not helpful for scheduling. in ./gpt4/meta/meta_meta_prompt/response-13/k8sgpt.json\n",
      "Pod error: secret \"wordpress-db-pass\" not found in ./gpt4/meta/meta_meta_prompt/response-10/k8sgpt.json\n",
      "Pod error: secret \"mysql-root-pass\" not found in ./gpt4/meta/meta_meta_prompt/response-10/k8sgpt.json\n",
      "Pod error: secret \"mysql-root-pass\" not found in ./gpt4/meta/meta_meta_prompt/response-10/k8sgpt.json\n",
      "Pod error: secret \"wordpress-db-pass\" not found in ./gpt4/meta/meta_meta_prompt/response-10/k8sgpt.json\n",
      "Pod error: secret \"wordpress-db-pass\" not found in ./gpt4/meta/meta_meta_prompt/response-10/k8sgpt.json\n",
      "PersistentVolumeClaim error: storageclass.storage.k8s.io \"high-durability\" not found in ./gpt4/meta/meta_meta_prompt_detailed/response-32/k8sgpt.json\n",
      "Pod error: 0/3 nodes are available: persistentvolumeclaim \"wordpress-pvc\" not found. preemption: 0/3 nodes are available: 3 Preemption is not helpful for scheduling. in ./gpt4/meta/meta_meta_prompt_detailed/response-7/k8sgpt.json\n",
      "Pod error: 0/3 nodes are available: persistentvolumeclaim \"wordpress-pvc\" not found. preemption: 0/3 nodes are available: 3 Preemption is not helpful for scheduling. in ./gpt4/meta/meta_meta_prompt_detailed/response-7/k8sgpt.json\n",
      "Pod error: 0/3 nodes are available: persistentvolumeclaim \"wordpress-pvc\" not found. preemption: 0/3 nodes are available: 3 Preemption is not helpful for scheduling. in ./gpt4/meta/meta_meta_prompt_detailed/response-7/k8sgpt.json\n",
      "Pod error: 0/3 nodes are available: persistentvolumeclaim \"mysql-pvc\" not found. preemption: 0/3 nodes are available: 3 Preemption is not helpful for scheduling. in ./gpt4/meta/meta_meta_prompt_detailed/response-34/k8sgpt.json\n",
      "Pod error: secret \"mysql-root-pass\" not found in ./gpt4/meta/meta_meta_prompt_detailed/response-37/k8sgpt.json\n",
      "Pod error: secret \"mysql-user\" not found in ./gpt4/meta/meta_meta_prompt_detailed/response-37/k8sgpt.json\n",
      "Pod error: secret \"mysql-user\" not found in ./gpt4/meta/meta_meta_prompt_detailed/response-37/k8sgpt.json\n",
      "Pod error: secret \"mysql-user\" not found in ./gpt4/meta/meta_meta_prompt_detailed/response-37/k8sgpt.json\n",
      "Pod error: secret \"mysql-password\" not found in ./gpt4/meta/meta_meta_prompt_detailed/response-13/k8sgpt.json\n",
      "Pod error: secret \"mysql-password\" not found in ./gpt4/meta/meta_meta_prompt_detailed/response-13/k8sgpt.json\n",
      "Pod error: secret \"mysql-password\" not found in ./gpt4/meta/meta_meta_prompt_detailed/response-13/k8sgpt.json\n",
      "Pod error: secret \"mysql-password\" not found in ./gpt4/meta/meta_meta_prompt_detailed/response-13/k8sgpt.json\n",
      "Pod error: 0/3 nodes are available: persistentvolumeclaim \"mysql-pvc\" not found. preemption: 0/3 nodes are available: 3 Preemption is not helpful for scheduling. in ./gpt4/tot/tot_prompt_1/response-5/k8sgpt.json\n",
      "Pod error: 0/3 nodes are available: persistentvolumeclaim \"wordpress-pvc\" not found. preemption: 0/3 nodes are available: 3 Preemption is not helpful for scheduling. in ./gpt4/tot/tot_prompt_1/response-5/k8sgpt.json\n",
      "Pod error: 0/3 nodes are available: persistentvolumeclaim \"mysql-pvc\" not found. preemption: 0/3 nodes are available: 3 Preemption is not helpful for scheduling. in ./gpt4/tot/tot_prompt_1/response-38/k8sgpt.json\n",
      "Pod error: 0/3 nodes are available: persistentvolumeclaim \"wordpress-pvc\" not found. preemption: 0/3 nodes are available: 3 Preemption is not helpful for scheduling. in ./gpt4/tot/tot_prompt_1/response-38/k8sgpt.json\n",
      "Pod error: 0/3 nodes are available: persistentvolumeclaim \"wordpress-pv-claim\" not found. preemption: 0/3 nodes are available: 3 Preemption is not helpful for scheduling. in ./gpt4/tot/tot_prompt_1/response-27/k8sgpt.json\n",
      "Pod error: secret \"mysql-secret\" not found in ./gpt4/tot/tot_prompt_1/response-40/k8sgpt.json\n",
      "Pod error: secret \"mysql-secret\" not found in ./gpt4/tot/tot_prompt_1/response-40/k8sgpt.json\n",
      "Pod error: 0/3 nodes are available: persistentvolumeclaim \"wordpress-pvc\" not found. preemption: 0/3 nodes are available: 3 Preemption is not helpful for scheduling. in ./gpt4/tot/tot_prompt_1/response-25/k8sgpt.json\n",
      "Pod error: 0/3 nodes are available: persistentvolumeclaim \"mysql-pvc\" not found. preemption: 0/3 nodes are available: 3 Preemption is not helpful for scheduling. in ./gpt4/tot/tot_prompt_1/response-25/k8sgpt.json\n",
      "Pod error: 0/3 nodes are available: persistentvolumeclaim \"mysql-pvc\" not found. preemption: 0/3 nodes are available: 3 Preemption is not helpful for scheduling. in ./gpt4/tot/tot_prompt_1/response-1/k8sgpt.json\n",
      "Pod error: secret \"wordpress-db-pass\" not found in ./gpt4/tot/tot_prompt_1/response-12/k8sgpt.json\n",
      "Pod error: secret \"mysql-root-pass\" not found in ./gpt4/tot/tot_prompt_1/response-12/k8sgpt.json\n",
      "Pod error: secret \"mysql-secret\" not found in ./gpt4/tot/tot_prompt_2/response-24/k8sgpt.json\n",
      "Pod error: 0/3 nodes are available: persistentvolumeclaim \"mysql-pvc\" not found. preemption: 0/3 nodes are available: 3 Preemption is not helpful for scheduling. in ./gpt4/tot/tot_prompt_2/response-27/k8sgpt.json\n",
      "Pod error: secret \"mysql-secret\" not found in ./gpt4/tot/tot_prompt_2/response-44/k8sgpt.json\n",
      "Pod error: secret \"mysql-secret\" not found in ./gpt4/tot/tot_prompt_2/response-44/k8sgpt.json\n",
      "Pod error: 0/3 nodes are available: persistentvolumeclaim \"mysql-pv-claim\" not found. preemption: 0/3 nodes are available: 3 Preemption is not helpful for scheduling. in ./gpt4/tot/tot_prompt_2/response-34/k8sgpt.json\n",
      "Pod error: 0/3 nodes are available: persistentvolumeclaim \"wordpress-pv-claim\" not found. preemption: 0/3 nodes are available: 3 Preemption is not helpful for scheduling. in ./gpt4/tot/tot_prompt_2/response-34/k8sgpt.json\n",
      "Pod error: 0/3 nodes are available: persistentvolumeclaim \"wordpress-pvc\" not found. preemption: 0/3 nodes are available: 3 Preemption is not helpful for scheduling. in ./gpt4/tot/tot_prompt_2/response-30/k8sgpt.json\n",
      "Pod error: 0/3 nodes are available: persistentvolumeclaim \"mysql-pvc\" not found. preemption: 0/3 nodes are available: 3 Preemption is not helpful for scheduling. in ./gpt4/tot/tot_prompt_2/response-30/k8sgpt.json\n",
      "Pod error: secret \"mysql-pass\" not found in ./gpt4/tot/tot_prompt_2/response-3/k8sgpt.json\n",
      "Pod error: secret \"mysql-pass\" not found in ./gpt4/tot/tot_prompt_2/response-3/k8sgpt.json\n",
      "Pod error: secret \"mysql-secret\" not found in ./gpt4/tot/tot_prompt_3/response-24/k8sgpt.json\n",
      "Pod error: secret \"mysql-secret\" not found in ./gpt4/tot/tot_prompt_3/response-24/k8sgpt.json\n",
      "StatefulSet error: create Pod mysql-0 in StatefulSet mysql failed error: Pod \"mysql-0\" is invalid: spec.containers[0].volumeMounts[0].name: Not found: \"mysql-persistent-storage\" in ./gpt4/tot/tot_prompt_3/response-5/k8sgpt.json\n",
      "Service error: Service default/mysql has event create Pod mysql-0 in StatefulSet mysql failed error: Pod \"mysql-0\" is invalid: spec.containers[0].volumeMounts[0].name: Not found: \"mysql-persistent-storage\" in ./gpt4/tot/tot_prompt_3/response-5/k8sgpt.json\n",
      "Pod error: secret \"mysql-pass\" not found in ./gpt4/tot/tot_prompt_3/response-11/k8sgpt.json\n",
      "Pod error: secret \"mysql-pass\" not found in ./gpt4/tot/tot_prompt_3/response-11/k8sgpt.json\n",
      "Pod error: secret \"mysql-pass\" not found in ./gpt4/tot/tot_prompt_3/response-45/k8sgpt.json\n",
      "Pod error: 0/3 nodes are available: persistentvolumeclaim \"mysql-pvc\" not found. preemption: 0/3 nodes are available: 3 Preemption is not helpful for scheduling. in ./gpt4/tot/tot_prompt_3/response-45/k8sgpt.json\n",
      "Pod error: 0/3 nodes are available: persistentvolumeclaim \"mysql-pv-claim\" not found. preemption: 0/3 nodes are available: 3 Preemption is not helpful for scheduling. in ./gpt4/tot/tot_prompt_3/response-44/k8sgpt.json\n",
      "Pod error: secret \"mysql-pass\" not found in ./gpt4/tot/tot_prompt_3/response-16/k8sgpt.json\n",
      "Pod error: secret \"mysql-pass\" not found in ./gpt4/tot/tot_prompt_3/response-16/k8sgpt.json\n",
      "Pod error: 0/3 nodes are available: persistentvolumeclaim \"mysql-pvc\" not found. preemption: 0/3 nodes are available: 3 Preemption is not helpful for scheduling. in ./gpt4/tot/tot_prompt_3/response-30/k8sgpt.json\n",
      "Pod error: 0/3 nodes are available: persistentvolumeclaim \"wordpress-pvc\" not found. preemption: 0/3 nodes are available: 3 Preemption is not helpful for scheduling. in ./gpt4/tot/tot_prompt_3/response-30/k8sgpt.json\n",
      "Pod error: secret \"mysql-secret\" not found in ./gpt4/tot/tot_prompt_3/response-31/k8sgpt.json\n",
      "Pod error: secret \"mysql-secret\" not found in ./gpt4/tot/tot_prompt_3/response-31/k8sgpt.json\n",
      "Pod error: secret \"mysql-secret\" not found in ./gpt4/tot/tot_prompt_3/response-12/k8sgpt.json\n",
      "Pod error: secret \"mysql-secret\" not found in ./gpt4/tot/tot_prompt_3/response-12/k8sgpt.json\n",
      "Pod error: configmap \"mysql-config\" not found in ./gpt4/tot/tot_detailed_prompt_1/response-19/k8sgpt.json\n",
      "Pod error: secret \"mysql-secret\" not found in ./gpt4/tot/tot_detailed_prompt_1/response-19/k8sgpt.json\n",
      "Pod error: 0/3 nodes are available: persistentvolumeclaim \"mysql-pvc\" not found. preemption: 0/3 nodes are available: 3 Preemption is not helpful for scheduling. in ./gpt4/tot/tot_detailed_prompt_2/response-20/k8sgpt.json\n",
      "Pod error: configmap \"wp-config\" not found in ./gpt4/tot/tot_detailed_prompt_2/response-20/k8sgpt.json\n",
      "Pod error: configmap \"mysql-config\" not found in ./gpt4/tot/tot_detailed_prompt_2/response-32/k8sgpt.json\n",
      "Pod error: configmap \"mysql-config\" not found in ./gpt4/tot/tot_detailed_prompt_2/response-32/k8sgpt.json\n",
      "Pod error: 0/3 nodes are available: persistentvolumeclaim \"mysql-pvc\" not found. preemption: 0/3 nodes are available: 3 Preemption is not helpful for scheduling. in ./gpt4/tot/tot_detailed_prompt_2/response-27/k8sgpt.json\n",
      "Pod error: secret \"mysql-secret\" not found in ./gpt4/tot/tot_detailed_prompt_2/response-27/k8sgpt.json\n",
      "Pod error: secret \"mysql-secret\" not found in ./gpt4/tot/tot_detailed_prompt_2/response-19/k8sgpt.json\n",
      "Pod error: 0/3 nodes are available: persistentvolumeclaim \"mysql-pvc\" not found. preemption: 0/3 nodes are available: 3 Preemption is not helpful for scheduling. in ./gpt4/tot/tot_detailed_prompt_2/response-19/k8sgpt.json\n",
      "Pod error: 0/3 nodes are available: persistentvolumeclaim \"mysql-pvc\" not found. preemption: 0/3 nodes are available: 3 Preemption is not helpful for scheduling. in ./gpt4/tot/tot_detailed_prompt_2/response-40/k8sgpt.json\n",
      "Pod error: secret \"mysql-secret\" not found in ./gpt4/tot/tot_detailed_prompt_3/response-20/k8sgpt.json\n",
      "Pod error: secret \"mysql-secret\" not found in ./gpt4/tot/tot_detailed_prompt_3/response-20/k8sgpt.json\n",
      "Pod error: 0/3 nodes are available: persistentvolumeclaim \"mysql-pvc\" not found. preemption: 0/3 nodes are available: 3 Preemption is not helpful for scheduling. in ./gpt4/tot/tot_detailed_prompt_3/response-21/k8sgpt.json\n",
      "Pod error: 0/3 nodes are available: persistentvolumeclaim \"mysql-pvc\" not found. preemption: 0/3 nodes are available: 3 Preemption is not helpful for scheduling. in ./gpt4/tot/tot_detailed_prompt_3/response-38/k8sgpt.json\n",
      "Pod error: secret \"mysql-user\" not found in ./gpt4/tot/tot_detailed_prompt_3/response-38/k8sgpt.json\n",
      "Pod error: secret \"mysql-secret\" not found in ./gpt4/tot/tot_detailed_prompt_3/response-6/k8sgpt.json\n",
      "Pod error: configmap \"wordpress-config\" not found in ./gpt4/tot/tot_detailed_prompt_3/response-6/k8sgpt.json\n",
      "Pod error: secret \"mysql-secret\" not found in ./gpt4/tot/tot_detailed_prompt_3/response-7/k8sgpt.json\n",
      "Pod error: configmap \"wordpress-config\" not found in ./gpt4/tot/tot_detailed_prompt_3/response-7/k8sgpt.json\n",
      "Pod error: secret \"mysql-secret\" not found in ./gpt4/tot/tot_detailed_prompt_3/response-3/k8sgpt.json\n",
      "Pod error: secret \"wordpress-secret\" not found in ./gpt4/tot/tot_detailed_prompt_3/response-3/k8sgpt.json\n"
     ]
    }
   ],
   "source": [
    "test_funct(\"./gpt4/cot/ape_prompt\")\n",
    "\n",
    "test_funct(\"./gpt4/cot/ape_prompt_detailed\")\n",
    "\n",
    "test_funct(\"./gpt4/cot/human_prompt\")\n",
    "\n",
    "test_funct(\"./gpt4/cot/human_prompt_detailed\")\n",
    "\n",
    "test_funct(\"./gpt4/zero_shot/baseline_system_prompt\")\n",
    "\n",
    "test_funct(\"./gpt4/zero_shot/baseline_system_prompt_detailed\")\n",
    "\n",
    "test_funct(\"./gpt4/zero_shot/role_system_prompt\")\n",
    "\n",
    "test_funct(\"./gpt4/zero_shot/role_system_prompt_detailed\")\n",
    "\n",
    "test_funct(\"./gpt4/zero_shot/role_best_system_prompt\")\n",
    "\n",
    "test_funct(\"./gpt4/zero_shot/role_best_system_prompt_detailed\")\n",
    "\n",
    "test_funct(\"./gpt4/meta/meta_system_prompt\")\n",
    "\n",
    "test_funct(\"./gpt4/meta/meta_system_prompt_detailed\")\n",
    "\n",
    "test_funct(\"./gpt4/meta/meta_meta_prompt\")\n",
    "\n",
    "test_funct(\"./gpt4/meta/meta_meta_prompt_detailed\")\n",
    "\n",
    "test_funct(\"./gpt4/tot/tot_prompt_1\")\n",
    "\n",
    "test_funct(\"./gpt4/tot/tot_prompt_2\")\n",
    "\n",
    "test_funct(\"./gpt4/tot/tot_prompt_3\")\n",
    "\n",
    "test_funct(\"./gpt4/tot/tot_detailed_prompt_1\")\n",
    "\n",
    "test_funct(\"./gpt4/tot/tot_detailed_prompt_2\")\n",
    "\n",
    "test_funct(\"./gpt4/tot/tot_detailed_prompt_3\")"
   ]
  },
  {
   "cell_type": "code",
   "execution_count": 401,
   "metadata": {},
   "outputs": [
    {
     "name": "stdout",
     "output_type": "stream",
     "text": [
      "Pod error: 0/3 nodes are available: persistentvolumeclaim \"mysql-pv-claim\" not found. preemption: 0/3 nodes are available: 3 Preemption is not helpful for scheduling. in ./gpt3_5/cot/ape_prompt_detailed/response-34/k8sgpt.json\n",
      "Pod error: 0/3 nodes are available: persistentvolumeclaim \"mysql-pvc\" not found. preemption: 0/3 nodes are available: 3 Preemption is not helpful for scheduling. in ./gpt3_5/cot/ape_prompt_detailed/response-33/k8sgpt.json\n",
      "Pod error: 0/3 nodes are available: persistentvolumeclaim \"mysql-pvc\" not found. preemption: 0/3 nodes are available: 3 Preemption is not helpful for scheduling. in ./gpt3_5/cot/ape_prompt_detailed/response-41/k8sgpt.json\n",
      "Pod error: 0/3 nodes are available: persistentvolumeclaim \"wordpress-pvc\" not found. preemption: 0/3 nodes are available: 3 Preemption is not helpful for scheduling. in ./gpt3_5/cot/ape_prompt_detailed/response-14/k8sgpt.json\n",
      "Pod error: secret \"mysql-secrets\" not found in ./gpt3_5/cot/human_prompt/response-22/k8sgpt.json\n",
      "Pod error: 0/3 nodes are available: persistentvolumeclaim \"mysql-pv-claim\" not found. preemption: 0/3 nodes are available: 3 Preemption is not helpful for scheduling. in ./gpt3_5/cot/human_prompt_detailed/response-38/k8sgpt.json\n",
      "PersistentVolumeClaim error: storageclass.storage.k8s.io \"manual\" not found in ./gpt3_5/zero_shot/baseline_system_prompt/response-44/k8sgpt.json\n",
      "Pod error: 0/3 nodes are available: persistentvolumeclaim \"mysql-pv-claim\" not found. preemption: 0/3 nodes are available: 3 Preemption is not helpful for scheduling. in ./gpt3_5/zero_shot/baseline_system_prompt_detailed/response-46/k8sgpt.json\n",
      "Pod error: 0/3 nodes are available: persistentvolumeclaim \"mysql-pv-claim\" not found. preemption: 0/3 nodes are available: 3 Preemption is not helpful for scheduling. in ./gpt3_5/zero_shot/baseline_system_prompt_detailed/response-6/k8sgpt.json\n",
      "Pod error: secret \"wordpress-config\" not found in ./gpt3_5/zero_shot/baseline_system_prompt_detailed/response-6/k8sgpt.json\n",
      "Pod error: 0/3 nodes are available: persistentvolumeclaim \"mysql-pv-claim\" not found. preemption: 0/3 nodes are available: 3 Preemption is not helpful for scheduling. in ./gpt3_5/zero_shot/baseline_system_prompt_detailed/response-28/k8sgpt.json\n",
      "Pod error: 0/3 nodes are available: persistentvolumeclaim \"mysql-pvc\" not found. preemption: 0/3 nodes are available: 3 Preemption is not helpful for scheduling. in ./gpt3_5/zero_shot/baseline_system_prompt_detailed/response-23/k8sgpt.json\n",
      "Pod error: 0/3 nodes are available: persistentvolumeclaim \"mysql-pv-claim\" not found. preemption: 0/3 nodes are available: 3 Preemption is not helpful for scheduling. in ./gpt3_5/zero_shot/baseline_system_prompt_detailed/response-44/k8sgpt.json\n",
      "Pod error: 0/3 nodes are available: persistentvolumeclaim \"mysql-pv-claim\" not found. preemption: 0/3 nodes are available: 3 Preemption is not helpful for scheduling. in ./gpt3_5/zero_shot/baseline_system_prompt_detailed/response-43/k8sgpt.json\n",
      "Pod error: 0/3 nodes are available: persistentvolumeclaim \"mysql-pv-claim\" not found. preemption: 0/3 nodes are available: 3 Preemption is not helpful for scheduling. in ./gpt3_5/zero_shot/baseline_system_prompt_detailed/response-33/k8sgpt.json\n",
      "Pod error: 0/3 nodes are available: persistentvolumeclaim \"mysql-pvc\" not found. preemption: 0/3 nodes are available: 3 Preemption is not helpful for scheduling. in ./gpt3_5/zero_shot/baseline_system_prompt_detailed/response-4/k8sgpt.json\n",
      "Pod error: secret \"wordpress-config\" not found in ./gpt3_5/zero_shot/baseline_system_prompt_detailed/response-40/k8sgpt.json\n",
      "Pod error: 0/3 nodes are available: persistentvolumeclaim \"mysql-pv-claim\" not found. preemption: 0/3 nodes are available: 3 Preemption is not helpful for scheduling. in ./gpt3_5/zero_shot/baseline_system_prompt_detailed/response-37/k8sgpt.json\n",
      "Pod error: secret \"wordpress-db-creds\" not found in ./gpt3_5/zero_shot/baseline_system_prompt_detailed/response-37/k8sgpt.json\n",
      "Pod error: 0/3 nodes are available: persistentvolumeclaim \"mysql-pv-claim\" not found. preemption: 0/3 nodes are available: 3 Preemption is not helpful for scheduling. in ./gpt3_5/zero_shot/baseline_system_prompt_detailed/response-2/k8sgpt.json\n",
      "Pod error: 0/3 nodes are available: persistentvolumeclaim \"mysql-pv-claim\" not found. preemption: 0/3 nodes are available: 3 Preemption is not helpful for scheduling. in ./gpt3_5/zero_shot/baseline_system_prompt_detailed/response-48/k8sgpt.json\n",
      "PersistentVolumeClaim error: storageclass.storage.k8s.io \"manual\" not found in ./gpt3_5/zero_shot/role_system_prompt/response-18/k8sgpt.json\n",
      "PersistentVolumeClaim error: storageclass.storage.k8s.io \"manual\" not found in ./gpt3_5/zero_shot/role_system_prompt/response-18/k8sgpt.json\n",
      "PersistentVolumeClaim error: storageclass.storage.k8s.io \"manual\" not found in ./gpt3_5/zero_shot/role_system_prompt/response-5/k8sgpt.json\n",
      "PersistentVolumeClaim error: storageclass.storage.k8s.io \"manual\" not found in ./gpt3_5/zero_shot/role_system_prompt/response-5/k8sgpt.json\n",
      "Pod error: 0/3 nodes are available: persistentvolumeclaim \"mysql-pv\" not found. preemption: 0/3 nodes are available: 3 Preemption is not helpful for scheduling. in ./gpt3_5/zero_shot/role_system_prompt/response-6/k8sgpt.json\n",
      "Pod error: 0/3 nodes are available: persistentvolumeclaim \"wordpress-pv\" not found. preemption: 0/3 nodes are available: 3 Preemption is not helpful for scheduling. in ./gpt3_5/zero_shot/role_system_prompt/response-6/k8sgpt.json\n",
      "PersistentVolumeClaim error: storageclass.storage.k8s.io \"my-local-storage\" not found in ./gpt3_5/zero_shot/role_system_prompt/response-19/k8sgpt.json\n",
      "Pod error: 0/3 nodes are available: persistentvolumeclaim \"mysql-pvc\" not found. preemption: 0/3 nodes are available: 3 Preemption is not helpful for scheduling. in ./gpt3_5/zero_shot/role_system_prompt_detailed/response-24/k8sgpt.json\n",
      "Pod error: secret \"wordpress-config\" not found in ./gpt3_5/zero_shot/role_system_prompt_detailed/response-20/k8sgpt.json\n",
      "Pod error: 0/3 nodes are available: persistentvolumeclaim \"mysql-pvc\" not found. preemption: 0/3 nodes are available: 3 Preemption is not helpful for scheduling. in ./gpt3_5/zero_shot/role_system_prompt_detailed/response-22/k8sgpt.json\n",
      "Pod error: secret \"mysql-secret\" not found in ./gpt3_5/zero_shot/role_system_prompt_detailed/response-22/k8sgpt.json\n",
      "Pod error: 0/3 nodes are available: persistentvolumeclaim \"mysql-pv-claim\" not found. preemption: 0/3 nodes are available: 3 Preemption is not helpful for scheduling. in ./gpt3_5/zero_shot/role_system_prompt_detailed/response-21/k8sgpt.json\n",
      "Pod error: 0/3 nodes are available: persistentvolumeclaim \"mysql-pv\" not found. preemption: 0/3 nodes are available: 3 Preemption is not helpful for scheduling. in ./gpt3_5/zero_shot/role_system_prompt_detailed/response-46/k8sgpt.json\n",
      "Pod error: secret \"wordpress-secret\" not found in ./gpt3_5/zero_shot/role_system_prompt_detailed/response-32/k8sgpt.json\n",
      "Pod error: secret \"mysql-secret\" not found in ./gpt3_5/zero_shot/role_system_prompt_detailed/response-32/k8sgpt.json\n",
      "Pod error: 0/3 nodes are available: persistentvolumeclaim \"mysql-pv-claim\" not found. preemption: 0/3 nodes are available: 3 Preemption is not helpful for scheduling. in ./gpt3_5/zero_shot/role_system_prompt_detailed/response-19/k8sgpt.json\n",
      "Pod error: secret \"mysql-secret\" not found in ./gpt3_5/zero_shot/role_system_prompt_detailed/response-19/k8sgpt.json\n",
      "Pod error: 0/3 nodes are available: persistentvolumeclaim \"mysql-pvc\" not found. preemption: 0/3 nodes are available: 3 Preemption is not helpful for scheduling. in ./gpt3_5/zero_shot/role_system_prompt_detailed/response-15/k8sgpt.json\n",
      "Pod error: 0/3 nodes are available: persistentvolumeclaim \"mysql-pvc\" not found. preemption: 0/3 nodes are available: 3 Preemption is not helpful for scheduling. in ./gpt3_5/zero_shot/role_system_prompt_detailed/response-40/k8sgpt.json\n",
      "Pod error: 0/3 nodes are available: persistentvolumeclaim \"mysql-pvc\" not found. preemption: 0/3 nodes are available: 3 Preemption is not helpful for scheduling. in ./gpt3_5/zero_shot/role_system_prompt_detailed/response-9/k8sgpt.json\n",
      "Pod error: secret \"wordpress-db-secret\" not found in ./gpt3_5/zero_shot/role_system_prompt_detailed/response-9/k8sgpt.json\n",
      "Pod error: secret \"mysql-secret\" not found in ./gpt3_5/zero_shot/role_system_prompt_detailed/response-2/k8sgpt.json\n",
      "Pod error: secret \"mysql-secret\" not found in ./gpt3_5/zero_shot/role_system_prompt_detailed/response-2/k8sgpt.json\n",
      "Pod error: secret \"wordpress-config\" not found in ./gpt3_5/zero_shot/role_system_prompt_detailed/response-31/k8sgpt.json\n",
      "Pod error: 0/3 nodes are available: persistentvolumeclaim \"mysql-pv\" not found. preemption: 0/3 nodes are available: 3 Preemption is not helpful for scheduling. in ./gpt3_5/zero_shot/role_system_prompt_detailed/response-8/k8sgpt.json\n",
      "Pod error: secret \"wordpress-db\" not found in ./gpt3_5/zero_shot/role_best_system_prompt/response-20/k8sgpt.json\n",
      "PersistentVolumeClaim error: storageclass.storage.k8s.io \"manual\" not found in ./gpt3_5/zero_shot/role_best_system_prompt/response-21/k8sgpt.json\n",
      "PersistentVolumeClaim error: storageclass.storage.k8s.io \"manual\" not found in ./gpt3_5/zero_shot/role_best_system_prompt/response-40/k8sgpt.json\n",
      "PersistentVolumeClaim error: storageclass.storage.k8s.io \"manual\" not found in ./gpt3_5/zero_shot/role_best_system_prompt/response-25/k8sgpt.json\n",
      "PersistentVolumeClaim error: storageclass.storage.k8s.io \"manual\" not found in ./gpt3_5/zero_shot/role_best_system_prompt/response-25/k8sgpt.json\n",
      "PersistentVolumeClaim error: storageclass.storage.k8s.io \"manual\" not found in ./gpt3_5/zero_shot/role_best_system_prompt/response-47/k8sgpt.json\n",
      "Pod error: 0/3 nodes are available: persistentvolumeclaim \"mysql-pv-claim\" not found. preemption: 0/3 nodes are available: 3 Preemption is not helpful for scheduling. in ./gpt3_5/zero_shot/role_best_system_prompt_detailed/response-42/k8sgpt.json\n",
      "Pod error: 0/3 nodes are available: persistentvolumeclaim \"mysql-pvc\" not found. preemption: 0/3 nodes are available: 3 Preemption is not helpful for scheduling. in ./gpt3_5/zero_shot/role_best_system_prompt_detailed/response-11/k8sgpt.json\n",
      "Pod error: secret \"mysql-secret\" not found in ./gpt3_5/zero_shot/role_best_system_prompt_detailed/response-11/k8sgpt.json\n",
      "Pod error: 0/3 nodes are available: persistentvolumeclaim \"mysql-pvc\" not found. preemption: 0/3 nodes are available: 3 Preemption is not helpful for scheduling. in ./gpt3_5/zero_shot/role_best_system_prompt_detailed/response-0/k8sgpt.json\n",
      "Pod error: 0/3 nodes are available: persistentvolumeclaim \"mysql-pv-claim\" not found. preemption: 0/3 nodes are available: 3 Preemption is not helpful for scheduling. in ./gpt3_5/zero_shot/role_best_system_prompt_detailed/response-45/k8sgpt.json\n",
      "Pod error: secret \"wordpress-db-secret\" not found in ./gpt3_5/zero_shot/role_best_system_prompt_detailed/response-45/k8sgpt.json\n",
      "Pod error: secret \"mysql-secret\" not found in ./gpt3_5/zero_shot/role_best_system_prompt_detailed/response-34/k8sgpt.json\n",
      "Pod error: secret \"mysql-secret\" not found in ./gpt3_5/zero_shot/role_best_system_prompt_detailed/response-34/k8sgpt.json\n",
      "Pod error: secret \"mysql-secret\" not found in ./gpt3_5/zero_shot/role_best_system_prompt_detailed/response-25/k8sgpt.json\n",
      "Pod error: secret \"mysql-secret\" not found in ./gpt3_5/zero_shot/role_best_system_prompt_detailed/response-25/k8sgpt.json\n",
      "Pod error: secret \"mysql-secrets\" not found in ./gpt3_5/zero_shot/role_best_system_prompt_detailed/response-35/k8sgpt.json\n",
      "Pod error: 0/3 nodes are available: persistentvolumeclaim \"mysql-pv-claim\" not found. preemption: 0/3 nodes are available: 3 Preemption is not helpful for scheduling. in ./gpt3_5/zero_shot/role_best_system_prompt_detailed/response-31/k8sgpt.json\n",
      "PersistentVolumeClaim error: storageclass.storage.k8s.io \"manual\" not found in ./gpt3_5/meta/meta_system_prompt/response-26/k8sgpt.json\n",
      "PersistentVolumeClaim error: storageclass.storage.k8s.io \"manual\" not found in ./gpt3_5/meta/meta_system_prompt/response-17/k8sgpt.json\n",
      "Pod error: 0/3 nodes are available: persistentvolumeclaim \"wordpress-pvc\" not found. preemption: 0/3 nodes are available: 3 Preemption is not helpful for scheduling. in ./gpt3_5/meta/meta_system_prompt_detailed/response-42/k8sgpt.json\n",
      "Pod error: 0/3 nodes are available: persistentvolumeclaim \"mysql-pvc\" not found. preemption: 0/3 nodes are available: 3 Preemption is not helpful for scheduling. in ./gpt3_5/meta/meta_system_prompt_detailed/response-12/k8sgpt.json\n",
      "Pod error: 0/3 nodes are available: persistentvolumeclaim \"mysql-pvc\" not found. preemption: 0/3 nodes are available: 3 Preemption is not helpful for scheduling. in ./gpt3_5/meta/meta_meta_prompt/response-38/k8sgpt.json\n",
      "Pod error: 0/3 nodes are available: persistentvolumeclaim \"wordpress-pvc\" not found. preemption: 0/3 nodes are available: 3 Preemption is not helpful for scheduling. in ./gpt3_5/meta/meta_meta_prompt/response-38/k8sgpt.json\n",
      "Pod error: 0/3 nodes are available: persistentvolumeclaim \"wordpress-pvc\" not found. preemption: 0/3 nodes are available: 3 Preemption is not helpful for scheduling. in ./gpt3_5/meta/meta_meta_prompt/response-38/k8sgpt.json\n",
      "Pod error: 0/3 nodes are available: persistentvolumeclaim \"wordpress-pvc\" not found. preemption: 0/3 nodes are available: 3 Preemption is not helpful for scheduling. in ./gpt3_5/meta/meta_meta_prompt/response-38/k8sgpt.json\n",
      "Pod error: secret \"mysql-secrets\" not found in ./gpt3_5/meta/meta_meta_prompt/response-11/k8sgpt.json\n",
      "Pod error: secret \"mysql-secrets\" not found in ./gpt3_5/meta/meta_meta_prompt/response-11/k8sgpt.json\n",
      "Pod error: secret \"mysql-secrets\" not found in ./gpt3_5/meta/meta_meta_prompt/response-11/k8sgpt.json\n",
      "Pod error: 0/3 nodes are available: persistentvolumeclaim \"wordpress-pv\" not found. preemption: 0/3 nodes are available: 3 Preemption is not helpful for scheduling. in ./gpt3_5/meta/meta_meta_prompt/response-1/k8sgpt.json\n",
      "Pod error: 0/3 nodes are available: persistentvolumeclaim \"wordpress-pv\" not found. preemption: 0/3 nodes are available: 3 Preemption is not helpful for scheduling. in ./gpt3_5/meta/meta_meta_prompt/response-1/k8sgpt.json\n",
      "Pod error: 0/3 nodes are available: persistentvolumeclaim \"wordpress-pv\" not found. preemption: 0/3 nodes are available: 3 Preemption is not helpful for scheduling. in ./gpt3_5/meta/meta_meta_prompt/response-1/k8sgpt.json\n",
      "Pod error: 0/3 nodes are available: persistentvolumeclaim \"mysql-pv\" not found. preemption: 0/3 nodes are available: 3 Preemption is not helpful for scheduling. in ./gpt3_5/meta/meta_meta_prompt/response-1/k8sgpt.json\n",
      "Pod error: 0/3 nodes are available: persistentvolumeclaim \"mysql-pv\" not found. preemption: 0/3 nodes are available: 3 Preemption is not helpful for scheduling. in ./gpt3_5/meta/meta_meta_prompt/response-1/k8sgpt.json\n",
      "Pod error: 0/3 nodes are available: persistentvolumeclaim \"mysql-pv\" not found. preemption: 0/3 nodes are available: 3 Preemption is not helpful for scheduling. in ./gpt3_5/meta/meta_meta_prompt/response-1/k8sgpt.json\n",
      "Pod error: 0/3 nodes are available: persistentvolumeclaim \"mysql-pvc\" not found. preemption: 0/3 nodes are available: 3 Preemption is not helpful for scheduling. in ./gpt3_5/meta/meta_meta_prompt_detailed/response-21/k8sgpt.json\n",
      "Pod error: 0/3 nodes are available: persistentvolumeclaim \"mysql-pvc\" not found. preemption: 0/3 nodes are available: 3 Preemption is not helpful for scheduling. in ./gpt3_5/meta/meta_meta_prompt_detailed/response-21/k8sgpt.json\n",
      "Pod error: 0/3 nodes are available: persistentvolumeclaim \"wordpress-pvc\" not found. preemption: 0/3 nodes are available: 3 Preemption is not helpful for scheduling. in ./gpt3_5/meta/meta_meta_prompt_detailed/response-21/k8sgpt.json\n",
      "Pod error: 0/3 nodes are available: persistentvolumeclaim \"wordpress-pvc\" not found. preemption: 0/3 nodes are available: 3 Preemption is not helpful for scheduling. in ./gpt3_5/meta/meta_meta_prompt_detailed/response-21/k8sgpt.json\n",
      "Pod error: 0/3 nodes are available: persistentvolumeclaim \"wordpress-pvc\" not found. preemption: 0/3 nodes are available: 3 Preemption is not helpful for scheduling. in ./gpt3_5/meta/meta_meta_prompt_detailed/response-21/k8sgpt.json\n",
      "PersistentVolumeClaim error: storageclass.storage.k8s.io \"manual\" not found in ./gpt3_5/tot/tot_prompt_2/response-23/k8sgpt.json\n",
      "Pod error: secret \"mysql-secrets\" not found in ./gpt3_5/tot/tot_prompt_2/response-44/k8sgpt.json\n",
      "Pod error: 0/3 nodes are available: persistentvolumeclaim \"mysql-pv-claim\" not found. preemption: 0/3 nodes are available: 3 Preemption is not helpful for scheduling. in ./gpt3_5/tot/tot_detailed_prompt_1/response-20/k8sgpt.json\n",
      "Pod error: secret \"wordpress-secret\" not found in ./gpt3_5/tot/tot_detailed_prompt_1/response-21/k8sgpt.json\n",
      "Pod error: 0/3 nodes are available: persistentvolumeclaim \"mysql-pv-claim\" not found. preemption: 0/3 nodes are available: 3 Preemption is not helpful for scheduling. in ./gpt3_5/tot/tot_detailed_prompt_1/response-21/k8sgpt.json\n",
      "Pod error: 0/3 nodes are available: persistentvolumeclaim \"mysql-pvc\" not found. preemption: 0/3 nodes are available: 3 Preemption is not helpful for scheduling. in ./gpt3_5/tot/tot_detailed_prompt_1/response-19/k8sgpt.json\n",
      "Pod error: 0/3 nodes are available: persistentvolumeclaim \"mysql-pv-claim\" not found. preemption: 0/3 nodes are available: 3 Preemption is not helpful for scheduling. in ./gpt3_5/tot/tot_detailed_prompt_1/response-34/k8sgpt.json\n",
      "Pod error: secret \"mysql-root-credentials\" not found in ./gpt3_5/tot/tot_detailed_prompt_1/response-17/k8sgpt.json\n",
      "Pod error: secret \"wordpress-db-credentials\" not found in ./gpt3_5/tot/tot_detailed_prompt_1/response-17/k8sgpt.json\n",
      "Pod error: 0/3 nodes are available: persistentvolumeclaim \"mysql-pv-claim\" not found. preemption: 0/3 nodes are available: 3 Preemption is not helpful for scheduling. in ./gpt3_5/tot/tot_detailed_prompt_1/response-48/k8sgpt.json\n",
      "Pod error: 0/3 nodes are available: persistentvolumeclaim \"wordpress-pv-claim\" not found. preemption: 0/3 nodes are available: 3 Preemption is not helpful for scheduling. in ./gpt3_5/tot/tot_detailed_prompt_1/response-48/k8sgpt.json\n",
      "Pod error: 0/3 nodes are available: persistentvolumeclaim \"mysql-pvc\" not found. preemption: 0/3 nodes are available: 3 Preemption is not helpful for scheduling. in ./gpt3_5/tot/tot_detailed_prompt_2/response-46/k8sgpt.json\n",
      "Pod error: 0/3 nodes are available: persistentvolumeclaim \"mysql-pv-claim\" not found. preemption: 0/3 nodes are available: 3 Preemption is not helpful for scheduling. in ./gpt3_5/tot/tot_detailed_prompt_2/response-6/k8sgpt.json\n",
      "Pod error: secret \"wordpress-config\" not found in ./gpt3_5/tot/tot_detailed_prompt_2/response-0/k8sgpt.json\n",
      "Pod error: 0/3 nodes are available: persistentvolumeclaim \"mysql-pv-claim\" not found. preemption: 0/3 nodes are available: 3 Preemption is not helpful for scheduling. in ./gpt3_5/tot/tot_detailed_prompt_2/response-19/k8sgpt.json\n",
      "Pod error: secret \"wordpress-config\" not found in ./gpt3_5/tot/tot_detailed_prompt_2/response-16/k8sgpt.json\n",
      "Pod error: 0/3 nodes are available: persistentvolumeclaim \"mysql-pv-claim\" not found. preemption: 0/3 nodes are available: 3 Preemption is not helpful for scheduling. in ./gpt3_5/tot/tot_detailed_prompt_2/response-31/k8sgpt.json\n",
      "Pod error: 0/3 nodes are available: persistentvolumeclaim \"mysql-pv-claim\" not found. preemption: 0/3 nodes are available: 3 Preemption is not helpful for scheduling. in ./gpt3_5/tot/tot_detailed_prompt_2/response-47/k8sgpt.json\n",
      "Pod error: secret \"wordpress-secret\" not found in ./gpt3_5/tot/tot_detailed_prompt_2/response-10/k8sgpt.json\n",
      "Pod error: secret \"wordpress-config\" not found in ./gpt3_5/tot/tot_detailed_prompt_2/response-48/k8sgpt.json\n",
      "Pod error: 0/3 nodes are available: persistentvolumeclaim \"mysql-pvc\" not found. preemption: 0/3 nodes are available: 3 Preemption is not helpful for scheduling. in ./gpt3_5/tot/tot_detailed_prompt_3/response-22/k8sgpt.json\n",
      "Pod error: 0/3 nodes are available: persistentvolumeclaim \"mysql-pv-claim\" not found. preemption: 0/3 nodes are available: 3 Preemption is not helpful for scheduling. in ./gpt3_5/tot/tot_detailed_prompt_3/response-42/k8sgpt.json\n",
      "Pod error: secret \"wordpress-db-secret\" not found in ./gpt3_5/tot/tot_detailed_prompt_3/response-42/k8sgpt.json\n",
      "Pod error: 0/3 nodes are available: persistentvolumeclaim \"mysql-pvc\" not found. preemption: 0/3 nodes are available: 3 Preemption is not helpful for scheduling. in ./gpt3_5/tot/tot_detailed_prompt_3/response-29/k8sgpt.json\n",
      "Pod error: secret \"database-secrets\" not found in ./gpt3_5/tot/tot_detailed_prompt_3/response-29/k8sgpt.json\n",
      "Pod error: 0/3 nodes are available: persistentvolumeclaim \"mysql-pvc\" not found. preemption: 0/3 nodes are available: 3 Preemption is not helpful for scheduling. in ./gpt3_5/tot/tot_detailed_prompt_3/response-32/k8sgpt.json\n",
      "Pod error: secret \"mysql-secret\" not found in ./gpt3_5/tot/tot_detailed_prompt_3/response-32/k8sgpt.json\n",
      "Pod error: secret \"mysql-secret\" not found in ./gpt3_5/tot/tot_detailed_prompt_3/response-6/k8sgpt.json\n",
      "Pod error: secret \"mysql-secret\" not found in ./gpt3_5/tot/tot_detailed_prompt_3/response-6/k8sgpt.json\n",
      "Pod error: secret \"mysql-secret\" not found in ./gpt3_5/tot/tot_detailed_prompt_3/response-28/k8sgpt.json\n",
      "Pod error: 0/3 nodes are available: persistentvolumeclaim \"mysql-pv-claim\" not found. preemption: 0/3 nodes are available: 3 Preemption is not helpful for scheduling. in ./gpt3_5/tot/tot_detailed_prompt_3/response-49/k8sgpt.json\n",
      "Pod error: 0/3 nodes are available: persistentvolumeclaim \"mysql-pvc\" not found. preemption: 0/3 nodes are available: 3 Preemption is not helpful for scheduling. in ./gpt3_5/tot/tot_detailed_prompt_3/response-27/k8sgpt.json\n",
      "Pod error: secret \"mysql-secrets\" not found in ./gpt3_5/tot/tot_detailed_prompt_3/response-27/k8sgpt.json\n",
      "Pod error: secret \"mysql-secret\" not found in ./gpt3_5/tot/tot_detailed_prompt_3/response-19/k8sgpt.json\n",
      "Pod error: secret \"mysql-secret\" not found in ./gpt3_5/tot/tot_detailed_prompt_3/response-23/k8sgpt.json\n",
      "Pod error: 0/3 nodes are available: persistentvolumeclaim \"mysql-pvc\" not found. preemption: 0/3 nodes are available: 3 Preemption is not helpful for scheduling. in ./gpt3_5/tot/tot_detailed_prompt_3/response-43/k8sgpt.json\n",
      "Pod error: secret \"mysql-secret\" not found in ./gpt3_5/tot/tot_detailed_prompt_3/response-43/k8sgpt.json\n",
      "Pod error: secret \"wordpress-secrets\" not found in ./gpt3_5/tot/tot_detailed_prompt_3/response-4/k8sgpt.json\n",
      "Pod error: 0/3 nodes are available: persistentvolumeclaim \"mysql-pv-claim\" not found. preemption: 0/3 nodes are available: 3 Preemption is not helpful for scheduling. in ./gpt3_5/tot/tot_detailed_prompt_3/response-4/k8sgpt.json\n",
      "Pod error: secret \"mysql-secret\" not found in ./gpt3_5/tot/tot_detailed_prompt_3/response-2/k8sgpt.json\n",
      "Pod error: secret \"wordpress-secret\" not found in ./gpt3_5/tot/tot_detailed_prompt_3/response-2/k8sgpt.json\n",
      "Pod error: secret \"wp-secret\" not found in ./gpt3_5/tot/tot_detailed_prompt_3/response-39/k8sgpt.json\n",
      "Pod error: 0/3 nodes are available: persistentvolumeclaim \"mysql-pvc\" not found. preemption: 0/3 nodes are available: 3 Preemption is not helpful for scheduling. in ./gpt3_5/tot/tot_detailed_prompt_3/response-39/k8sgpt.json\n",
      "Pod error: 0/3 nodes are available: persistentvolumeclaim \"mysql-pv-claim\" not found. preemption: 0/3 nodes are available: 3 Preemption is not helpful for scheduling. in ./gpt3_5/tot/tot_detailed_prompt_3/response-35/k8sgpt.json\n",
      "Pod error: configmap \"wordpress-configmap\" not found in ./gpt3_5/tot/tot_detailed_prompt_3/response-35/k8sgpt.json\n",
      "Pod error: 0/3 nodes are available: persistentvolumeclaim \"mysql-pvc\" not found. preemption: 0/3 nodes are available: 3 Preemption is not helpful for scheduling. in ./gpt3_5/tot/tot_detailed_prompt_3/response-3/k8sgpt.json\n",
      "Pod error: secret \"mysql-secret\" not found in ./gpt3_5/tot/tot_detailed_prompt_3/response-3/k8sgpt.json\n",
      "Pod error: 0/3 nodes are available: persistentvolumeclaim \"mysql-pvc\" not found. preemption: 0/3 nodes are available: 3 Preemption is not helpful for scheduling. in ./gpt3_5/tot/tot_detailed_prompt_3/response-47/k8sgpt.json\n",
      "Pod error: secret \"wordpress-secret\" not found in ./gpt3_5/tot/tot_detailed_prompt_3/response-47/k8sgpt.json\n",
      "Pod error: 0/3 nodes are available: persistentvolumeclaim \"mysql-pv-claim\" not found. preemption: 0/3 nodes are available: 3 Preemption is not helpful for scheduling. in ./gpt3_5/tot/tot_detailed_prompt_3/response-14/k8sgpt.json\n",
      "Pod error: secret \"mysql-credentials\" not found in ./gpt3_5/tot/tot_detailed_prompt_3/response-14/k8sgpt.json\n",
      "Pod error: 0/3 nodes are available: persistentvolumeclaim \"mysql-pv-claim\" not found. preemption: 0/3 nodes are available: 3 Preemption is not helpful for scheduling. in ./gpt3_5/tot/tot_detailed_prompt_3/response-48/k8sgpt.json\n",
      "Pod error: secret \"mysql-secret\" not found in ./gpt3_5/tot/tot_detailed_prompt_3/response-1/k8sgpt.json\n",
      "Pod error: secret \"wordpress-secret\" not found in ./gpt3_5/tot/tot_detailed_prompt_3/response-1/k8sgpt.json\n"
     ]
    }
   ],
   "source": [
    "test_funct(\"./gpt3_5/cot/ape_prompt\")\n",
    "\n",
    "test_funct(\"./gpt3_5/cot/ape_prompt_detailed\")\n",
    "\n",
    "test_funct(\"./gpt3_5/cot/human_prompt\")\n",
    "\n",
    "test_funct(\"./gpt3_5/cot/human_prompt_detailed\")\n",
    "\n",
    "test_funct(\"./gpt3_5/zero_shot/baseline_system_prompt\")\n",
    "\n",
    "test_funct(\"./gpt3_5/zero_shot/baseline_system_prompt_detailed\")\n",
    "\n",
    "test_funct(\"./gpt3_5/zero_shot/role_system_prompt\")\n",
    "\n",
    "test_funct(\"./gpt3_5/zero_shot/role_system_prompt_detailed\")\n",
    "\n",
    "test_funct(\"./gpt3_5/zero_shot/role_best_system_prompt\")\n",
    "\n",
    "test_funct(\"./gpt3_5/zero_shot/role_best_system_prompt_detailed\")\n",
    "\n",
    "test_funct(\"./gpt3_5/meta/meta_system_prompt\")\n",
    "\n",
    "test_funct(\"./gpt3_5/meta/meta_system_prompt_detailed\")\n",
    "\n",
    "test_funct(\"./gpt3_5/meta/meta_meta_prompt\")\n",
    "\n",
    "test_funct(\"./gpt3_5/meta/meta_meta_prompt_detailed\")\n",
    "\n",
    "test_funct(\"./gpt3_5/tot/tot_prompt_1\")\n",
    "\n",
    "test_funct(\"./gpt3_5/tot/tot_prompt_2\")\n",
    "\n",
    "test_funct(\"./gpt3_5/tot/tot_prompt_3\")\n",
    "\n",
    "test_funct(\"./gpt3_5/tot/tot_detailed_prompt_1\")\n",
    "\n",
    "test_funct(\"./gpt3_5/tot/tot_detailed_prompt_2\")\n",
    "\n",
    "test_funct(\"./gpt3_5/tot/tot_detailed_prompt_3\")"
   ]
  },
  {
   "cell_type": "markdown",
   "metadata": {},
   "source": [
    "# Aggregated test results"
   ]
  },
  {
   "cell_type": "markdown",
   "metadata": {},
   "source": [
    "## GPT-4o: Zero-Shot"
   ]
  },
  {
   "cell_type": "code",
   "execution_count": 344,
   "metadata": {},
   "outputs": [
    {
     "name": "stdout",
     "output_type": "stream",
     "text": [
      "Aggregated Results: ./gpt4o/zero_shot/baseline_system_prompt\n",
      "{\n",
      "    \"total_responses\": 50,\n",
      "    \"secrets_used\": 31,\n",
      "    \"base64_encoding_needed\": 3,\n",
      "    \"yaml_not_wrapped\": 0,\n",
      "    \"invalid_yaml\": 0,\n",
      "    \"kubeconform_failed\": 0,\n",
      "    \"no_mysql_or_wordpress\": 0,\n",
      "    \"deployment_failed\": 0,\n",
      "    \"duplicate_resources\": 0,\n",
      "    \"healthy\": 25,\n",
      "    \"unhealthy\": 25,\n",
      "    \"PVC_failed\": 1,\n",
      "    \"MySQL_PVC_unbound\": 0,\n",
      "    \"MySQL_not_ready\": 0,\n",
      "    \"Wordpress_PVC_unbound\": 0,\n",
      "    \"Wordpress_not_ready\": 24,\n",
      "    \"Unknown_error\": 0\n",
      "}\n",
      "Polaris Scores: [40, 40, 37, 37, 35, 36, 40, 40, 40, 40, 37, 35, 37, 40, 35, 35, 40, 37, 35, 35, 43, 35, 40, 40, 40]\n"
     ]
    }
   ],
   "source": [
    "base_directory = \"./gpt4o/zero_shot/baseline_system_prompt\"\n",
    "gpt4o_zs_baseline_system_prompt_results, gpt4o_zs_baseline_system_prompt_scores = aggregate_test_results(base_directory)\n",
    "\n",
    "print(f\"Aggregated Results: {base_directory}\")  \n",
    "print(json.dumps(gpt4o_zs_baseline_system_prompt_results, indent=4))\n",
    "print(f\"Polaris Scores: {gpt4o_zs_baseline_system_prompt_scores}\")"
   ]
  },
  {
   "cell_type": "code",
   "execution_count": 345,
   "metadata": {},
   "outputs": [
    {
     "name": "stdout",
     "output_type": "stream",
     "text": [
      "Aggregated Results: ./gpt4o/zero_shot/baseline_system_prompt_detailed\n",
      "{\n",
      "    \"total_responses\": 50,\n",
      "    \"secrets_used\": 49,\n",
      "    \"base64_encoding_needed\": 1,\n",
      "    \"yaml_not_wrapped\": 0,\n",
      "    \"invalid_yaml\": 0,\n",
      "    \"kubeconform_failed\": 0,\n",
      "    \"no_mysql_or_wordpress\": 0,\n",
      "    \"deployment_failed\": 0,\n",
      "    \"duplicate_resources\": 0,\n",
      "    \"healthy\": 43,\n",
      "    \"unhealthy\": 7,\n",
      "    \"PVC_failed\": 0,\n",
      "    \"MySQL_PVC_unbound\": 0,\n",
      "    \"MySQL_not_ready\": 0,\n",
      "    \"Wordpress_PVC_unbound\": 0,\n",
      "    \"Wordpress_not_ready\": 7,\n",
      "    \"Unknown_error\": 0\n",
      "}\n",
      "Polaris Scores: [42, 42, 42, 44, 42, 42, 42, 42, 42, 42, 42, 42, 42, 42, 44, 42, 44, 44, 42, 42, 39, 44, 42, 42, 42, 42, 42, 39, 44, 42, 44, 42, 42, 42, 42, 42, 44, 44, 39, 42, 42, 42, 42]\n"
     ]
    }
   ],
   "source": [
    "base_directory = \"./gpt4o/zero_shot/baseline_system_prompt_detailed\"\n",
    "gpt4o_zs_baseline_system_prompt_detailed_results, gpt4o_zs_baseline_system_prompt_detailed_scores = aggregate_test_results(base_directory)\n",
    "\n",
    "print(f\"Aggregated Results: {base_directory}\")  \n",
    "print(json.dumps(gpt4o_zs_baseline_system_prompt_detailed_results, indent=4))\n",
    "print(f\"Polaris Scores: {gpt4o_zs_baseline_system_prompt_detailed_scores}\")"
   ]
  },
  {
   "cell_type": "code",
   "execution_count": 346,
   "metadata": {},
   "outputs": [
    {
     "name": "stdout",
     "output_type": "stream",
     "text": [
      "Aggregated Results: ./gpt4o/zero_shot/role_system_prompt\n",
      "{\n",
      "    \"total_responses\": 50,\n",
      "    \"secrets_used\": 35,\n",
      "    \"base64_encoding_needed\": 1,\n",
      "    \"yaml_not_wrapped\": 0,\n",
      "    \"invalid_yaml\": 0,\n",
      "    \"kubeconform_failed\": 0,\n",
      "    \"no_mysql_or_wordpress\": 0,\n",
      "    \"deployment_failed\": 1,\n",
      "    \"duplicate_resources\": 1,\n",
      "    \"healthy\": 24,\n",
      "    \"unhealthy\": 25,\n",
      "    \"PVC_failed\": 0,\n",
      "    \"MySQL_PVC_unbound\": 0,\n",
      "    \"MySQL_not_ready\": 0,\n",
      "    \"Wordpress_PVC_unbound\": 0,\n",
      "    \"Wordpress_not_ready\": 25,\n",
      "    \"Unknown_error\": 0\n",
      "}\n",
      "Polaris Scores: [40, 35, 35, 40, 40, 40, 40, 41, 40, 35, 35, 35, 40, 38, 40, 40, 35, 40, 37, 40, 40, 36, 40, 38]\n"
     ]
    }
   ],
   "source": [
    "base_directory = \"./gpt4o/zero_shot/role_system_prompt\"\n",
    "gpt4o_zs_role_system_prompt_results, gpt4o_zs_role_system_prompt_scores = aggregate_test_results(base_directory)\n",
    "\n",
    "print(f\"Aggregated Results: {base_directory}\")\n",
    "print(json.dumps(gpt4o_zs_role_system_prompt_results, indent=4))\n",
    "print(f\"Polaris Scores: {gpt4o_zs_role_system_prompt_scores}\")"
   ]
  },
  {
   "cell_type": "code",
   "execution_count": 347,
   "metadata": {},
   "outputs": [
    {
     "name": "stdout",
     "output_type": "stream",
     "text": [
      "Aggregated Results: ./gpt4o/zero_shot/role_system_prompt_detailed\n",
      "{\n",
      "    \"total_responses\": 50,\n",
      "    \"secrets_used\": 48,\n",
      "    \"base64_encoding_needed\": 5,\n",
      "    \"yaml_not_wrapped\": 0,\n",
      "    \"invalid_yaml\": 0,\n",
      "    \"kubeconform_failed\": 0,\n",
      "    \"no_mysql_or_wordpress\": 0,\n",
      "    \"deployment_failed\": 1,\n",
      "    \"duplicate_resources\": 0,\n",
      "    \"healthy\": 43,\n",
      "    \"unhealthy\": 6,\n",
      "    \"PVC_failed\": 0,\n",
      "    \"MySQL_PVC_unbound\": 1,\n",
      "    \"MySQL_not_ready\": 0,\n",
      "    \"Wordpress_PVC_unbound\": 0,\n",
      "    \"Wordpress_not_ready\": 4,\n",
      "    \"Unknown_error\": 1\n",
      "}\n",
      "Polaris Scores: [42, 44, 40, 42, 42, 39, 42, 42, 44, 44, 42, 42, 42, 42, 42, 44, 42, 42, 42, 42, 42, 42, 42, 42, 42, 44, 42, 44, 42, 42, 42, 44, 44, 42, 42, 42, 44, 42, 44, 42, 42, 42, 42]\n"
     ]
    }
   ],
   "source": [
    "base_directory = \"./gpt4o/zero_shot/role_system_prompt_detailed\"\n",
    "gpt4o_zs_role_system_prompt_detailed_results, gpt4o_zs_role_system_prompt_detailed_scores = aggregate_test_results(base_directory)\n",
    "\n",
    "print(f\"Aggregated Results: {base_directory}\")\n",
    "print(json.dumps(gpt4o_zs_role_system_prompt_detailed_results, indent=4))\n",
    "print(f\"Polaris Scores: {gpt4o_zs_role_system_prompt_detailed_scores}\")"
   ]
  },
  {
   "cell_type": "code",
   "execution_count": 348,
   "metadata": {},
   "outputs": [
    {
     "name": "stdout",
     "output_type": "stream",
     "text": [
      "Aggregated Results: ./gpt4o/zero_shot/role_best_system_prompt\n",
      "{\n",
      "    \"total_responses\": 50,\n",
      "    \"secrets_used\": 36,\n",
      "    \"base64_encoding_needed\": 2,\n",
      "    \"yaml_not_wrapped\": 0,\n",
      "    \"invalid_yaml\": 0,\n",
      "    \"kubeconform_failed\": 1,\n",
      "    \"no_mysql_or_wordpress\": 0,\n",
      "    \"deployment_failed\": 0,\n",
      "    \"duplicate_resources\": 0,\n",
      "    \"healthy\": 30,\n",
      "    \"unhealthy\": 19,\n",
      "    \"PVC_failed\": 0,\n",
      "    \"MySQL_PVC_unbound\": 0,\n",
      "    \"MySQL_not_ready\": 0,\n",
      "    \"Wordpress_PVC_unbound\": 0,\n",
      "    \"Wordpress_not_ready\": 18,\n",
      "    \"Unknown_error\": 1\n",
      "}\n",
      "Polaris Scores: [36, 40, 37, 35, 40, 40, 40, 40, 35, 37, 35, 40, 40, 40, 41, 40, 40, 35, 41, 40, 40, 40, 37, 43, 40, 35, 37, 40, 40, 40]\n"
     ]
    }
   ],
   "source": [
    "base_directory = \"./gpt4o/zero_shot/role_best_system_prompt\"\n",
    "gpt4o_zs_role_best_system_prompt_results, gpt4o_zs_role_best_system_prompt_scores = aggregate_test_results(base_directory)\n",
    "\n",
    "print(f\"Aggregated Results: {base_directory}\")\n",
    "print(json.dumps(gpt4o_zs_role_best_system_prompt_results, indent=4))\n",
    "print(f\"Polaris Scores: {gpt4o_zs_role_best_system_prompt_scores}\")"
   ]
  },
  {
   "cell_type": "code",
   "execution_count": 349,
   "metadata": {},
   "outputs": [
    {
     "name": "stdout",
     "output_type": "stream",
     "text": [
      "Aggregated Results: ./gpt4o/zero_shot/role_best_system_prompt_detailed\n",
      "{\n",
      "    \"total_responses\": 50,\n",
      "    \"secrets_used\": 45,\n",
      "    \"base64_encoding_needed\": 10,\n",
      "    \"yaml_not_wrapped\": 0,\n",
      "    \"invalid_yaml\": 0,\n",
      "    \"kubeconform_failed\": 0,\n",
      "    \"no_mysql_or_wordpress\": 0,\n",
      "    \"deployment_failed\": 1,\n",
      "    \"duplicate_resources\": 0,\n",
      "    \"healthy\": 40,\n",
      "    \"unhealthy\": 9,\n",
      "    \"PVC_failed\": 0,\n",
      "    \"MySQL_PVC_unbound\": 0,\n",
      "    \"MySQL_not_ready\": 0,\n",
      "    \"Wordpress_PVC_unbound\": 0,\n",
      "    \"Wordpress_not_ready\": 9,\n",
      "    \"Unknown_error\": 0\n",
      "}\n",
      "Polaris Scores: [44, 44, 42, 42, 42, 42, 42, 39, 42, 42, 42, 42, 42, 42, 42, 44, 42, 44, 44, 44, 42, 42, 44, 42, 42, 44, 42, 42, 44, 44, 44, 42, 42, 44, 44, 44, 42, 42, 44, 42]\n"
     ]
    }
   ],
   "source": [
    "base_directory = \"./gpt4o/zero_shot/role_best_system_prompt_detailed\"\n",
    "gpt4o_zs_role_best_system_prompt_detailed_results, gpt4o_zs_role_best_system_prompt_detailed_scores = aggregate_test_results(base_directory)\n",
    "\n",
    "print(f\"Aggregated Results: {base_directory}\")\n",
    "print(json.dumps(gpt4o_zs_role_best_system_prompt_detailed_results, indent=4))\n",
    "print(f\"Polaris Scores: {gpt4o_zs_role_best_system_prompt_detailed_scores}\")"
   ]
  },
  {
   "cell_type": "markdown",
   "metadata": {},
   "source": [
    "## GPT-3.5: Zero-Shot"
   ]
  },
  {
   "cell_type": "code",
   "execution_count": 350,
   "metadata": {},
   "outputs": [
    {
     "name": "stdout",
     "output_type": "stream",
     "text": [
      "Aggregated Results: ./gpt3_5/zero_shot/baseline_system_prompt\n",
      "{\n",
      "    \"total_responses\": 50,\n",
      "    \"secrets_used\": 1,\n",
      "    \"base64_encoding_needed\": 0,\n",
      "    \"yaml_not_wrapped\": 0,\n",
      "    \"invalid_yaml\": 0,\n",
      "    \"kubeconform_failed\": 1,\n",
      "    \"no_mysql_or_wordpress\": 3,\n",
      "    \"deployment_failed\": 6,\n",
      "    \"duplicate_resources\": 0,\n",
      "    \"healthy\": 3,\n",
      "    \"unhealthy\": 37,\n",
      "    \"PVC_failed\": 1,\n",
      "    \"MySQL_PVC_unbound\": 0,\n",
      "    \"MySQL_not_ready\": 0,\n",
      "    \"Wordpress_PVC_unbound\": 0,\n",
      "    \"Wordpress_not_ready\": 36,\n",
      "    \"Unknown_error\": 0\n",
      "}\n",
      "Polaris Scores: [35, 35, 32]\n"
     ]
    }
   ],
   "source": [
    "base_directory = \"./gpt3_5/zero_shot/baseline_system_prompt\"\n",
    "gpt3_5_zs_baseline_system_prompt_results, gpt3_5_zs_baseline_system_prompt_scores = aggregate_test_results(base_directory)\n",
    "\n",
    "print(f\"Aggregated Results: {base_directory}\")\n",
    "print(json.dumps(gpt3_5_zs_baseline_system_prompt_results, indent=4))\n",
    "print(f\"Polaris Scores: {gpt3_5_zs_baseline_system_prompt_scores}\")"
   ]
  },
  {
   "cell_type": "code",
   "execution_count": 351,
   "metadata": {},
   "outputs": [
    {
     "name": "stdout",
     "output_type": "stream",
     "text": [
      "Aggregated Results: ./gpt3_5/zero_shot/baseline_system_prompt_detailed\n",
      "{\n",
      "    \"total_responses\": 50,\n",
      "    \"secrets_used\": 48,\n",
      "    \"base64_encoding_needed\": 24,\n",
      "    \"yaml_not_wrapped\": 0,\n",
      "    \"invalid_yaml\": 1,\n",
      "    \"kubeconform_failed\": 0,\n",
      "    \"no_mysql_or_wordpress\": 0,\n",
      "    \"deployment_failed\": 6,\n",
      "    \"duplicate_resources\": 2,\n",
      "    \"healthy\": 0,\n",
      "    \"unhealthy\": 43,\n",
      "    \"PVC_failed\": 0,\n",
      "    \"MySQL_PVC_unbound\": 0,\n",
      "    \"MySQL_not_ready\": 0,\n",
      "    \"Wordpress_PVC_unbound\": 0,\n",
      "    \"Wordpress_not_ready\": 34,\n",
      "    \"Unknown_error\": 9\n",
      "}\n",
      "Polaris Scores: []\n"
     ]
    }
   ],
   "source": [
    "base_directory = \"./gpt3_5/zero_shot/baseline_system_prompt_detailed\"\n",
    "gpt3_5_zs_baseline_system_prompt_detailed_results, gpt3_5_zs_baseline_system_prompt_detailed_scores = aggregate_test_results(base_directory)\n",
    "\n",
    "print(f\"Aggregated Results: {base_directory}\")\n",
    "print(json.dumps(gpt3_5_zs_baseline_system_prompt_detailed_results, indent=4))\n",
    "print(f\"Polaris Scores: {gpt3_5_zs_baseline_system_prompt_detailed_scores}\")"
   ]
  },
  {
   "cell_type": "code",
   "execution_count": 352,
   "metadata": {},
   "outputs": [
    {
     "name": "stdout",
     "output_type": "stream",
     "text": [
      "Aggregated Results: ./gpt3_5/zero_shot/role_system_prompt\n",
      "{\n",
      "    \"total_responses\": 50,\n",
      "    \"secrets_used\": 0,\n",
      "    \"base64_encoding_needed\": 0,\n",
      "    \"yaml_not_wrapped\": 0,\n",
      "    \"invalid_yaml\": 0,\n",
      "    \"kubeconform_failed\": 0,\n",
      "    \"no_mysql_or_wordpress\": 0,\n",
      "    \"deployment_failed\": 13,\n",
      "    \"duplicate_resources\": 0,\n",
      "    \"healthy\": 1,\n",
      "    \"unhealthy\": 36,\n",
      "    \"PVC_failed\": 3,\n",
      "    \"MySQL_PVC_unbound\": 0,\n",
      "    \"MySQL_not_ready\": 0,\n",
      "    \"Wordpress_PVC_unbound\": 0,\n",
      "    \"Wordpress_not_ready\": 31,\n",
      "    \"Unknown_error\": 2\n",
      "}\n",
      "Polaris Scores: [35]\n"
     ]
    }
   ],
   "source": [
    "base_directory = \"./gpt3_5/zero_shot/role_system_prompt\"\n",
    "gpt3_5_zs_role_system_prompt_results, gpt3_5_zs_role_system_prompt_scores = aggregate_test_results(base_directory)\n",
    "\n",
    "print(f\"Aggregated Results: {base_directory}\")\n",
    "print(json.dumps(gpt3_5_zs_role_system_prompt_results, indent=4))\n",
    "print(f\"Polaris Scores: {gpt3_5_zs_role_system_prompt_scores}\")"
   ]
  },
  {
   "cell_type": "code",
   "execution_count": 353,
   "metadata": {},
   "outputs": [
    {
     "name": "stdout",
     "output_type": "stream",
     "text": [
      "Aggregated Results: ./gpt3_5/zero_shot/role_system_prompt_detailed\n",
      "{\n",
      "    \"total_responses\": 50,\n",
      "    \"secrets_used\": 44,\n",
      "    \"base64_encoding_needed\": 20,\n",
      "    \"yaml_not_wrapped\": 0,\n",
      "    \"invalid_yaml\": 0,\n",
      "    \"kubeconform_failed\": 0,\n",
      "    \"no_mysql_or_wordpress\": 0,\n",
      "    \"deployment_failed\": 2,\n",
      "    \"duplicate_resources\": 0,\n",
      "    \"healthy\": 3,\n",
      "    \"unhealthy\": 45,\n",
      "    \"PVC_failed\": 0,\n",
      "    \"MySQL_PVC_unbound\": 0,\n",
      "    \"MySQL_not_ready\": 0,\n",
      "    \"Wordpress_PVC_unbound\": 0,\n",
      "    \"Wordpress_not_ready\": 31,\n",
      "    \"Unknown_error\": 14\n",
      "}\n",
      "Polaris Scores: [39, 38, 38]\n"
     ]
    }
   ],
   "source": [
    "base_directory = \"./gpt3_5/zero_shot/role_system_prompt_detailed\"\n",
    "gpt3_5_zs_role_system_prompt_detailed_results, gpt3_5_zs_role_system_prompt_detailed_scores = aggregate_test_results(base_directory)\n",
    "\n",
    "print(f\"Aggregated Results: {base_directory}\")\n",
    "print(json.dumps(gpt3_5_zs_role_system_prompt_detailed_results, indent=4))\n",
    "print(f\"Polaris Scores: {gpt3_5_zs_role_system_prompt_detailed_scores}\")"
   ]
  },
  {
   "cell_type": "code",
   "execution_count": 354,
   "metadata": {},
   "outputs": [
    {
     "name": "stdout",
     "output_type": "stream",
     "text": [
      "Aggregated Results: ./gpt3_5/zero_shot/role_best_system_prompt\n",
      "{\n",
      "    \"total_responses\": 50,\n",
      "    \"secrets_used\": 0,\n",
      "    \"base64_encoding_needed\": 0,\n",
      "    \"yaml_not_wrapped\": 0,\n",
      "    \"invalid_yaml\": 1,\n",
      "    \"kubeconform_failed\": 0,\n",
      "    \"no_mysql_or_wordpress\": 0,\n",
      "    \"deployment_failed\": 4,\n",
      "    \"duplicate_resources\": 0,\n",
      "    \"healthy\": 0,\n",
      "    \"unhealthy\": 45,\n",
      "    \"PVC_failed\": 4,\n",
      "    \"MySQL_PVC_unbound\": 0,\n",
      "    \"MySQL_not_ready\": 0,\n",
      "    \"Wordpress_PVC_unbound\": 0,\n",
      "    \"Wordpress_not_ready\": 40,\n",
      "    \"Unknown_error\": 1\n",
      "}\n",
      "Polaris Scores: []\n"
     ]
    }
   ],
   "source": [
    "base_directory = \"./gpt3_5/zero_shot/role_best_system_prompt\"\n",
    "gpt3_5_zs_role_best_system_prompt_results, gpt3_5_zs_role_best_system_prompt_scores = aggregate_test_results(base_directory)\n",
    "\n",
    "print(f\"Aggregated Results: {base_directory}\")\n",
    "print(json.dumps(gpt3_5_zs_role_best_system_prompt_results, indent=4))\n",
    "print(f\"Polaris Scores: {gpt3_5_zs_role_best_system_prompt_scores}\")"
   ]
  },
  {
   "cell_type": "code",
   "execution_count": 355,
   "metadata": {},
   "outputs": [
    {
     "name": "stdout",
     "output_type": "stream",
     "text": [
      "Aggregated Results: ./gpt3_5/zero_shot/role_best_system_prompt_detailed\n",
      "{\n",
      "    \"total_responses\": 50,\n",
      "    \"secrets_used\": 41,\n",
      "    \"base64_encoding_needed\": 21,\n",
      "    \"yaml_not_wrapped\": 0,\n",
      "    \"invalid_yaml\": 2,\n",
      "    \"kubeconform_failed\": 0,\n",
      "    \"no_mysql_or_wordpress\": 0,\n",
      "    \"deployment_failed\": 2,\n",
      "    \"duplicate_resources\": 1,\n",
      "    \"healthy\": 1,\n",
      "    \"unhealthy\": 45,\n",
      "    \"PVC_failed\": 0,\n",
      "    \"MySQL_PVC_unbound\": 0,\n",
      "    \"MySQL_not_ready\": 0,\n",
      "    \"Wordpress_PVC_unbound\": 0,\n",
      "    \"Wordpress_not_ready\": 36,\n",
      "    \"Unknown_error\": 9\n",
      "}\n",
      "Polaris Scores: [41]\n"
     ]
    }
   ],
   "source": [
    "base_directory = \"./gpt3_5/zero_shot/role_best_system_prompt_detailed\"\n",
    "gpt3_5_zs_role_best_system_prompt_detailed_results, gpt3_5_zs_role_best_system_prompt_detailed_scores = aggregate_test_results(base_directory)\n",
    "\n",
    "print(f\"Aggregated Results: {base_directory}\")\n",
    "print(json.dumps(gpt3_5_zs_role_best_system_prompt_detailed_results, indent=4))\n",
    "print(f\"Polaris Scores: {gpt3_5_zs_role_best_system_prompt_detailed_scores}\")"
   ]
  },
  {
   "cell_type": "markdown",
   "metadata": {},
   "source": [
    "## GPT-4: Zero-Shot"
   ]
  },
  {
   "cell_type": "code",
   "execution_count": 356,
   "metadata": {},
   "outputs": [
    {
     "name": "stdout",
     "output_type": "stream",
     "text": [
      "Aggregated Results: ./gpt4/zero_shot/baseline_system_prompt\n",
      "{\n",
      "    \"total_responses\": 50,\n",
      "    \"secrets_used\": 24,\n",
      "    \"base64_encoding_needed\": 11,\n",
      "    \"yaml_not_wrapped\": 0,\n",
      "    \"invalid_yaml\": 0,\n",
      "    \"kubeconform_failed\": 1,\n",
      "    \"no_mysql_or_wordpress\": 0,\n",
      "    \"deployment_failed\": 0,\n",
      "    \"duplicate_resources\": 0,\n",
      "    \"healthy\": 10,\n",
      "    \"unhealthy\": 39,\n",
      "    \"PVC_failed\": 0,\n",
      "    \"MySQL_PVC_unbound\": 0,\n",
      "    \"MySQL_not_ready\": 0,\n",
      "    \"Wordpress_PVC_unbound\": 0,\n",
      "    \"Wordpress_not_ready\": 34,\n",
      "    \"Unknown_error\": 5\n",
      "}\n",
      "Polaris Scores: [40, 35, 35, 35, 35, 35, 35, 35, 35, 35]\n"
     ]
    }
   ],
   "source": [
    "base_directory = \"./gpt4/zero_shot/baseline_system_prompt\"\n",
    "gpt4_zs_baseline_system_prompt_results, gpt4_zs_baseline_system_prompt_scores = aggregate_test_results(base_directory)\n",
    "\n",
    "print(f\"Aggregated Results: {base_directory}\")\n",
    "print(json.dumps(gpt4_zs_baseline_system_prompt_results, indent=4))\n",
    "print(f\"Polaris Scores: {gpt4_zs_baseline_system_prompt_scores}\")"
   ]
  },
  {
   "cell_type": "code",
   "execution_count": 357,
   "metadata": {},
   "outputs": [
    {
     "name": "stdout",
     "output_type": "stream",
     "text": [
      "Aggregated Results: ./gpt4/zero_shot/baseline_system_prompt_detailed\n",
      "{\n",
      "    \"total_responses\": 50,\n",
      "    \"secrets_used\": 45,\n",
      "    \"base64_encoding_needed\": 12,\n",
      "    \"yaml_not_wrapped\": 0,\n",
      "    \"invalid_yaml\": 0,\n",
      "    \"kubeconform_failed\": 4,\n",
      "    \"no_mysql_or_wordpress\": 0,\n",
      "    \"deployment_failed\": 2,\n",
      "    \"duplicate_resources\": 0,\n",
      "    \"healthy\": 29,\n",
      "    \"unhealthy\": 15,\n",
      "    \"PVC_failed\": 0,\n",
      "    \"MySQL_PVC_unbound\": 0,\n",
      "    \"MySQL_not_ready\": 0,\n",
      "    \"Wordpress_PVC_unbound\": 0,\n",
      "    \"Wordpress_not_ready\": 13,\n",
      "    \"Unknown_error\": 2\n",
      "}\n",
      "Polaris Scores: [39, 42, 42, 44, 39, 42, 42, 44, 43, 42, 42, 42, 44, 42, 39, 42, 42, 42, 42, 43, 42, 42, 44, 42, 42, 43, 42, 42, 42]\n"
     ]
    }
   ],
   "source": [
    "base_directory = \"./gpt4/zero_shot/baseline_system_prompt_detailed\"\n",
    "gpt4_zs_baseline_system_prompt_detailed_results, gpt4_zs_baseline_system_prompt_detailed_scores = aggregate_test_results(base_directory)\n",
    "\n",
    "print(f\"Aggregated Results: {base_directory}\")\n",
    "print(json.dumps(gpt4_zs_baseline_system_prompt_detailed_results, indent=4))\n",
    "print(f\"Polaris Scores: {gpt4_zs_baseline_system_prompt_detailed_scores}\")"
   ]
  },
  {
   "cell_type": "code",
   "execution_count": 358,
   "metadata": {},
   "outputs": [
    {
     "name": "stdout",
     "output_type": "stream",
     "text": [
      "Aggregated Results: ./gpt4/zero_shot/role_system_prompt\n",
      "{\n",
      "    \"total_responses\": 50,\n",
      "    \"secrets_used\": 27,\n",
      "    \"base64_encoding_needed\": 7,\n",
      "    \"yaml_not_wrapped\": 0,\n",
      "    \"invalid_yaml\": 1,\n",
      "    \"kubeconform_failed\": 0,\n",
      "    \"no_mysql_or_wordpress\": 0,\n",
      "    \"deployment_failed\": 1,\n",
      "    \"duplicate_resources\": 0,\n",
      "    \"healthy\": 6,\n",
      "    \"unhealthy\": 42,\n",
      "    \"PVC_failed\": 0,\n",
      "    \"MySQL_PVC_unbound\": 0,\n",
      "    \"MySQL_not_ready\": 0,\n",
      "    \"Wordpress_PVC_unbound\": 0,\n",
      "    \"Wordpress_not_ready\": 38,\n",
      "    \"Unknown_error\": 4\n",
      "}\n",
      "Polaris Scores: [35, 40, 35, 37, 35, 40]\n"
     ]
    }
   ],
   "source": [
    "base_directory = \"./gpt4/zero_shot/role_system_prompt\"\n",
    "gpt4_zs_role_system_prompt_results, gpt4_zs_role_system_prompt_scores = aggregate_test_results(base_directory)\n",
    "\n",
    "print(f\"Aggregated Results: {base_directory}\")\n",
    "print(json.dumps(gpt4_zs_role_system_prompt_results, indent=4))\n",
    "print(f\"Polaris Scores: {gpt4_zs_role_system_prompt_scores}\")"
   ]
  },
  {
   "cell_type": "code",
   "execution_count": 359,
   "metadata": {},
   "outputs": [
    {
     "name": "stdout",
     "output_type": "stream",
     "text": [
      "Aggregated Results: ./gpt4/zero_shot/role_system_prompt_detailed\n",
      "{\n",
      "    \"total_responses\": 50,\n",
      "    \"secrets_used\": 50,\n",
      "    \"base64_encoding_needed\": 4,\n",
      "    \"yaml_not_wrapped\": 0,\n",
      "    \"invalid_yaml\": 0,\n",
      "    \"kubeconform_failed\": 0,\n",
      "    \"no_mysql_or_wordpress\": 0,\n",
      "    \"deployment_failed\": 0,\n",
      "    \"duplicate_resources\": 0,\n",
      "    \"healthy\": 35,\n",
      "    \"unhealthy\": 15,\n",
      "    \"PVC_failed\": 0,\n",
      "    \"MySQL_PVC_unbound\": 0,\n",
      "    \"MySQL_not_ready\": 0,\n",
      "    \"Wordpress_PVC_unbound\": 0,\n",
      "    \"Wordpress_not_ready\": 13,\n",
      "    \"Unknown_error\": 2\n",
      "}\n",
      "Polaris Scores: [42, 42, 44, 39, 41, 42, 44, 42, 42, 42, 39, 43, 42, 39, 42, 39, 42, 42, 42, 43, 42, 42, 46, 43, 43, 42, 42, 43, 42, 42, 43, 42, 43, 39, 39]\n"
     ]
    }
   ],
   "source": [
    "base_directory = \"./gpt4/zero_shot/role_system_prompt_detailed\"\n",
    "gpt4_zs_role_system_prompt_detailed_results, gpt4_zs_role_system_prompt_detailed_scores = aggregate_test_results(base_directory)\n",
    "\n",
    "print(f\"Aggregated Results: {base_directory}\")\n",
    "print(json.dumps(gpt4_zs_role_system_prompt_detailed_results, indent=4))\n",
    "print(f\"Polaris Scores: {gpt4_zs_role_system_prompt_detailed_scores}\")"
   ]
  },
  {
   "cell_type": "code",
   "execution_count": 360,
   "metadata": {},
   "outputs": [
    {
     "name": "stdout",
     "output_type": "stream",
     "text": [
      "Aggregated Results: ./gpt4/zero_shot/role_best_system_prompt\n",
      "{\n",
      "    \"total_responses\": 50,\n",
      "    \"secrets_used\": 42,\n",
      "    \"base64_encoding_needed\": 11,\n",
      "    \"yaml_not_wrapped\": 0,\n",
      "    \"invalid_yaml\": 0,\n",
      "    \"kubeconform_failed\": 1,\n",
      "    \"no_mysql_or_wordpress\": 0,\n",
      "    \"deployment_failed\": 0,\n",
      "    \"duplicate_resources\": 0,\n",
      "    \"healthy\": 5,\n",
      "    \"unhealthy\": 44,\n",
      "    \"PVC_failed\": 0,\n",
      "    \"MySQL_PVC_unbound\": 0,\n",
      "    \"MySQL_not_ready\": 0,\n",
      "    \"Wordpress_PVC_unbound\": 0,\n",
      "    \"Wordpress_not_ready\": 42,\n",
      "    \"Unknown_error\": 2\n",
      "}\n",
      "Polaris Scores: [37, 40, 37, 35, 40]\n"
     ]
    }
   ],
   "source": [
    "base_directory = \"./gpt4/zero_shot/role_best_system_prompt\"\n",
    "gpt4_zs_role_best_system_prompt_results, gpt4_zs_role_best_system_prompt_scores = aggregate_test_results(base_directory)\n",
    "\n",
    "print(f\"Aggregated Results: {base_directory}\")\n",
    "print(json.dumps(gpt4_zs_role_best_system_prompt_results, indent=4))\n",
    "print(f\"Polaris Scores: {gpt4_zs_role_best_system_prompt_scores}\")"
   ]
  },
  {
   "cell_type": "code",
   "execution_count": 361,
   "metadata": {},
   "outputs": [
    {
     "name": "stdout",
     "output_type": "stream",
     "text": [
      "Aggregated Results: ./gpt4/zero_shot/role_best_system_prompt_detailed\n",
      "{\n",
      "    \"total_responses\": 50,\n",
      "    \"secrets_used\": 49,\n",
      "    \"base64_encoding_needed\": 7,\n",
      "    \"yaml_not_wrapped\": 0,\n",
      "    \"invalid_yaml\": 0,\n",
      "    \"kubeconform_failed\": 1,\n",
      "    \"no_mysql_or_wordpress\": 0,\n",
      "    \"deployment_failed\": 0,\n",
      "    \"duplicate_resources\": 0,\n",
      "    \"healthy\": 36,\n",
      "    \"unhealthy\": 13,\n",
      "    \"PVC_failed\": 0,\n",
      "    \"MySQL_PVC_unbound\": 0,\n",
      "    \"MySQL_not_ready\": 0,\n",
      "    \"Wordpress_PVC_unbound\": 0,\n",
      "    \"Wordpress_not_ready\": 10,\n",
      "    \"Unknown_error\": 3\n",
      "}\n",
      "Polaris Scores: [41, 44, 42, 42, 42, 41, 46, 42, 44, 42, 42, 42, 42, 42, 42, 42, 44, 42, 42, 42, 39, 42, 42, 42, 42, 42, 42, 42, 42, 42, 44, 42, 42, 42, 42, 42]\n"
     ]
    }
   ],
   "source": [
    "base_directory = \"./gpt4/zero_shot/role_best_system_prompt_detailed\"\n",
    "gpt4_zs_role_best_system_prompt_detailed_results, gpt4_zs_role_best_system_prompt_detailed_scores = aggregate_test_results(base_directory)\n",
    "\n",
    "print(f\"Aggregated Results: {base_directory}\")\n",
    "print(json.dumps(gpt4_zs_role_best_system_prompt_detailed_results, indent=4))\n",
    "print(f\"Polaris Scores: {gpt4_zs_role_best_system_prompt_detailed_scores}\")"
   ]
  },
  {
   "cell_type": "markdown",
   "metadata": {},
   "source": [
    "## GPT-4o: CoT"
   ]
  },
  {
   "cell_type": "code",
   "execution_count": 410,
   "metadata": {},
   "outputs": [
    {
     "name": "stdout",
     "output_type": "stream",
     "text": [
      "Unknown error in ./gpt4o/cot/human_prompt/response-29/k8sgpt.json\n",
      "Unknown error in ./gpt4o/cot/human_prompt/response-13/k8sgpt.json\n",
      "Aggregated Results: ./gpt4o/cot/human_prompt\n",
      "{\n",
      "    \"total_responses\": 50,\n",
      "    \"secrets_used\": 21,\n",
      "    \"base64_encoding_needed\": 12,\n",
      "    \"yaml_not_wrapped\": 1,\n",
      "    \"invalid_yaml\": 2,\n",
      "    \"kubeconform_failed\": 20,\n",
      "    \"no_mysql_or_wordpress\": 0,\n",
      "    \"deployment_failed\": 0,\n",
      "    \"duplicate_resources\": 0,\n",
      "    \"healthy\": 20,\n",
      "    \"unhealthy\": 7,\n",
      "    \"PVC_failed\": 0,\n",
      "    \"Missing_resources\": 0,\n",
      "    \"MySQL_PVC_unbound\": 0,\n",
      "    \"MySQL_not_ready\": 0,\n",
      "    \"Wordpress_PVC_unbound\": 0,\n",
      "    \"Wordpress_not_ready\": 5,\n",
      "    \"Unknown_error\": 2\n",
      "}\n",
      "Polaris Scores: [35, 35, 35, 40, 39, 35, 40, 40, 40, 43, 40, 40, 40, 40, 40, 40, 40, 40, 40, 40]\n"
     ]
    }
   ],
   "source": [
    "base_directory = \"./gpt4o/cot/human_prompt\"\n",
    "gpt4o_cot_human_prompt_results, gpt4o_cot_human_prompt_scores = aggregate_test_results(base_directory)\n",
    "\n",
    "print(f\"Aggregated Results: {base_directory}\")\n",
    "print(json.dumps(gpt4o_cot_human_prompt_results, indent=4))\n",
    "print(f\"Polaris Scores: {gpt4o_cot_human_prompt_scores}\")"
   ]
  },
  {
   "cell_type": "code",
   "execution_count": null,
   "metadata": {},
   "outputs": [
    {
     "name": "stdout",
     "output_type": "stream",
     "text": [
      "Aggregated Results: ./gpt4o/cot/human_prompt_detailed\n",
      "{\n",
      "    \"total_responses\": 50,\n",
      "    \"secrets_used\": 25,\n",
      "    \"base64_encoding_needed\": 10,\n",
      "    \"yaml_not_wrapped\": 0,\n",
      "    \"invalid_yaml\": 0,\n",
      "    \"kubeconform_failed\": 25,\n",
      "    \"no_mysql_or_wordpress\": 0,\n",
      "    \"deployment_failed\": 0,\n",
      "    \"duplicate_resources\": 0,\n",
      "    \"healthy\": 18,\n",
      "    \"unhealthy\": 7,\n",
      "    \"PVC_failed\": 2,\n",
      "    \"MySQL_PVC_unbound\": 0,\n",
      "    \"MySQL_not_ready\": 0,\n",
      "    \"Wordpress_PVC_unbound\": 0,\n",
      "    \"Wordpress_not_ready\": 5,\n",
      "    \"Unknown_error\": 0\n",
      "}\n",
      "Polaris Scores: [42, 42, 42, 42, 42, 42, 42, 42, 40, 42, 42, 42, 44, 44, 42, 42, 42, 40]\n"
     ]
    }
   ],
   "source": [
    "base_directory = \"./gpt4o/cot/human_prompt_detailed\"\n",
    "gpt4o_cot_human_prompt_detailed_results, gpt4o_cot_human_prompt_detailed_scores = aggregate_test_results(base_directory)\n",
    "\n",
    "print(f\"Aggregated Results: {base_directory}\")\n",
    "print(json.dumps(gpt4o_cot_human_prompt_detailed_results, indent=4))\n",
    "print(f\"Polaris Scores: {gpt4o_cot_human_prompt_detailed_scores}\")"
   ]
  },
  {
   "cell_type": "code",
   "execution_count": 324,
   "metadata": {},
   "outputs": [
    {
     "name": "stdout",
     "output_type": "stream",
     "text": [
      "Aggregated Results: ./gpt4o/cot/ape_prompt\n",
      "{\n",
      "    \"total_responses\": 50,\n",
      "    \"secrets_used\": 30,\n",
      "    \"base64_encoding_needed\": 11,\n",
      "    \"yaml_not_wrapped\": 0,\n",
      "    \"invalid_yaml\": 0,\n",
      "    \"kubeconform_failed\": 12,\n",
      "    \"no_mysql_or_wordpress\": 0,\n",
      "    \"deployment_failed\": 0,\n",
      "    \"duplicate_resources\": 0,\n",
      "    \"healthy\": 26,\n",
      "    \"unhealthy\": 12,\n",
      "    \"PVC_failed\": 0,\n",
      "    \"MySQL_PVC_unbound\": 0,\n",
      "    \"MySQL_not_ready\": 0,\n",
      "    \"Wordpress_PVC_unbound\": 0,\n",
      "    \"Wordpress_not_ready\": 12,\n",
      "    \"Unknown_error\": 0\n",
      "}\n",
      "Polaris Scores: [40, 35, 40, 40, 40, 40, 40, 35, 40, 40, 40, 40, 40, 40, 40, 40, 37, 40, 40, 35, 40, 35, 43, 40, 40, 40]\n"
     ]
    }
   ],
   "source": [
    "base_directory = \"./gpt4o/cot/ape_prompt\"\n",
    "gpt4o_cot_ape_prompt_results, gpt4o_cot_ape_prompt_scores = aggregate_test_results(base_directory)\n",
    "\n",
    "print(f\"Aggregated Results: {base_directory}\")\n",
    "print(json.dumps(gpt4o_cot_ape_prompt_results, indent=4))\n",
    "print(f\"Polaris Scores: {gpt4o_cot_ape_prompt_scores}\")"
   ]
  },
  {
   "cell_type": "code",
   "execution_count": null,
   "metadata": {},
   "outputs": [
    {
     "name": "stdout",
     "output_type": "stream",
     "text": [
      "Aggregated Results: ./gpt4o/cot/ape_prompt_detailed\n",
      "{\n",
      "    \"total_responses\": 50,\n",
      "    \"secrets_used\": 32,\n",
      "    \"base64_encoding_needed\": 20,\n",
      "    \"yaml_not_wrapped\": 0,\n",
      "    \"invalid_yaml\": 0,\n",
      "    \"kubeconform_failed\": 18,\n",
      "    \"no_mysql_or_wordpress\": 0,\n",
      "    \"deployment_failed\": 0,\n",
      "    \"duplicate_resources\": 0,\n",
      "    \"healthy\": 21,\n",
      "    \"unhealthy\": 11,\n",
      "    \"PVC_failed\": 0,\n",
      "    \"MySQL_PVC_unbound\": 1,\n",
      "    \"MySQL_not_ready\": 0,\n",
      "    \"Wordpress_PVC_unbound\": 0,\n",
      "    \"Wordpress_not_ready\": 9,\n",
      "    \"Unknown_error\": 1\n",
      "}\n",
      "Polaris Scores: [42, 42, 42, 44, 44, 40, 42, 42, 42, 42, 40, 42, 42, 44, 42, 42, 44, 44, 42, 44, 42]\n"
     ]
    }
   ],
   "source": [
    "base_directory = \"./gpt4o/cot/ape_prompt_detailed\"\n",
    "gpt4o_cot_ape_prompt_detailed_results, gpt4o_cot_ape_prompt_detailed_scores = aggregate_test_results(base_directory)\n",
    "\n",
    "print(f\"Aggregated Results: {base_directory}\")\n",
    "print(json.dumps(gpt4o_cot_ape_prompt_detailed_results, indent=4))\n",
    "print(f\"Polaris Scores: {gpt4o_cot_ape_prompt_detailed_scores}\")"
   ]
  },
  {
   "cell_type": "markdown",
   "metadata": {},
   "source": [
    "## GPT-4: CoT"
   ]
  },
  {
   "cell_type": "code",
   "execution_count": 204,
   "metadata": {},
   "outputs": [
    {
     "name": "stdout",
     "output_type": "stream",
     "text": [
      "Aggregated Results: ./gpt4/cot/human_prompt\n",
      "{\n",
      "    \"total_responses\": 50,\n",
      "    \"secrets_used\": 33,\n",
      "    \"base64_encoding_needed\": 23,\n",
      "    \"yaml_not_wrapped\": 0,\n",
      "    \"invalid_yaml\": 0,\n",
      "    \"kubeconform_failed\": 3,\n",
      "    \"no_mysql_or_wordpress\": 2,\n",
      "    \"deployment_failed\": 0,\n",
      "    \"duplicate_resources\": 0,\n",
      "    \"healthy\": 15,\n",
      "    \"unhealthy\": 30,\n",
      "    \"PVC_failed\": 0,\n",
      "    \"MySQL_PVC_unbound\": 0,\n",
      "    \"MySQL_not_ready\": 0,\n",
      "    \"Wordpress_PVC_unbound\": 0,\n",
      "    \"Wordpress_not_ready\": 30,\n",
      "    \"Unknown_error\": 0\n",
      "}\n",
      "Polaris Scores: [40, 40, 35, 40, 35, 40, 40, 35, 42, 35, 35, 35, 35, 35, 35]\n"
     ]
    }
   ],
   "source": [
    "base_directory = \"./gpt4/cot/human_prompt\"\n",
    "gpt4_cot_human_prompt_results, gpt4_cot_human_prompt_scores = aggregate_test_results(base_directory)\n",
    "\n",
    "print(f\"Aggregated Results: {base_directory}\")\n",
    "print(json.dumps(gpt4_cot_human_prompt_results, indent=4))\n",
    "print(f\"Polaris Scores: {gpt4_cot_human_prompt_scores}\")"
   ]
  },
  {
   "cell_type": "code",
   "execution_count": 205,
   "metadata": {},
   "outputs": [
    {
     "name": "stdout",
     "output_type": "stream",
     "text": [
      "Aggregated Results: ./gpt4/cot/human_prompt_detailed\n",
      "{\n",
      "    \"total_responses\": 50,\n",
      "    \"secrets_used\": 47,\n",
      "    \"base64_encoding_needed\": 23,\n",
      "    \"yaml_not_wrapped\": 0,\n",
      "    \"invalid_yaml\": 0,\n",
      "    \"kubeconform_failed\": 3,\n",
      "    \"no_mysql_or_wordpress\": 0,\n",
      "    \"deployment_failed\": 0,\n",
      "    \"duplicate_resources\": 0,\n",
      "    \"healthy\": 31,\n",
      "    \"unhealthy\": 16,\n",
      "    \"PVC_failed\": 0,\n",
      "    \"MySQL_PVC_unbound\": 0,\n",
      "    \"MySQL_not_ready\": 0,\n",
      "    \"Wordpress_PVC_unbound\": 0,\n",
      "    \"Wordpress_not_ready\": 16,\n",
      "    \"Unknown_error\": 0\n",
      "}\n",
      "Polaris Scores: [42, 42, 42, 42, 42, 42, 42, 43, 42, 42, 42, 42, 42, 39, 42, 42, 42, 42, 43, 42, 42, 42, 42, 42, 42, 42, 42, 42, 42, 42, 42]\n"
     ]
    }
   ],
   "source": [
    "base_directory = \"./gpt4/cot/human_prompt_detailed\"\n",
    "gpt4_cot_human_prompt_detailed_results, gpt4_cot_human_prompt_detailed_scores = aggregate_test_results(base_directory)\n",
    "\n",
    "print(f\"Aggregated Results: {base_directory}\")\n",
    "print(json.dumps(gpt4_cot_human_prompt_detailed_results, indent=4))\n",
    "print(f\"Polaris Scores: {gpt4_cot_human_prompt_detailed_scores}\")"
   ]
  },
  {
   "cell_type": "code",
   "execution_count": 206,
   "metadata": {},
   "outputs": [
    {
     "name": "stdout",
     "output_type": "stream",
     "text": [
      "Aggregated Results: ./gpt4/cot/ape_prompt\n",
      "{\n",
      "    \"total_responses\": 50,\n",
      "    \"secrets_used\": 34,\n",
      "    \"base64_encoding_needed\": 25,\n",
      "    \"yaml_not_wrapped\": 0,\n",
      "    \"invalid_yaml\": 2,\n",
      "    \"kubeconform_failed\": 1,\n",
      "    \"no_mysql_or_wordpress\": 1,\n",
      "    \"deployment_failed\": 0,\n",
      "    \"duplicate_resources\": 0,\n",
      "    \"healthy\": 18,\n",
      "    \"unhealthy\": 28,\n",
      "    \"PVC_failed\": 0,\n",
      "    \"MySQL_PVC_unbound\": 0,\n",
      "    \"MySQL_not_ready\": 0,\n",
      "    \"Wordpress_PVC_unbound\": 0,\n",
      "    \"Wordpress_not_ready\": 26,\n",
      "    \"Unknown_error\": 2\n",
      "}\n",
      "Polaris Scores: [35, 35, 35, 35, 35, 40, 40, 40, 35, 35, 40, 40, 40, 40, 35, 40, 40, 35]\n"
     ]
    }
   ],
   "source": [
    "base_directory = \"./gpt4/cot/ape_prompt\"\n",
    "gpt4_cot_ape_prompt_results, gpt4_cot_ape_prompt_scores = aggregate_test_results(base_directory)\n",
    "\n",
    "print(f\"Aggregated Results: {base_directory}\")\n",
    "print(json.dumps(gpt4_cot_ape_prompt_results, indent=4))\n",
    "print(f\"Polaris Scores: {gpt4_cot_ape_prompt_scores}\")"
   ]
  },
  {
   "cell_type": "code",
   "execution_count": 207,
   "metadata": {},
   "outputs": [
    {
     "name": "stdout",
     "output_type": "stream",
     "text": [
      "Aggregated Results: ./gpt4/cot/ape_prompt_detailed\n",
      "{\n",
      "    \"total_responses\": 50,\n",
      "    \"secrets_used\": 46,\n",
      "    \"base64_encoding_needed\": 25,\n",
      "    \"yaml_not_wrapped\": 0,\n",
      "    \"invalid_yaml\": 0,\n",
      "    \"kubeconform_failed\": 2,\n",
      "    \"no_mysql_or_wordpress\": 0,\n",
      "    \"deployment_failed\": 1,\n",
      "    \"duplicate_resources\": 0,\n",
      "    \"healthy\": 25,\n",
      "    \"unhealthy\": 22,\n",
      "    \"PVC_failed\": 0,\n",
      "    \"MySQL_PVC_unbound\": 0,\n",
      "    \"MySQL_not_ready\": 0,\n",
      "    \"Wordpress_PVC_unbound\": 0,\n",
      "    \"Wordpress_not_ready\": 15,\n",
      "    \"Unknown_error\": 7\n",
      "}\n",
      "Polaris Scores: [42, 42, 44, 42, 42, 42, 42, 36, 42, 42, 42, 39, 42, 39, 42, 42, 42, 42, 42, 39, 42, 42, 42, 42, 42]\n"
     ]
    }
   ],
   "source": [
    "base_directory = \"./gpt4/cot/ape_prompt_detailed\"\n",
    "gpt4_cot_ape_prompt_detailed_results, gpt4_cot_ape_prompt_detailed_scores = aggregate_test_results(base_directory)\n",
    "\n",
    "print(f\"Aggregated Results: {base_directory}\")\n",
    "print(json.dumps(gpt4_cot_ape_prompt_detailed_results, indent=4))\n",
    "print(f\"Polaris Scores: {gpt4_cot_ape_prompt_detailed_scores}\")"
   ]
  },
  {
   "cell_type": "markdown",
   "metadata": {},
   "source": [
    "## GPT-3.5: CoT"
   ]
  },
  {
   "cell_type": "code",
   "execution_count": 208,
   "metadata": {},
   "outputs": [
    {
     "name": "stdout",
     "output_type": "stream",
     "text": [
      "Aggregated Results: ./gpt3_5/cot/human_prompt\n",
      "{\n",
      "    \"total_responses\": 50,\n",
      "    \"secrets_used\": 10,\n",
      "    \"base64_encoding_needed\": 8,\n",
      "    \"yaml_not_wrapped\": 0,\n",
      "    \"invalid_yaml\": 0,\n",
      "    \"kubeconform_failed\": 1,\n",
      "    \"no_mysql_or_wordpress\": 1,\n",
      "    \"deployment_failed\": 1,\n",
      "    \"duplicate_resources\": 0,\n",
      "    \"healthy\": 9,\n",
      "    \"unhealthy\": 38,\n",
      "    \"PVC_failed\": 0,\n",
      "    \"MySQL_PVC_unbound\": 0,\n",
      "    \"MySQL_not_ready\": 0,\n",
      "    \"Wordpress_PVC_unbound\": 0,\n",
      "    \"Wordpress_not_ready\": 35,\n",
      "    \"Unknown_error\": 3\n",
      "}\n",
      "Polaris Scores: [35, 32, 35, 32, 36, 32, 35, 35, 36]\n"
     ]
    }
   ],
   "source": [
    "base_directory = \"./gpt3_5/cot/human_prompt\"\n",
    "gpt3_5_cot_human_prompt_results, gpt3_5_cot_human_prompt_scores = aggregate_test_results(base_directory)\n",
    "\n",
    "print(f\"Aggregated Results: {base_directory}\")\n",
    "print(json.dumps(gpt3_5_cot_human_prompt_results, indent=4))\n",
    "print(f\"Polaris Scores: {gpt3_5_cot_human_prompt_scores}\")"
   ]
  },
  {
   "cell_type": "code",
   "execution_count": 209,
   "metadata": {},
   "outputs": [
    {
     "name": "stdout",
     "output_type": "stream",
     "text": [
      "Aggregated Results: ./gpt3_5/cot/human_prompt_detailed\n",
      "{\n",
      "    \"total_responses\": 50,\n",
      "    \"secrets_used\": 41,\n",
      "    \"base64_encoding_needed\": 22,\n",
      "    \"yaml_not_wrapped\": 0,\n",
      "    \"invalid_yaml\": 4,\n",
      "    \"kubeconform_failed\": 2,\n",
      "    \"no_mysql_or_wordpress\": 1,\n",
      "    \"deployment_failed\": 1,\n",
      "    \"duplicate_resources\": 0,\n",
      "    \"healthy\": 2,\n",
      "    \"unhealthy\": 40,\n",
      "    \"PVC_failed\": 0,\n",
      "    \"MySQL_PVC_unbound\": 0,\n",
      "    \"MySQL_not_ready\": 0,\n",
      "    \"Wordpress_PVC_unbound\": 0,\n",
      "    \"Wordpress_not_ready\": 36,\n",
      "    \"Unknown_error\": 4\n",
      "}\n",
      "Polaris Scores: [36, 39]\n"
     ]
    }
   ],
   "source": [
    "base_directory = \"./gpt3_5/cot/human_prompt_detailed\"\n",
    "gpt3_5_cot_human_prompt_detailed_results, gpt3_5_cot_human_prompt_detailed_scores = aggregate_test_results(base_directory)\n",
    "\n",
    "print(f\"Aggregated Results: {base_directory}\")\n",
    "print(json.dumps(gpt3_5_cot_human_prompt_detailed_results, indent=4))\n",
    "print(f\"Polaris Scores: {gpt3_5_cot_human_prompt_detailed_scores}\")"
   ]
  },
  {
   "cell_type": "code",
   "execution_count": 210,
   "metadata": {},
   "outputs": [
    {
     "name": "stdout",
     "output_type": "stream",
     "text": [
      "Aggregated Results: ./gpt3_5/cot/ape_prompt\n",
      "{\n",
      "    \"total_responses\": 50,\n",
      "    \"secrets_used\": 10,\n",
      "    \"base64_encoding_needed\": 9,\n",
      "    \"yaml_not_wrapped\": 0,\n",
      "    \"invalid_yaml\": 1,\n",
      "    \"kubeconform_failed\": 0,\n",
      "    \"no_mysql_or_wordpress\": 1,\n",
      "    \"deployment_failed\": 1,\n",
      "    \"duplicate_resources\": 0,\n",
      "    \"healthy\": 10,\n",
      "    \"unhealthy\": 37,\n",
      "    \"PVC_failed\": 0,\n",
      "    \"MySQL_PVC_unbound\": 0,\n",
      "    \"MySQL_not_ready\": 0,\n",
      "    \"Wordpress_PVC_unbound\": 0,\n",
      "    \"Wordpress_not_ready\": 37,\n",
      "    \"Unknown_error\": 0\n",
      "}\n",
      "Polaris Scores: [32, 32, 32, 32, 32, 32, 32, 32, 35, 32]\n"
     ]
    }
   ],
   "source": [
    "base_directory = \"./gpt3_5/cot/ape_prompt\"\n",
    "gpt3_5_cot_ape_prompt_results, gpt3_5_cot_ape_prompt_scores = aggregate_test_results(base_directory)\n",
    "\n",
    "print(f\"Aggregated Results: {base_directory}\")\n",
    "print(json.dumps(gpt3_5_cot_ape_prompt_results, indent=4))\n",
    "print(f\"Polaris Scores: {gpt3_5_cot_ape_prompt_scores}\")"
   ]
  },
  {
   "cell_type": "code",
   "execution_count": 211,
   "metadata": {},
   "outputs": [
    {
     "name": "stdout",
     "output_type": "stream",
     "text": [
      "Aggregated Results: ./gpt3_5/cot/ape_prompt_detailed\n",
      "{\n",
      "    \"total_responses\": 50,\n",
      "    \"secrets_used\": 47,\n",
      "    \"base64_encoding_needed\": 24,\n",
      "    \"yaml_not_wrapped\": 0,\n",
      "    \"invalid_yaml\": 0,\n",
      "    \"kubeconform_failed\": 1,\n",
      "    \"no_mysql_or_wordpress\": 0,\n",
      "    \"deployment_failed\": 3,\n",
      "    \"duplicate_resources\": 0,\n",
      "    \"healthy\": 7,\n",
      "    \"unhealthy\": 39,\n",
      "    \"PVC_failed\": 0,\n",
      "    \"MySQL_PVC_unbound\": 0,\n",
      "    \"MySQL_not_ready\": 0,\n",
      "    \"Wordpress_PVC_unbound\": 0,\n",
      "    \"Wordpress_not_ready\": 32,\n",
      "    \"Unknown_error\": 7\n",
      "}\n",
      "Polaris Scores: [36, 36, 36, 36, 36, 36, 39]\n"
     ]
    }
   ],
   "source": [
    "base_directory = \"./gpt3_5/cot/ape_prompt_detailed\"\n",
    "gpt3_5_cot_ape_prompt_detailed_results, gpt3_5_cot_ape_prompt_detailed_scores = aggregate_test_results(base_directory)\n",
    "\n",
    "print(f\"Aggregated Results: {base_directory}\")\n",
    "print(json.dumps(gpt3_5_cot_ape_prompt_detailed_results, indent=4))\n",
    "print(f\"Polaris Scores: {gpt3_5_cot_ape_prompt_detailed_scores}\")"
   ]
  },
  {
   "cell_type": "markdown",
   "metadata": {},
   "source": [
    "## GPT-4o: ToT"
   ]
  },
  {
   "cell_type": "code",
   "execution_count": null,
   "metadata": {},
   "outputs": [
    {
     "name": "stdout",
     "output_type": "stream",
     "text": [
      "Aggregated Results: ./gpt4o/tot/tot_prompt_1\n",
      "{\n",
      "    \"total_responses\": 50,\n",
      "    \"secrets_used\": 29,\n",
      "    \"base64_encoding_needed\": 1,\n",
      "    \"yaml_not_wrapped\": 0,\n",
      "    \"invalid_yaml\": 0,\n",
      "    \"kubeconform_failed\": 0,\n",
      "    \"no_mysql_or_wordpress\": 1,\n",
      "    \"deployment_failed\": 0,\n",
      "    \"duplicate_resources\": 0,\n",
      "    \"healthy\": 30,\n",
      "    \"unhealthy\": 19,\n",
      "    \"PVC_failed\": 1,\n",
      "    \"MySQL_PVC_unbound\": 0,\n",
      "    \"MySQL_not_ready\": 0,\n",
      "    \"Wordpress_PVC_unbound\": 0,\n",
      "    \"Wordpress_not_ready\": 17,\n",
      "    \"Unknown_error\": 1\n",
      "}\n",
      "Polaris Scores: [40, 43, 40, 35, 43, 35, 37, 35, 35, 37, 37, 35, 40, 40, 35, 35, 43, 37, 37, 40, 35, 40, 40, 40, 40, 35, 40, 40, 37, 40]\n"
     ]
    }
   ],
   "source": [
    "base_directory = \"./gpt4o/tot/tot_prompt_1\"\n",
    "gpt4o_tot_prompt_1_results, gpt4o_tot_prompt_1_scores = aggregate_test_results(base_directory)\n",
    "\n",
    "print(f\"Aggregated Results: {base_directory}\")\n",
    "print(json.dumps(gpt4o_tot_prompt_1_results, indent=4))\n",
    "print(f\"Polaris Scores: {gpt4o_tot_prompt_1_scores}\")\n"
   ]
  },
  {
   "cell_type": "code",
   "execution_count": 327,
   "metadata": {},
   "outputs": [
    {
     "ename": "Exception",
     "evalue": "Error count does not match for unhealthy ./gpt4o/tot/tot_prompt_2",
     "output_type": "error",
     "traceback": [
      "\u001b[0;31m---------------------------------------------------------------------------\u001b[0m",
      "\u001b[0;31mException\u001b[0m                                 Traceback (most recent call last)",
      "Cell \u001b[0;32mIn[327], line 2\u001b[0m\n\u001b[1;32m      1\u001b[0m base_directory \u001b[38;5;241m=\u001b[39m \u001b[38;5;124m\"\u001b[39m\u001b[38;5;124m./gpt4o/tot/tot_prompt_2\u001b[39m\u001b[38;5;124m\"\u001b[39m\n\u001b[0;32m----> 2\u001b[0m gpt4o_tot_prompt_2_results, gpt4o_tot_prompt_2_scores \u001b[38;5;241m=\u001b[39m \u001b[43maggregate_test_results\u001b[49m\u001b[43m(\u001b[49m\u001b[43mbase_directory\u001b[49m\u001b[43m)\u001b[49m\n\u001b[1;32m      4\u001b[0m \u001b[38;5;28mprint\u001b[39m(\u001b[38;5;124mf\u001b[39m\u001b[38;5;124m\"\u001b[39m\u001b[38;5;124mAggregated Results: \u001b[39m\u001b[38;5;132;01m{\u001b[39;00mbase_directory\u001b[38;5;132;01m}\u001b[39;00m\u001b[38;5;124m\"\u001b[39m)\n\u001b[1;32m      5\u001b[0m \u001b[38;5;28mprint\u001b[39m(json\u001b[38;5;241m.\u001b[39mdumps(gpt4o_tot_prompt_2_results, indent\u001b[38;5;241m=\u001b[39m\u001b[38;5;241m4\u001b[39m))\n",
      "Cell \u001b[0;32mIn[321], line 111\u001b[0m, in \u001b[0;36maggregate_test_results\u001b[0;34m(base_directory)\u001b[0m\n\u001b[1;32m    109\u001b[0m             \u001b[38;5;28;01mraise\u001b[39;00m \u001b[38;5;167;01mException\u001b[39;00m(\u001b[38;5;124mf\u001b[39m\u001b[38;5;124m\"\u001b[39m\u001b[38;5;124mtesting.json not found in \u001b[39m\u001b[38;5;132;01m{\u001b[39;00mresponse_path\u001b[38;5;132;01m}\u001b[39;00m\u001b[38;5;124m\"\u001b[39m)\n\u001b[1;32m    110\u001b[0m \u001b[38;5;28;01mif\u001b[39;00m (aggregated_results[\u001b[38;5;124m\"\u001b[39m\u001b[38;5;124munhealthy\u001b[39m\u001b[38;5;124m\"\u001b[39m] \u001b[38;5;241m!=\u001b[39m aggregated_results[\u001b[38;5;124m\"\u001b[39m\u001b[38;5;124mPVC_failed\u001b[39m\u001b[38;5;124m\"\u001b[39m] \u001b[38;5;241m+\u001b[39m aggregated_results[\u001b[38;5;124m\"\u001b[39m\u001b[38;5;124mMySQL_PVC_unbound\u001b[39m\u001b[38;5;124m\"\u001b[39m] \u001b[38;5;241m+\u001b[39m aggregated_results[\u001b[38;5;124m\"\u001b[39m\u001b[38;5;124mMySQL_not_ready\u001b[39m\u001b[38;5;124m\"\u001b[39m] \u001b[38;5;241m+\u001b[39m aggregated_results[\u001b[38;5;124m\"\u001b[39m\u001b[38;5;124mWordpress_PVC_unbound\u001b[39m\u001b[38;5;124m\"\u001b[39m] \u001b[38;5;241m+\u001b[39m aggregated_results[\u001b[38;5;124m\"\u001b[39m\u001b[38;5;124mWordpress_not_ready\u001b[39m\u001b[38;5;124m\"\u001b[39m] \u001b[38;5;241m+\u001b[39m aggregated_results[\u001b[38;5;124m\"\u001b[39m\u001b[38;5;124mUnknown_error\u001b[39m\u001b[38;5;124m\"\u001b[39m]):\n\u001b[0;32m--> 111\u001b[0m     \u001b[38;5;28;01mraise\u001b[39;00m \u001b[38;5;167;01mException\u001b[39;00m(\u001b[38;5;124mf\u001b[39m\u001b[38;5;124m\"\u001b[39m\u001b[38;5;124mError count does not match for unhealthy \u001b[39m\u001b[38;5;132;01m{\u001b[39;00mbase_directory\u001b[38;5;132;01m}\u001b[39;00m\u001b[38;5;124m\"\u001b[39m)\n\u001b[1;32m    112\u001b[0m \u001b[38;5;28;01mif\u001b[39;00m (aggregated_results[\u001b[38;5;124m\"\u001b[39m\u001b[38;5;124mtotal_responses\u001b[39m\u001b[38;5;124m\"\u001b[39m] \u001b[38;5;241m!=\u001b[39m aggregated_results[\u001b[38;5;124m\"\u001b[39m\u001b[38;5;124mhealthy\u001b[39m\u001b[38;5;124m\"\u001b[39m] \u001b[38;5;241m+\u001b[39m aggregated_results[\u001b[38;5;124m\"\u001b[39m\u001b[38;5;124munhealthy\u001b[39m\u001b[38;5;124m\"\u001b[39m] \u001b[38;5;241m+\u001b[39m aggregated_results[\u001b[38;5;124m\"\u001b[39m\u001b[38;5;124mdeployment_failed\u001b[39m\u001b[38;5;124m\"\u001b[39m] \u001b[38;5;241m+\u001b[39m aggregated_results[\u001b[38;5;124m\"\u001b[39m\u001b[38;5;124mno_mysql_or_wordpress\u001b[39m\u001b[38;5;124m\"\u001b[39m] \u001b[38;5;241m+\u001b[39m aggregated_results[\u001b[38;5;124m\"\u001b[39m\u001b[38;5;124mkubeconform_failed\u001b[39m\u001b[38;5;124m\"\u001b[39m] \u001b[38;5;241m+\u001b[39m aggregated_results[\u001b[38;5;124m\"\u001b[39m\u001b[38;5;124minvalid_yaml\u001b[39m\u001b[38;5;124m\"\u001b[39m] \u001b[38;5;241m+\u001b[39m aggregated_results[\u001b[38;5;124m\"\u001b[39m\u001b[38;5;124myaml_not_wrapped\u001b[39m\u001b[38;5;124m\"\u001b[39m]):\n\u001b[1;32m    113\u001b[0m     \u001b[38;5;28;01mraise\u001b[39;00m \u001b[38;5;167;01mException\u001b[39;00m(\u001b[38;5;124mf\u001b[39m\u001b[38;5;124m\"\u001b[39m\u001b[38;5;124mError count does not match \u001b[39m\u001b[38;5;132;01m{\u001b[39;00mbase_directory\u001b[38;5;132;01m}\u001b[39;00m\u001b[38;5;124m\"\u001b[39m)\n",
      "\u001b[0;31mException\u001b[0m: Error count does not match for unhealthy ./gpt4o/tot/tot_prompt_2"
     ]
    }
   ],
   "source": [
    "base_directory = \"./gpt4o/tot/tot_prompt_2\"\n",
    "gpt4o_tot_prompt_2_results, gpt4o_tot_prompt_2_scores = aggregate_test_results(base_directory)\n",
    "\n",
    "print(f\"Aggregated Results: {base_directory}\")\n",
    "print(json.dumps(gpt4o_tot_prompt_2_results, indent=4))\n",
    "print(f\"Polaris Scores: {gpt4o_tot_prompt_2_scores}\")"
   ]
  },
  {
   "cell_type": "code",
   "execution_count": 328,
   "metadata": {},
   "outputs": [
    {
     "name": "stdout",
     "output_type": "stream",
     "text": [
      "Aggregated Results: ./gpt4o/tot/tot_prompt_3\n",
      "{\n",
      "    \"total_responses\": 50,\n",
      "    \"secrets_used\": 20,\n",
      "    \"base64_encoding_needed\": 1,\n",
      "    \"yaml_not_wrapped\": 0,\n",
      "    \"invalid_yaml\": 3,\n",
      "    \"kubeconform_failed\": 1,\n",
      "    \"no_mysql_or_wordpress\": 1,\n",
      "    \"deployment_failed\": 1,\n",
      "    \"duplicate_resources\": 1,\n",
      "    \"healthy\": 26,\n",
      "    \"unhealthy\": 18,\n",
      "    \"PVC_failed\": 2,\n",
      "    \"MySQL_PVC_unbound\": 0,\n",
      "    \"MySQL_not_ready\": 0,\n",
      "    \"Wordpress_PVC_unbound\": 0,\n",
      "    \"Wordpress_not_ready\": 16,\n",
      "    \"Unknown_error\": 0\n",
      "}\n",
      "Polaris Scores: [40, 35, 37, 37, 37, 43, 40, 40, 40, 40, 40, 37, 35, 40, 35, 37, 37, 37, 40, 40, 37, 37, 35, 40, 40, 37]\n"
     ]
    }
   ],
   "source": [
    "base_directory = \"./gpt4o/tot/tot_prompt_3\"\n",
    "gpt4o_tot_prompt_3_results, gpt4o_tot_prompt_3_scores = aggregate_test_results(base_directory)\n",
    "\n",
    "print(f\"Aggregated Results: {base_directory}\")\n",
    "print(json.dumps(gpt4o_tot_prompt_3_results, indent=4))\n",
    "print(f\"Polaris Scores: {gpt4o_tot_prompt_3_scores}\")"
   ]
  },
  {
   "cell_type": "code",
   "execution_count": null,
   "metadata": {},
   "outputs": [
    {
     "name": "stdout",
     "output_type": "stream",
     "text": [
      "Aggregated Results: ./gpt4o/tot/tot_detailed_prompt_1\n",
      "{\n",
      "    \"total_responses\": 50,\n",
      "    \"secrets_used\": 47,\n",
      "    \"base64_encoding_needed\": 8,\n",
      "    \"yaml_not_wrapped\": 0,\n",
      "    \"invalid_yaml\": 0,\n",
      "    \"kubeconform_failed\": 0,\n",
      "    \"no_mysql_or_wordpress\": 0,\n",
      "    \"deployment_failed\": 0,\n",
      "    \"duplicate_resources\": 0,\n",
      "    \"healthy\": 36,\n",
      "    \"unhealthy\": 14,\n",
      "    \"PVC_failed\": 1,\n",
      "    \"MySQL_PVC_unbound\": 0,\n",
      "    \"MySQL_not_ready\": 0,\n",
      "    \"Wordpress_PVC_unbound\": 0,\n",
      "    \"Wordpress_not_ready\": 11,\n",
      "    \"Unknown_error\": 2\n",
      "}\n",
      "Polaris Scores: [42, 42, 44, 44, 44, 44, 42, 42, 44, 42, 42, 42, 42, 42, 42, 44, 44, 42, 44, 42, 42, 42, 42, 42, 42, 43, 42, 44, 42, 42, 44, 44, 42, 44, 39, 42]\n"
     ]
    }
   ],
   "source": [
    "base_directory = \"./gpt4o/tot/tot_detailed_prompt_1\"\n",
    "gpt4o_tot_detailed_prompt_1_results, gpt4o_tot_detailed_prompt_1_scores = aggregate_test_results(base_directory)\n",
    "\n",
    "print(f\"Aggregated Results: {base_directory}\")\n",
    "print(json.dumps(gpt4o_tot_detailed_prompt_1_results, indent=4))\n",
    "print(f\"Polaris Scores: {gpt4o_tot_detailed_prompt_1_scores}\")"
   ]
  },
  {
   "cell_type": "code",
   "execution_count": null,
   "metadata": {},
   "outputs": [
    {
     "name": "stdout",
     "output_type": "stream",
     "text": [
      "Aggregated Results: ./gpt4o/tot/tot_detailed_prompt_2\n",
      "{\n",
      "    \"total_responses\": 50,\n",
      "    \"secrets_used\": 50,\n",
      "    \"base64_encoding_needed\": 6,\n",
      "    \"yaml_not_wrapped\": 0,\n",
      "    \"invalid_yaml\": 0,\n",
      "    \"kubeconform_failed\": 0,\n",
      "    \"no_mysql_or_wordpress\": 0,\n",
      "    \"deployment_failed\": 0,\n",
      "    \"duplicate_resources\": 0,\n",
      "    \"healthy\": 38,\n",
      "    \"unhealthy\": 12,\n",
      "    \"PVC_failed\": 1,\n",
      "    \"MySQL_PVC_unbound\": 0,\n",
      "    \"MySQL_not_ready\": 0,\n",
      "    \"Wordpress_PVC_unbound\": 0,\n",
      "    \"Wordpress_not_ready\": 9,\n",
      "    \"Unknown_error\": 2\n",
      "}\n",
      "Polaris Scores: [42, 42, 42, 42, 44, 42, 42, 42, 42, 42, 42, 42, 40, 42, 42, 42, 42, 42, 42, 42, 42, 42, 42, 42, 42, 42, 44, 42, 44, 42, 42, 42, 42, 39, 42, 42, 42, 42]\n"
     ]
    }
   ],
   "source": [
    "base_directory = \"./gpt4o/tot/tot_detailed_prompt_2\"\n",
    "gpt4o_tot_detailed_prompt_2_results, gpt4o_tot_detailed_prompt_2_scores = aggregate_test_results(base_directory)\n",
    "\n",
    "print(f\"Aggregated Results: {base_directory}\")\n",
    "print(json.dumps(gpt4o_tot_detailed_prompt_2_results, indent=4))\n",
    "print(f\"Polaris Scores: {gpt4o_tot_detailed_prompt_2_scores}\")"
   ]
  },
  {
   "cell_type": "code",
   "execution_count": null,
   "metadata": {},
   "outputs": [
    {
     "name": "stdout",
     "output_type": "stream",
     "text": [
      "Aggregated Results: ./gpt4o/tot/tot_detailed_prompt_3\n",
      "{\n",
      "    \"total_responses\": 50,\n",
      "    \"secrets_used\": 45,\n",
      "    \"base64_encoding_needed\": 6,\n",
      "    \"yaml_not_wrapped\": 0,\n",
      "    \"invalid_yaml\": 0,\n",
      "    \"kubeconform_failed\": 1,\n",
      "    \"no_mysql_or_wordpress\": 1,\n",
      "    \"deployment_failed\": 0,\n",
      "    \"duplicate_resources\": 0,\n",
      "    \"healthy\": 30,\n",
      "    \"unhealthy\": 18,\n",
      "    \"PVC_failed\": 0,\n",
      "    \"MySQL_PVC_unbound\": 0,\n",
      "    \"MySQL_not_ready\": 0,\n",
      "    \"Wordpress_PVC_unbound\": 0,\n",
      "    \"Wordpress_not_ready\": 15,\n",
      "    \"Unknown_error\": 3\n",
      "}\n",
      "Polaris Scores: [42, 42, 42, 42, 42, 42, 42, 42, 42, 42, 42, 42, 42, 42, 42, 42, 39, 42, 42, 42, 42, 42, 42, 44, 42, 42, 42, 42, 42, 42]\n"
     ]
    }
   ],
   "source": [
    "base_directory = \"./gpt4o/tot/tot_detailed_prompt_3\"\n",
    "gpt4o_tot_detailed_prompt_3_results, gpt4o_tot_detailed_prompt_3_scores = aggregate_test_results(base_directory)\n",
    "\n",
    "print(f\"Aggregated Results: {base_directory}\")\n",
    "print(json.dumps(gpt4o_tot_detailed_prompt_3_results, indent=4))\n",
    "print(f\"Polaris Scores: {gpt4o_tot_detailed_prompt_3_scores}\")"
   ]
  },
  {
   "cell_type": "markdown",
   "metadata": {},
   "source": [
    "## GPT-4: ToT"
   ]
  },
  {
   "cell_type": "code",
   "execution_count": 245,
   "metadata": {},
   "outputs": [
    {
     "name": "stdout",
     "output_type": "stream",
     "text": [
      "Aggregated Results: ./gpt4/tot/tot_prompt_1\n",
      "{\n",
      "    \"total_responses\": 50,\n",
      "    \"secrets_used\": 9,\n",
      "    \"base64_encoding_needed\": 3,\n",
      "    \"yaml_not_wrapped\": 0,\n",
      "    \"invalid_yaml\": 2,\n",
      "    \"kubeconform_failed\": 0,\n",
      "    \"no_mysql_or_wordpress\": 4,\n",
      "    \"deployment_failed\": 0,\n",
      "    \"duplicate_resources\": 0,\n",
      "    \"healthy\": 13,\n",
      "    \"unhealthy\": 31,\n",
      "    \"PVC_failed\": 0,\n",
      "    \"MySQL_PVC_unbound\": 0,\n",
      "    \"MySQL_not_ready\": 0,\n",
      "    \"Wordpress_PVC_unbound\": 0,\n",
      "    \"Wordpress_not_ready\": 24,\n",
      "    \"Unknown_error\": 7\n",
      "}\n",
      "Polaris Scores: [37, 35, 37, 35, 35, 35, 35, 35, 35, 35, 35, 35, 35]\n"
     ]
    }
   ],
   "source": [
    "base_directory = \"./gpt4/tot/tot_prompt_1\"\n",
    "gpt4_tot_prompt_1_results, gpt4_tot_prompt_1_scores = aggregate_test_results(base_directory)\n",
    "\n",
    "print(f\"Aggregated Results: {base_directory}\")\n",
    "print(json.dumps(gpt4_tot_prompt_1_results, indent=4))\n",
    "print(f\"Polaris Scores: {gpt4_tot_prompt_1_scores}\")"
   ]
  },
  {
   "cell_type": "code",
   "execution_count": 246,
   "metadata": {},
   "outputs": [
    {
     "name": "stdout",
     "output_type": "stream",
     "text": [
      "Aggregated Results: ./gpt4/tot/tot_prompt_2\n",
      "{\n",
      "    \"total_responses\": 50,\n",
      "    \"secrets_used\": 20,\n",
      "    \"base64_encoding_needed\": 6,\n",
      "    \"yaml_not_wrapped\": 0,\n",
      "    \"invalid_yaml\": 2,\n",
      "    \"kubeconform_failed\": 9,\n",
      "    \"no_mysql_or_wordpress\": 2,\n",
      "    \"deployment_failed\": 24,\n",
      "    \"duplicate_resources\": 23,\n",
      "    \"healthy\": 3,\n",
      "    \"unhealthy\": 10,\n",
      "    \"PVC_failed\": 0,\n",
      "    \"MySQL_PVC_unbound\": 0,\n",
      "    \"MySQL_not_ready\": 0,\n",
      "    \"Wordpress_PVC_unbound\": 0,\n",
      "    \"Wordpress_not_ready\": 4,\n",
      "    \"Unknown_error\": 6\n",
      "}\n",
      "Polaris Scores: [35, 40, 35]\n"
     ]
    }
   ],
   "source": [
    "base_directory = \"./gpt4/tot/tot_prompt_2\"\n",
    "gpt4_tot_prompt_2_results, gpt4_tot_prompt_2_scores = aggregate_test_results(base_directory)\n",
    "\n",
    "print(f\"Aggregated Results: {base_directory}\")\n",
    "print(json.dumps(gpt4_tot_prompt_2_results, indent=4))\n",
    "print(f\"Polaris Scores: {gpt4_tot_prompt_2_scores}\")"
   ]
  },
  {
   "cell_type": "code",
   "execution_count": 247,
   "metadata": {},
   "outputs": [
    {
     "name": "stdout",
     "output_type": "stream",
     "text": [
      "YAML not wrapped in ./gpt4/tot/tot_prompt_3/response-25\n",
      "YAML not wrapped in ./gpt4/tot/tot_prompt_3/response-48\n"
     ]
    },
    {
     "ename": "Exception",
     "evalue": "Error count does not match ./gpt4/tot/tot_prompt_3",
     "output_type": "error",
     "traceback": [
      "\u001b[0;31m---------------------------------------------------------------------------\u001b[0m",
      "\u001b[0;31mException\u001b[0m                                 Traceback (most recent call last)",
      "Cell \u001b[0;32mIn[247], line 2\u001b[0m\n\u001b[1;32m      1\u001b[0m base_directory \u001b[38;5;241m=\u001b[39m \u001b[38;5;124m\"\u001b[39m\u001b[38;5;124m./gpt4/tot/tot_prompt_3\u001b[39m\u001b[38;5;124m\"\u001b[39m\n\u001b[0;32m----> 2\u001b[0m gpt4_tot_prompt_3_results, gpt4_tot_prompt_3_scores \u001b[38;5;241m=\u001b[39m \u001b[43maggregate_test_results\u001b[49m\u001b[43m(\u001b[49m\u001b[43mbase_directory\u001b[49m\u001b[43m)\u001b[49m\n\u001b[1;32m      4\u001b[0m \u001b[38;5;28mprint\u001b[39m(\u001b[38;5;124mf\u001b[39m\u001b[38;5;124m\"\u001b[39m\u001b[38;5;124mAggregated Results: \u001b[39m\u001b[38;5;132;01m{\u001b[39;00mbase_directory\u001b[38;5;132;01m}\u001b[39;00m\u001b[38;5;124m\"\u001b[39m)\n\u001b[1;32m      5\u001b[0m \u001b[38;5;28mprint\u001b[39m(json\u001b[38;5;241m.\u001b[39mdumps(gpt4_tot_prompt_3_results, indent\u001b[38;5;241m=\u001b[39m\u001b[38;5;241m4\u001b[39m))\n",
      "Cell \u001b[0;32mIn[178], line 113\u001b[0m, in \u001b[0;36maggregate_test_results\u001b[0;34m(base_directory)\u001b[0m\n\u001b[1;32m    111\u001b[0m     \u001b[38;5;28;01mraise\u001b[39;00m \u001b[38;5;167;01mException\u001b[39;00m(\u001b[38;5;124mf\u001b[39m\u001b[38;5;124m\"\u001b[39m\u001b[38;5;124mError count does not match \u001b[39m\u001b[38;5;132;01m{\u001b[39;00mbase_directory\u001b[38;5;132;01m}\u001b[39;00m\u001b[38;5;124m\"\u001b[39m)\n\u001b[1;32m    112\u001b[0m \u001b[38;5;28;01mif\u001b[39;00m (aggregated_results[\u001b[38;5;124m\"\u001b[39m\u001b[38;5;124mtotal_responses\u001b[39m\u001b[38;5;124m\"\u001b[39m] \u001b[38;5;241m!=\u001b[39m aggregated_results[\u001b[38;5;124m\"\u001b[39m\u001b[38;5;124mhealthy\u001b[39m\u001b[38;5;124m\"\u001b[39m] \u001b[38;5;241m+\u001b[39m aggregated_results[\u001b[38;5;124m\"\u001b[39m\u001b[38;5;124munhealthy\u001b[39m\u001b[38;5;124m\"\u001b[39m] \u001b[38;5;241m+\u001b[39m aggregated_results[\u001b[38;5;124m\"\u001b[39m\u001b[38;5;124mdeployment_failed\u001b[39m\u001b[38;5;124m\"\u001b[39m] \u001b[38;5;241m+\u001b[39m aggregated_results[\u001b[38;5;124m\"\u001b[39m\u001b[38;5;124mno_mysql_or_wordpress\u001b[39m\u001b[38;5;124m\"\u001b[39m] \u001b[38;5;241m+\u001b[39m aggregated_results[\u001b[38;5;124m\"\u001b[39m\u001b[38;5;124mkubeconform_failed\u001b[39m\u001b[38;5;124m\"\u001b[39m] \u001b[38;5;241m+\u001b[39m aggregated_results[\u001b[38;5;124m\"\u001b[39m\u001b[38;5;124minvalid_yaml\u001b[39m\u001b[38;5;124m\"\u001b[39m] \u001b[38;5;241m+\u001b[39m aggregated_results[\u001b[38;5;124m\"\u001b[39m\u001b[38;5;124myaml_not_wrapped\u001b[39m\u001b[38;5;124m\"\u001b[39m]):\n\u001b[0;32m--> 113\u001b[0m     \u001b[38;5;28;01mraise\u001b[39;00m \u001b[38;5;167;01mException\u001b[39;00m(\u001b[38;5;124mf\u001b[39m\u001b[38;5;124m\"\u001b[39m\u001b[38;5;124mError count does not match \u001b[39m\u001b[38;5;132;01m{\u001b[39;00mbase_directory\u001b[38;5;132;01m}\u001b[39;00m\u001b[38;5;124m\"\u001b[39m)\n\u001b[1;32m    114\u001b[0m \u001b[38;5;28;01mreturn\u001b[39;00m aggregated_results, scores_healthy\n",
      "\u001b[0;31mException\u001b[0m: Error count does not match ./gpt4/tot/tot_prompt_3"
     ]
    }
   ],
   "source": [
    "base_directory = \"./gpt4/tot/tot_prompt_3\"\n",
    "gpt4_tot_prompt_3_results, gpt4_tot_prompt_3_scores = aggregate_test_results(base_directory)\n",
    "\n",
    "print(f\"Aggregated Results: {base_directory}\")\n",
    "print(json.dumps(gpt4_tot_prompt_3_results, indent=4))\n",
    "print(f\"Polaris Scores: {gpt4_tot_prompt_3_scores}\")"
   ]
  },
  {
   "cell_type": "code",
   "execution_count": 136,
   "metadata": {},
   "outputs": [
    {
     "name": "stdout",
     "output_type": "stream",
     "text": [
      "Aggregated Results: ./gpt4/tot/tot_detailed_prompt_1\n",
      "{\n",
      "    \"total_responses\": 50,\n",
      "    \"secrets_used\": 32,\n",
      "    \"base64_encoding_needed\": 14,\n",
      "    \"yaml_not_wrapped\": 0,\n",
      "    \"invalid_yaml\": 0,\n",
      "    \"kubeconform_failed\": 3,\n",
      "    \"no_mysql_or_wordpress\": 14,\n",
      "    \"deployment_failed\": 0,\n",
      "    \"duplicate_resources\": 0,\n",
      "    \"healthy\": 18,\n",
      "    \"unhealthy\": 15,\n",
      "    \"PVC_failed\": 0,\n",
      "    \"MySQL_PVC_unbound\": 0,\n",
      "    \"MySQL_not_ready\": 0,\n",
      "    \"Wordpress_PVC_unbound\": 0,\n",
      "    \"Wordpress_not_ready\": 13,\n",
      "    \"Unknown_error\": 2\n",
      "}\n",
      "Polaris Scores: [42, 44, 42, 42, 42, 44, 42, 42, 42, 39, 42, 44, 42, 42, 42, 39, 43, 42]\n"
     ]
    }
   ],
   "source": [
    "base_directory = \"./gpt4/tot/tot_detailed_prompt_1\"\n",
    "gpt4_tot_detailed_prompt_1_results, gpt4_tot_detailed_prompt_1_scores = aggregate_test_results(base_directory)\n",
    "\n",
    "print(f\"Aggregated Results: {base_directory}\")\n",
    "print(json.dumps(gpt4_tot_detailed_prompt_1_results, indent=4))\n",
    "print(f\"Polaris Scores: {gpt4_tot_detailed_prompt_1_scores}\")"
   ]
  },
  {
   "cell_type": "code",
   "execution_count": 134,
   "metadata": {},
   "outputs": [
    {
     "name": "stdout",
     "output_type": "stream",
     "text": [
      "Aggregated Results: ./gpt4/tot/tot_detailed_prompt_2\n",
      "{\n",
      "    \"total_responses\": 50,\n",
      "    \"secrets_used\": 30,\n",
      "    \"base64_encoding_needed\": 8,\n",
      "    \"yaml_not_wrapped\": 0,\n",
      "    \"invalid_yaml\": 5,\n",
      "    \"kubeconform_failed\": 6,\n",
      "    \"no_mysql_or_wordpress\": 8,\n",
      "    \"deployment_failed\": 9,\n",
      "    \"duplicate_resources\": 9,\n",
      "    \"healthy\": 8,\n",
      "    \"unhealthy\": 14,\n",
      "    \"PVC_failed\": 0,\n",
      "    \"MySQL_PVC_unbound\": 0,\n",
      "    \"MySQL_not_ready\": 0,\n",
      "    \"Wordpress_PVC_unbound\": 0,\n",
      "    \"Wordpress_not_ready\": 7,\n",
      "    \"Unknown_error\": 7\n",
      "}\n",
      "Polaris Scores: [44, 42, 42, 42, 42, 40, 44, 42]\n"
     ]
    }
   ],
   "source": [
    "base_directory = \"./gpt4/tot/tot_detailed_prompt_2\"\n",
    "gpt4_tot_detailed_prompt_2_results, gpt4_tot_detailed_prompt_2_scores = aggregate_test_results(base_directory)\n",
    "\n",
    "print(f\"Aggregated Results: {base_directory}\")\n",
    "print(json.dumps(gpt4_tot_detailed_prompt_2_results, indent=4))\n",
    "print(f\"Polaris Scores: {gpt4_tot_detailed_prompt_2_scores}\")"
   ]
  },
  {
   "cell_type": "code",
   "execution_count": 135,
   "metadata": {},
   "outputs": [
    {
     "name": "stdout",
     "output_type": "stream",
     "text": [
      "YAML not wrapped in ./gpt4/tot/tot_detailed_prompt_3/response-22\n",
      "YAML not wrapped in ./gpt4/tot/tot_detailed_prompt_3/response-45\n",
      "YAML not wrapped in ./gpt4/tot/tot_detailed_prompt_3/response-16\n",
      "YAML not wrapped in ./gpt4/tot/tot_detailed_prompt_3/response-37\n",
      "YAML not wrapped in ./gpt4/tot/tot_detailed_prompt_3/response-39\n",
      "YAML not wrapped in ./gpt4/tot/tot_detailed_prompt_3/response-30\n",
      "YAML not wrapped in ./gpt4/tot/tot_detailed_prompt_3/response-35\n",
      "Aggregated Results: ./gpt4/tot/tot_detailed_prompt_3\n",
      "{\n",
      "    \"total_responses\": 50,\n",
      "    \"secrets_used\": 19,\n",
      "    \"base64_encoding_needed\": 8,\n",
      "    \"yaml_not_wrapped\": 7,\n",
      "    \"invalid_yaml\": 12,\n",
      "    \"kubeconform_failed\": 4,\n",
      "    \"no_mysql_or_wordpress\": 15,\n",
      "    \"deployment_failed\": 3,\n",
      "    \"duplicate_resources\": 2,\n",
      "    \"healthy\": 1,\n",
      "    \"unhealthy\": 15,\n",
      "    \"PVC_failed\": 0,\n",
      "    \"MySQL_PVC_unbound\": 0,\n",
      "    \"MySQL_not_ready\": 0,\n",
      "    \"Wordpress_PVC_unbound\": 0,\n",
      "    \"Wordpress_not_ready\": 8,\n",
      "    \"Unknown_error\": 7\n",
      "}\n",
      "Polaris Scores: [44]\n"
     ]
    }
   ],
   "source": [
    "base_directory = \"./gpt4/tot/tot_detailed_prompt_3\"\n",
    "gpt4_tot_detailed_prompt_3_results, gpt4_tot_detailed_prompt_3_scores = aggregate_test_results(base_directory)\n",
    "\n",
    "print(f\"Aggregated Results: {base_directory}\")\n",
    "print(json.dumps(gpt4_tot_detailed_prompt_3_results, indent=4))\n",
    "print(f\"Polaris Scores: {gpt4_tot_detailed_prompt_3_scores}\")"
   ]
  },
  {
   "cell_type": "markdown",
   "metadata": {},
   "source": [
    "## GPT-3.5: ToT"
   ]
  },
  {
   "cell_type": "code",
   "execution_count": null,
   "metadata": {},
   "outputs": [
    {
     "name": "stdout",
     "output_type": "stream",
     "text": [
      "Aggregated Results: ./gpt3_5/tot/tot_prompt_1\n",
      "{\n",
      "    \"total_responses\": 50,\n",
      "    \"secrets_used\": 1,\n",
      "    \"base64_encoding_needed\": 1,\n",
      "    \"yaml_not_wrapped\": 0,\n",
      "    \"invalid_yaml\": 2,\n",
      "    \"kubeconform_failed\": 5,\n",
      "    \"no_mysql_or_wordpress\": 20,\n",
      "    \"deployment_failed\": 5,\n",
      "    \"duplicate_resources\": 4,\n",
      "    \"healthy\": 0,\n",
      "    \"unhealthy\": 18,\n",
      "    \"PVC_failed\": 0,\n",
      "    \"MySQL_PVC_unbound\": 0,\n",
      "    \"MySQL_not_ready\": 1,\n",
      "    \"Wordpress_PVC_unbound\": 0,\n",
      "    \"Wordpress_not_ready\": 10,\n",
      "    \"Unknown_error\": 7\n",
      "}\n",
      "Polaris Scores: []\n"
     ]
    }
   ],
   "source": [
    "base_directory = \"./gpt3_5/tot/tot_prompt_1\"\n",
    "gpt3_5_tot_prompt_1_results, gpt3_5_tot_prompt_1_scores = aggregate_test_results(base_directory)\n",
    "\n",
    "print(f\"Aggregated Results: {base_directory}\")\n",
    "print(json.dumps(gpt3_5_tot_prompt_1_results, indent=4))\n",
    "print(f\"Polaris Scores: {gpt3_5_tot_prompt_1_scores}\")"
   ]
  },
  {
   "cell_type": "code",
   "execution_count": null,
   "metadata": {},
   "outputs": [
    {
     "name": "stdout",
     "output_type": "stream",
     "text": [
      "Aggregated Results: ./gpt3_5/tot/tot_prompt_2\n",
      "{\n",
      "    \"total_responses\": 50,\n",
      "    \"secrets_used\": 1,\n",
      "    \"base64_encoding_needed\": 1,\n",
      "    \"yaml_not_wrapped\": 0,\n",
      "    \"invalid_yaml\": 1,\n",
      "    \"kubeconform_failed\": 1,\n",
      "    \"no_mysql_or_wordpress\": 21,\n",
      "    \"deployment_failed\": 9,\n",
      "    \"duplicate_resources\": 8,\n",
      "    \"healthy\": 0,\n",
      "    \"unhealthy\": 18,\n",
      "    \"PVC_failed\": 1,\n",
      "    \"MySQL_PVC_unbound\": 0,\n",
      "    \"MySQL_not_ready\": 0,\n",
      "    \"Wordpress_PVC_unbound\": 0,\n",
      "    \"Wordpress_not_ready\": 10,\n",
      "    \"Unknown_error\": 7\n",
      "}\n",
      "Polaris Scores: []\n"
     ]
    }
   ],
   "source": [
    "base_directory = \"./gpt3_5/tot/tot_prompt_2\"\n",
    "gpt3_5_tot_prompt_2_results, gpt3_5_tot_prompt_2_scores = aggregate_test_results(base_directory)\n",
    "\n",
    "print(f\"Aggregated Results: {base_directory}\")\n",
    "print(json.dumps(gpt3_5_tot_prompt_2_results, indent=4))\n",
    "print(f\"Polaris Scores: {gpt3_5_tot_prompt_2_scores}\")"
   ]
  },
  {
   "cell_type": "code",
   "execution_count": null,
   "metadata": {},
   "outputs": [
    {
     "name": "stdout",
     "output_type": "stream",
     "text": [
      "Aggregated Results: ./gpt3_5/tot/tot_prompt_3\n",
      "{\n",
      "    \"total_responses\": 50,\n",
      "    \"secrets_used\": 1,\n",
      "    \"base64_encoding_needed\": 1,\n",
      "    \"yaml_not_wrapped\": 0,\n",
      "    \"invalid_yaml\": 3,\n",
      "    \"kubeconform_failed\": 4,\n",
      "    \"no_mysql_or_wordpress\": 14,\n",
      "    \"deployment_failed\": 17,\n",
      "    \"duplicate_resources\": 16,\n",
      "    \"healthy\": 0,\n",
      "    \"unhealthy\": 12,\n",
      "    \"PVC_failed\": 0,\n",
      "    \"MySQL_PVC_unbound\": 0,\n",
      "    \"MySQL_not_ready\": 0,\n",
      "    \"Wordpress_PVC_unbound\": 0,\n",
      "    \"Wordpress_not_ready\": 7,\n",
      "    \"Unknown_error\": 5\n",
      "}\n",
      "Polaris Scores: []\n"
     ]
    }
   ],
   "source": [
    "base_directory = \"./gpt3_5/tot/tot_prompt_3\"\n",
    "gpt3_5_tot_prompt_3_results, gpt3_5_tot_prompt_3_scores = aggregate_test_results(base_directory)\n",
    "\n",
    "print(f\"Aggregated Results: {base_directory}\")\n",
    "print(json.dumps(gpt3_5_tot_prompt_3_results, indent=4))\n",
    "print(f\"Polaris Scores: {gpt3_5_tot_prompt_3_scores}\")"
   ]
  },
  {
   "cell_type": "code",
   "execution_count": null,
   "metadata": {},
   "outputs": [
    {
     "name": "stdout",
     "output_type": "stream",
     "text": [
      "Aggregated Results: ./gpt3_5/tot/tot_detailed_prompt_1\n",
      "{\n",
      "    \"total_responses\": 50,\n",
      "    \"secrets_used\": 39,\n",
      "    \"base64_encoding_needed\": 22,\n",
      "    \"yaml_not_wrapped\": 0,\n",
      "    \"invalid_yaml\": 1,\n",
      "    \"kubeconform_failed\": 4,\n",
      "    \"no_mysql_or_wordpress\": 21,\n",
      "    \"deployment_failed\": 8,\n",
      "    \"duplicate_resources\": 5,\n",
      "    \"healthy\": 0,\n",
      "    \"unhealthy\": 16,\n",
      "    \"PVC_failed\": 0,\n",
      "    \"MySQL_PVC_unbound\": 0,\n",
      "    \"MySQL_not_ready\": 0,\n",
      "    \"Wordpress_PVC_unbound\": 0,\n",
      "    \"Wordpress_not_ready\": 10,\n",
      "    \"Unknown_error\": 6\n",
      "}\n",
      "Polaris Scores: []\n"
     ]
    }
   ],
   "source": [
    "base_directory = \"./gpt3_5/tot/tot_detailed_prompt_1\"\n",
    "gpt3_5_tot_detailed_prompt_1_results, gpt3_5_tot_detailed_prompt_1_scores = aggregate_test_results(base_directory)\n",
    "\n",
    "print(f\"Aggregated Results: {base_directory}\")\n",
    "print(json.dumps(gpt3_5_tot_detailed_prompt_1_results, indent=4))\n",
    "print(f\"Polaris Scores: {gpt3_5_tot_detailed_prompt_1_scores}\")"
   ]
  },
  {
   "cell_type": "code",
   "execution_count": null,
   "metadata": {},
   "outputs": [
    {
     "name": "stdout",
     "output_type": "stream",
     "text": [
      "Aggregated Results: ./gpt3_5/tot/tot_detailed_prompt_2\n",
      "{\n",
      "    \"total_responses\": 50,\n",
      "    \"secrets_used\": 42,\n",
      "    \"base64_encoding_needed\": 23,\n",
      "    \"yaml_not_wrapped\": 0,\n",
      "    \"invalid_yaml\": 2,\n",
      "    \"kubeconform_failed\": 6,\n",
      "    \"no_mysql_or_wordpress\": 2,\n",
      "    \"deployment_failed\": 14,\n",
      "    \"duplicate_resources\": 10,\n",
      "    \"healthy\": 1,\n",
      "    \"unhealthy\": 25,\n",
      "    \"PVC_failed\": 0,\n",
      "    \"MySQL_PVC_unbound\": 0,\n",
      "    \"MySQL_not_ready\": 0,\n",
      "    \"Wordpress_PVC_unbound\": 0,\n",
      "    \"Wordpress_not_ready\": 16,\n",
      "    \"Unknown_error\": 9\n",
      "}\n",
      "Polaris Scores: [36]\n"
     ]
    }
   ],
   "source": [
    "base_directory = \"./gpt3_5/tot/tot_detailed_prompt_2\"\n",
    "gpt3_5_tot_detailed_prompt_2_results, gpt3_5_tot_detailed_prompt_2_scores = aggregate_test_results(base_directory)\n",
    "\n",
    "print(f\"Aggregated Results: {base_directory}\")\n",
    "print(json.dumps(gpt3_5_tot_detailed_prompt_2_results, indent=4))\n",
    "print(f\"Polaris Scores: {gpt3_5_tot_detailed_prompt_2_scores}\")"
   ]
  },
  {
   "cell_type": "code",
   "execution_count": null,
   "metadata": {},
   "outputs": [
    {
     "name": "stdout",
     "output_type": "stream",
     "text": [
      "YAML not wrapped in ./gpt3_5/tot/tot_detailed_prompt_3/response-18\n"
     ]
    },
    {
     "ename": "Exception",
     "evalue": "Error count does not match ./gpt3_5/tot/tot_detailed_prompt_3",
     "output_type": "error",
     "traceback": [
      "\u001b[0;31m---------------------------------------------------------------------------\u001b[0m",
      "\u001b[0;31mException\u001b[0m                                 Traceback (most recent call last)",
      "Cell \u001b[0;32mIn[222], line 2\u001b[0m\n\u001b[1;32m      1\u001b[0m base_directory \u001b[38;5;241m=\u001b[39m \u001b[38;5;124m\"\u001b[39m\u001b[38;5;124m./gpt3_5/tot/tot_detailed_prompt_3\u001b[39m\u001b[38;5;124m\"\u001b[39m\n\u001b[0;32m----> 2\u001b[0m gpt3_5_tot_detailed_prompt_3_results, gpt3_5_tot_detailed_prompt_3_scores \u001b[38;5;241m=\u001b[39m \u001b[43maggregate_test_results\u001b[49m\u001b[43m(\u001b[49m\u001b[43mbase_directory\u001b[49m\u001b[43m)\u001b[49m\n\u001b[1;32m      4\u001b[0m \u001b[38;5;28mprint\u001b[39m(\u001b[38;5;124mf\u001b[39m\u001b[38;5;124m\"\u001b[39m\u001b[38;5;124mAggregated Results: \u001b[39m\u001b[38;5;132;01m{\u001b[39;00mbase_directory\u001b[38;5;132;01m}\u001b[39;00m\u001b[38;5;124m\"\u001b[39m)\n\u001b[1;32m      5\u001b[0m \u001b[38;5;28mprint\u001b[39m(json\u001b[38;5;241m.\u001b[39mdumps(gpt3_5_tot_detailed_prompt_3_results, indent\u001b[38;5;241m=\u001b[39m\u001b[38;5;241m4\u001b[39m))\n",
      "Cell \u001b[0;32mIn[178], line 113\u001b[0m, in \u001b[0;36maggregate_test_results\u001b[0;34m(base_directory)\u001b[0m\n\u001b[1;32m    111\u001b[0m     \u001b[38;5;28;01mraise\u001b[39;00m \u001b[38;5;167;01mException\u001b[39;00m(\u001b[38;5;124mf\u001b[39m\u001b[38;5;124m\"\u001b[39m\u001b[38;5;124mError count does not match \u001b[39m\u001b[38;5;132;01m{\u001b[39;00mbase_directory\u001b[38;5;132;01m}\u001b[39;00m\u001b[38;5;124m\"\u001b[39m)\n\u001b[1;32m    112\u001b[0m \u001b[38;5;28;01mif\u001b[39;00m (aggregated_results[\u001b[38;5;124m\"\u001b[39m\u001b[38;5;124mtotal_responses\u001b[39m\u001b[38;5;124m\"\u001b[39m] \u001b[38;5;241m!=\u001b[39m aggregated_results[\u001b[38;5;124m\"\u001b[39m\u001b[38;5;124mhealthy\u001b[39m\u001b[38;5;124m\"\u001b[39m] \u001b[38;5;241m+\u001b[39m aggregated_results[\u001b[38;5;124m\"\u001b[39m\u001b[38;5;124munhealthy\u001b[39m\u001b[38;5;124m\"\u001b[39m] \u001b[38;5;241m+\u001b[39m aggregated_results[\u001b[38;5;124m\"\u001b[39m\u001b[38;5;124mdeployment_failed\u001b[39m\u001b[38;5;124m\"\u001b[39m] \u001b[38;5;241m+\u001b[39m aggregated_results[\u001b[38;5;124m\"\u001b[39m\u001b[38;5;124mno_mysql_or_wordpress\u001b[39m\u001b[38;5;124m\"\u001b[39m] \u001b[38;5;241m+\u001b[39m aggregated_results[\u001b[38;5;124m\"\u001b[39m\u001b[38;5;124mkubeconform_failed\u001b[39m\u001b[38;5;124m\"\u001b[39m] \u001b[38;5;241m+\u001b[39m aggregated_results[\u001b[38;5;124m\"\u001b[39m\u001b[38;5;124minvalid_yaml\u001b[39m\u001b[38;5;124m\"\u001b[39m] \u001b[38;5;241m+\u001b[39m aggregated_results[\u001b[38;5;124m\"\u001b[39m\u001b[38;5;124myaml_not_wrapped\u001b[39m\u001b[38;5;124m\"\u001b[39m]):\n\u001b[0;32m--> 113\u001b[0m     \u001b[38;5;28;01mraise\u001b[39;00m \u001b[38;5;167;01mException\u001b[39;00m(\u001b[38;5;124mf\u001b[39m\u001b[38;5;124m\"\u001b[39m\u001b[38;5;124mError count does not match \u001b[39m\u001b[38;5;132;01m{\u001b[39;00mbase_directory\u001b[38;5;132;01m}\u001b[39;00m\u001b[38;5;124m\"\u001b[39m)\n\u001b[1;32m    114\u001b[0m \u001b[38;5;28;01mreturn\u001b[39;00m aggregated_results, scores_healthy\n",
      "\u001b[0;31mException\u001b[0m: Error count does not match ./gpt3_5/tot/tot_detailed_prompt_3"
     ]
    }
   ],
   "source": [
    "base_directory = \"./gpt3_5/tot/tot_detailed_prompt_3\"\n",
    "gpt3_5_tot_detailed_prompt_3_results, gpt3_5_tot_detailed_prompt_3_scores = aggregate_test_results(base_directory)\n",
    "\n",
    "print(f\"Aggregated Results: {base_directory}\")\n",
    "print(json.dumps(gpt3_5_tot_detailed_prompt_3_results, indent=4))\n",
    "print(f\"Polaris Scores: {gpt3_5_tot_detailed_prompt_3_scores}\")"
   ]
  },
  {
   "cell_type": "markdown",
   "metadata": {},
   "source": [
    "## GPT-4o: Meta"
   ]
  },
  {
   "cell_type": "code",
   "execution_count": 336,
   "metadata": {},
   "outputs": [
    {
     "name": "stdout",
     "output_type": "stream",
     "text": [
      "Aggregated Results: ./gpt4o/meta/meta_system_prompt\n",
      "{\n",
      "    \"total_responses\": 50,\n",
      "    \"secrets_used\": 40,\n",
      "    \"base64_encoding_needed\": 0,\n",
      "    \"yaml_not_wrapped\": 0,\n",
      "    \"invalid_yaml\": 0,\n",
      "    \"kubeconform_failed\": 0,\n",
      "    \"no_mysql_or_wordpress\": 0,\n",
      "    \"deployment_failed\": 0,\n",
      "    \"duplicate_resources\": 0,\n",
      "    \"healthy\": 28,\n",
      "    \"unhealthy\": 22,\n",
      "    \"PVC_failed\": 0,\n",
      "    \"MySQL_PVC_unbound\": 0,\n",
      "    \"MySQL_not_ready\": 0,\n",
      "    \"Wordpress_PVC_unbound\": 0,\n",
      "    \"Wordpress_not_ready\": 21,\n",
      "    \"Unknown_error\": 1\n",
      "}\n",
      "Polaris Scores: [40, 37, 40, 40, 40, 40, 43, 40, 40, 43, 35, 40, 40, 40, 43, 35, 37, 35, 43, 40, 40, 43, 43, 40, 35, 40, 40, 40]\n"
     ]
    }
   ],
   "source": [
    "base_directory = \"./gpt4o/meta/meta_system_prompt\"\n",
    "gpt4o_meta_system_prompt_results, gpt4o_meta_system_prompt_scores = aggregate_test_results(base_directory)\n",
    "\n",
    "print(f\"Aggregated Results: {base_directory}\")\n",
    "print(json.dumps(gpt4o_meta_system_prompt_results, indent=4))\n",
    "print(f\"Polaris Scores: {gpt4o_meta_system_prompt_scores}\")"
   ]
  },
  {
   "cell_type": "code",
   "execution_count": 337,
   "metadata": {},
   "outputs": [
    {
     "name": "stdout",
     "output_type": "stream",
     "text": [
      "Aggregated Results: ./gpt4o/meta/meta_system_prompt_detailed\n",
      "{\n",
      "    \"total_responses\": 50,\n",
      "    \"secrets_used\": 49,\n",
      "    \"base64_encoding_needed\": 3,\n",
      "    \"yaml_not_wrapped\": 0,\n",
      "    \"invalid_yaml\": 0,\n",
      "    \"kubeconform_failed\": 1,\n",
      "    \"no_mysql_or_wordpress\": 0,\n",
      "    \"deployment_failed\": 0,\n",
      "    \"duplicate_resources\": 0,\n",
      "    \"healthy\": 44,\n",
      "    \"unhealthy\": 5,\n",
      "    \"PVC_failed\": 0,\n",
      "    \"MySQL_PVC_unbound\": 1,\n",
      "    \"MySQL_not_ready\": 0,\n",
      "    \"Wordpress_PVC_unbound\": 0,\n",
      "    \"Wordpress_not_ready\": 3,\n",
      "    \"Unknown_error\": 1\n",
      "}\n",
      "Polaris Scores: [44, 44, 42, 42, 42, 42, 42, 42, 42, 42, 44, 42, 42, 42, 44, 44, 42, 42, 42, 42, 42, 42, 44, 44, 42, 42, 44, 39, 42, 39, 44, 42, 42, 42, 42, 42, 42, 44, 42, 42, 42, 42, 42, 44]\n"
     ]
    }
   ],
   "source": [
    "base_directory = \"./gpt4o/meta/meta_system_prompt_detailed\"\n",
    "gpt4o_meta_system_prompt_detailed_results, gpt4o_meta_system_prompt_detailed_scores = aggregate_test_results(base_directory)\n",
    "\n",
    "print(f\"Aggregated Results: {base_directory}\")\n",
    "print(json.dumps(gpt4o_meta_system_prompt_detailed_results, indent=4))\n",
    "print(f\"Polaris Scores: {gpt4o_meta_system_prompt_detailed_scores}\")"
   ]
  },
  {
   "cell_type": "code",
   "execution_count": 338,
   "metadata": {},
   "outputs": [
    {
     "name": "stdout",
     "output_type": "stream",
     "text": [
      "Aggregated Results: ./gpt4o/meta/meta_meta_prompt\n",
      "{\n",
      "    \"total_responses\": 50,\n",
      "    \"secrets_used\": 22,\n",
      "    \"base64_encoding_needed\": 7,\n",
      "    \"yaml_not_wrapped\": 0,\n",
      "    \"invalid_yaml\": 2,\n",
      "    \"kubeconform_failed\": 24,\n",
      "    \"no_mysql_or_wordpress\": 0,\n",
      "    \"deployment_failed\": 1,\n",
      "    \"duplicate_resources\": 0,\n",
      "    \"healthy\": 4,\n",
      "    \"unhealthy\": 19,\n",
      "    \"PVC_failed\": 1,\n",
      "    \"MySQL_PVC_unbound\": 0,\n",
      "    \"MySQL_not_ready\": 0,\n",
      "    \"Wordpress_PVC_unbound\": 0,\n",
      "    \"Wordpress_not_ready\": 8,\n",
      "    \"Unknown_error\": 10\n",
      "}\n",
      "Polaris Scores: [55, 62, 58, 57]\n"
     ]
    }
   ],
   "source": [
    "base_directory = \"./gpt4o/meta/meta_meta_prompt\"\n",
    "gpt4o_meta_meta_prompt_results, gpt4o_meta_meta_prompt_scores = aggregate_test_results(base_directory)\n",
    "\n",
    "print(f\"Aggregated Results: {base_directory}\")\n",
    "print(json.dumps(gpt4o_meta_meta_prompt_results, indent=4))\n",
    "print(f\"Polaris Scores: {gpt4o_meta_meta_prompt_scores}\")"
   ]
  },
  {
   "cell_type": "code",
   "execution_count": 339,
   "metadata": {},
   "outputs": [
    {
     "name": "stdout",
     "output_type": "stream",
     "text": [
      "Aggregated Results: ./gpt4o/meta/meta_meta_prompt_detailed\n",
      "{\n",
      "    \"total_responses\": 50,\n",
      "    \"secrets_used\": 37,\n",
      "    \"base64_encoding_needed\": 14,\n",
      "    \"yaml_not_wrapped\": 0,\n",
      "    \"invalid_yaml\": 0,\n",
      "    \"kubeconform_failed\": 11,\n",
      "    \"no_mysql_or_wordpress\": 6,\n",
      "    \"deployment_failed\": 0,\n",
      "    \"duplicate_resources\": 0,\n",
      "    \"healthy\": 14,\n",
      "    \"unhealthy\": 19,\n",
      "    \"PVC_failed\": 2,\n",
      "    \"MySQL_PVC_unbound\": 0,\n",
      "    \"MySQL_not_ready\": 0,\n",
      "    \"Wordpress_PVC_unbound\": 0,\n",
      "    \"Wordpress_not_ready\": 7,\n",
      "    \"Unknown_error\": 10\n",
      "}\n",
      "Polaris Scores: [59, 60, 44, 51, 46, 59, 45, 46, 54, 46, 51, 61, 56, 41]\n"
     ]
    }
   ],
   "source": [
    "base_directory = \"./gpt4o/meta/meta_meta_prompt_detailed\"\n",
    "gpt4o_meta_meta_prompt_detailed_results, gpt4o_meta_meta_prompt_detailed_scores = aggregate_test_results(base_directory)\n",
    "\n",
    "print(f\"Aggregated Results: {base_directory}\")\n",
    "print(json.dumps(gpt4o_meta_meta_prompt_detailed_results, indent=4))\n",
    "print(f\"Polaris Scores: {gpt4o_meta_meta_prompt_detailed_scores}\")"
   ]
  },
  {
   "cell_type": "markdown",
   "metadata": {},
   "source": [
    "## GPT-4: Meta"
   ]
  },
  {
   "cell_type": "code",
   "execution_count": 227,
   "metadata": {},
   "outputs": [
    {
     "name": "stdout",
     "output_type": "stream",
     "text": [
      "Aggregated Results: ./gpt4/meta/meta_system_prompt\n",
      "{\n",
      "    \"total_responses\": 50,\n",
      "    \"secrets_used\": 43,\n",
      "    \"base64_encoding_needed\": 9,\n",
      "    \"yaml_not_wrapped\": 0,\n",
      "    \"invalid_yaml\": 0,\n",
      "    \"kubeconform_failed\": 2,\n",
      "    \"no_mysql_or_wordpress\": 0,\n",
      "    \"deployment_failed\": 1,\n",
      "    \"duplicate_resources\": 0,\n",
      "    \"healthy\": 8,\n",
      "    \"unhealthy\": 39,\n",
      "    \"PVC_failed\": 0,\n",
      "    \"MySQL_PVC_unbound\": 0,\n",
      "    \"MySQL_not_ready\": 0,\n",
      "    \"Wordpress_PVC_unbound\": 0,\n",
      "    \"Wordpress_not_ready\": 38,\n",
      "    \"Unknown_error\": 1\n",
      "}\n",
      "Polaris Scores: [40, 37, 40, 35, 40, 43, 40, 40]\n"
     ]
    }
   ],
   "source": [
    "base_directory = \"./gpt4/meta/meta_system_prompt\"\n",
    "gpt4_meta_system_prompt_results, gpt4_meta_system_prompt_scores = aggregate_test_results(base_directory)\n",
    "\n",
    "print(f\"Aggregated Results: {base_directory}\")\n",
    "print(json.dumps(gpt4_meta_system_prompt_results, indent=4))\n",
    "print(f\"Polaris Scores: {gpt4_meta_system_prompt_scores}\")"
   ]
  },
  {
   "cell_type": "code",
   "execution_count": 228,
   "metadata": {},
   "outputs": [
    {
     "name": "stdout",
     "output_type": "stream",
     "text": [
      "Aggregated Results: ./gpt4/meta/meta_system_prompt_detailed\n",
      "{\n",
      "    \"total_responses\": 50,\n",
      "    \"secrets_used\": 50,\n",
      "    \"base64_encoding_needed\": 3,\n",
      "    \"yaml_not_wrapped\": 0,\n",
      "    \"invalid_yaml\": 0,\n",
      "    \"kubeconform_failed\": 0,\n",
      "    \"no_mysql_or_wordpress\": 0,\n",
      "    \"deployment_failed\": 0,\n",
      "    \"duplicate_resources\": 0,\n",
      "    \"healthy\": 35,\n",
      "    \"unhealthy\": 15,\n",
      "    \"PVC_failed\": 0,\n",
      "    \"MySQL_PVC_unbound\": 0,\n",
      "    \"MySQL_not_ready\": 0,\n",
      "    \"Wordpress_PVC_unbound\": 0,\n",
      "    \"Wordpress_not_ready\": 14,\n",
      "    \"Unknown_error\": 1\n",
      "}\n",
      "Polaris Scores: [42, 42, 43, 39, 39, 39, 39, 42, 42, 38, 42, 39, 43, 42, 42, 42, 42, 42, 39, 39, 38, 39, 42, 42, 42, 42, 39, 39, 43, 42, 42, 42, 39, 39, 42]\n"
     ]
    }
   ],
   "source": [
    "base_directory = \"./gpt4/meta/meta_system_prompt_detailed\"\n",
    "gpt4_meta_system_prompt_detailed_results, gpt4_meta_system_prompt_detailed_scores = aggregate_test_results(base_directory)\n",
    "\n",
    "print(f\"Aggregated Results: {base_directory}\")\n",
    "print(json.dumps(gpt4_meta_system_prompt_detailed_results, indent=4))\n",
    "print(f\"Polaris Scores: {gpt4_meta_system_prompt_detailed_scores}\")"
   ]
  },
  {
   "cell_type": "code",
   "execution_count": 229,
   "metadata": {},
   "outputs": [
    {
     "name": "stdout",
     "output_type": "stream",
     "text": [
      "Aggregated Results: ./gpt4/meta/meta_meta_prompt\n",
      "{\n",
      "    \"total_responses\": 50,\n",
      "    \"secrets_used\": 27,\n",
      "    \"base64_encoding_needed\": 20,\n",
      "    \"yaml_not_wrapped\": 0,\n",
      "    \"invalid_yaml\": 0,\n",
      "    \"kubeconform_failed\": 9,\n",
      "    \"no_mysql_or_wordpress\": 3,\n",
      "    \"deployment_failed\": 0,\n",
      "    \"duplicate_resources\": 0,\n",
      "    \"healthy\": 1,\n",
      "    \"unhealthy\": 37,\n",
      "    \"PVC_failed\": 1,\n",
      "    \"MySQL_PVC_unbound\": 0,\n",
      "    \"MySQL_not_ready\": 3,\n",
      "    \"Wordpress_PVC_unbound\": 0,\n",
      "    \"Wordpress_not_ready\": 17,\n",
      "    \"Unknown_error\": 16\n",
      "}\n",
      "Polaris Scores: [43]\n"
     ]
    }
   ],
   "source": [
    "base_directory = \"./gpt4/meta/meta_meta_prompt\"\n",
    "gpt4_meta_meta_prompt_results, gpt4_meta_meta_prompt_scores = aggregate_test_results(base_directory)\n",
    "\n",
    "print(f\"Aggregated Results: {base_directory}\")\n",
    "print(json.dumps(gpt4_meta_meta_prompt_results, indent=4))\n",
    "print(f\"Polaris Scores: {gpt4_meta_meta_prompt_scores}\")"
   ]
  },
  {
   "cell_type": "code",
   "execution_count": null,
   "metadata": {},
   "outputs": [
    {
     "name": "stdout",
     "output_type": "stream",
     "text": [
      "Aggregated Results: ./gpt4/meta/meta_meta_prompt_detailed\n",
      "{\n",
      "    \"total_responses\": 50,\n",
      "    \"secrets_used\": 45,\n",
      "    \"base64_encoding_needed\": 21,\n",
      "    \"yaml_not_wrapped\": 0,\n",
      "    \"invalid_yaml\": 0,\n",
      "    \"kubeconform_failed\": 4,\n",
      "    \"no_mysql_or_wordpress\": 3,\n",
      "    \"deployment_failed\": 0,\n",
      "    \"duplicate_resources\": 0,\n",
      "    \"healthy\": 8,\n",
      "    \"unhealthy\": 35,\n",
      "    \"PVC_failed\": 1,\n",
      "    \"MySQL_PVC_unbound\": 0,\n",
      "    \"MySQL_not_ready\": 2,\n",
      "    \"Wordpress_PVC_unbound\": 0,\n",
      "    \"Wordpress_not_ready\": 25,\n",
      "    \"Unknown_error\": 7\n",
      "}\n",
      "Polaris Scores: [44, 46, 46, 58, 58, 46, 64, 48]\n"
     ]
    }
   ],
   "source": [
    "base_directory = \"./gpt4/meta/meta_meta_prompt_detailed\"\n",
    "gpt4_meta_meta_prompt_detailed_results, gpt4_meta_meta_prompt_detailed_scores = aggregate_test_results(base_directory)\n",
    "\n",
    "print(f\"Aggregated Results: {base_directory}\")\n",
    "print(json.dumps(gpt4_meta_meta_prompt_detailed_results, indent=4))\n",
    "print(f\"Polaris Scores: {gpt4_meta_meta_prompt_detailed_scores}\")"
   ]
  },
  {
   "cell_type": "markdown",
   "metadata": {},
   "source": [
    "## GPT-3.5: Meta"
   ]
  },
  {
   "cell_type": "code",
   "execution_count": 231,
   "metadata": {},
   "outputs": [
    {
     "name": "stdout",
     "output_type": "stream",
     "text": [
      "Aggregated Results: ./gpt3_5/meta/meta_system_prompt\n",
      "{\n",
      "    \"total_responses\": 50,\n",
      "    \"secrets_used\": 3,\n",
      "    \"base64_encoding_needed\": 1,\n",
      "    \"yaml_not_wrapped\": 0,\n",
      "    \"invalid_yaml\": 0,\n",
      "    \"kubeconform_failed\": 1,\n",
      "    \"no_mysql_or_wordpress\": 0,\n",
      "    \"deployment_failed\": 4,\n",
      "    \"duplicate_resources\": 0,\n",
      "    \"healthy\": 3,\n",
      "    \"unhealthy\": 42,\n",
      "    \"PVC_failed\": 2,\n",
      "    \"MySQL_PVC_unbound\": 0,\n",
      "    \"MySQL_not_ready\": 0,\n",
      "    \"Wordpress_PVC_unbound\": 0,\n",
      "    \"Wordpress_not_ready\": 40,\n",
      "    \"Unknown_error\": 0\n",
      "}\n",
      "Polaris Scores: [36, 36, 36]\n"
     ]
    }
   ],
   "source": [
    "base_directory = \"./gpt3_5/meta/meta_system_prompt\"\n",
    "gpt3_5_meta_system_prompt_results, gpt3_5_meta_system_prompt_scores = aggregate_test_results(base_directory)\n",
    "\n",
    "print(f\"Aggregated Results: {base_directory}\")\n",
    "print(json.dumps(gpt3_5_meta_system_prompt_results, indent=4))\n",
    "print(f\"Polaris Scores: {gpt3_5_meta_system_prompt_scores}\")"
   ]
  },
  {
   "cell_type": "code",
   "execution_count": null,
   "metadata": {},
   "outputs": [
    {
     "name": "stdout",
     "output_type": "stream",
     "text": [
      "Aggregated Results: ./gpt3_5/meta/meta_system_prompt_detailed\n",
      "{\n",
      "    \"total_responses\": 50,\n",
      "    \"secrets_used\": 45,\n",
      "    \"base64_encoding_needed\": 26,\n",
      "    \"yaml_not_wrapped\": 0,\n",
      "    \"invalid_yaml\": 0,\n",
      "    \"kubeconform_failed\": 1,\n",
      "    \"no_mysql_or_wordpress\": 1,\n",
      "    \"deployment_failed\": 2,\n",
      "    \"duplicate_resources\": 0,\n",
      "    \"healthy\": 1,\n",
      "    \"unhealthy\": 45,\n",
      "    \"PVC_failed\": 0,\n",
      "    \"MySQL_PVC_unbound\": 1,\n",
      "    \"MySQL_not_ready\": 0,\n",
      "    \"Wordpress_PVC_unbound\": 0,\n",
      "    \"Wordpress_not_ready\": 42,\n",
      "    \"Unknown_error\": 2\n",
      "}\n",
      "Polaris Scores: [36]\n"
     ]
    }
   ],
   "source": [
    "base_directory = \"./gpt3_5/meta/meta_system_prompt_detailed\"\n",
    "gpt3_5_meta_system_prompt_detailed_results, gpt3_5_meta_system_prompt_detailed_scores = aggregate_test_results(base_directory)\n",
    "\n",
    "print(f\"Aggregated Results: {base_directory}\")\n",
    "print(json.dumps(gpt3_5_meta_system_prompt_detailed_results, indent=4))\n",
    "print(f\"Polaris Scores: {gpt3_5_meta_system_prompt_detailed_scores}\")"
   ]
  },
  {
   "cell_type": "code",
   "execution_count": null,
   "metadata": {},
   "outputs": [
    {
     "name": "stdout",
     "output_type": "stream",
     "text": [
      "Aggregated Results: ./gpt3_5/meta/meta_meta_prompt\n",
      "{\n",
      "    \"total_responses\": 50,\n",
      "    \"secrets_used\": 4,\n",
      "    \"base64_encoding_needed\": 4,\n",
      "    \"yaml_not_wrapped\": 0,\n",
      "    \"invalid_yaml\": 0,\n",
      "    \"kubeconform_failed\": 9,\n",
      "    \"no_mysql_or_wordpress\": 13,\n",
      "    \"deployment_failed\": 2,\n",
      "    \"duplicate_resources\": 0,\n",
      "    \"healthy\": 2,\n",
      "    \"unhealthy\": 24,\n",
      "    \"PVC_failed\": 0,\n",
      "    \"MySQL_PVC_unbound\": 0,\n",
      "    \"MySQL_not_ready\": 1,\n",
      "    \"Wordpress_PVC_unbound\": 0,\n",
      "    \"Wordpress_not_ready\": 14,\n",
      "    \"Unknown_error\": 9\n",
      "}\n",
      "Polaris Scores: [38, 47]\n"
     ]
    }
   ],
   "source": [
    "base_directory = \"./gpt3_5/meta/meta_meta_prompt\"\n",
    "gpt3_5_meta_meta_prompt_results, gpt3_5_meta_meta_prompt_scores = aggregate_test_results(base_directory)\n",
    "\n",
    "print(f\"Aggregated Results: {base_directory}\")\n",
    "print(json.dumps(gpt3_5_meta_meta_prompt_results, indent=4))\n",
    "print(f\"Polaris Scores: {gpt3_5_meta_meta_prompt_scores}\")"
   ]
  },
  {
   "cell_type": "code",
   "execution_count": 234,
   "metadata": {},
   "outputs": [
    {
     "name": "stdout",
     "output_type": "stream",
     "text": [
      "Aggregated Results: ./gpt3_5/meta/meta_meta_prompt_detailed\n",
      "{\n",
      "    \"total_responses\": 50,\n",
      "    \"secrets_used\": 4,\n",
      "    \"base64_encoding_needed\": 2,\n",
      "    \"yaml_not_wrapped\": 0,\n",
      "    \"invalid_yaml\": 1,\n",
      "    \"kubeconform_failed\": 28,\n",
      "    \"no_mysql_or_wordpress\": 10,\n",
      "    \"deployment_failed\": 0,\n",
      "    \"duplicate_resources\": 0,\n",
      "    \"healthy\": 0,\n",
      "    \"unhealthy\": 11,\n",
      "    \"PVC_failed\": 0,\n",
      "    \"MySQL_PVC_unbound\": 0,\n",
      "    \"MySQL_not_ready\": 0,\n",
      "    \"Wordpress_PVC_unbound\": 0,\n",
      "    \"Wordpress_not_ready\": 3,\n",
      "    \"Unknown_error\": 8\n",
      "}\n",
      "Polaris Scores: []\n"
     ]
    }
   ],
   "source": [
    "base_directory = \"./gpt3_5/meta/meta_meta_prompt_detailed\"\n",
    "gpt3_5_meta_meta_prompt_detailed_results, gpt3_5_meta_meta_prompt_detailed_scores = aggregate_test_results(base_directory)\n",
    "\n",
    "print(f\"Aggregated Results: {base_directory}\")\n",
    "print(json.dumps(gpt3_5_meta_meta_prompt_detailed_results, indent=4))\n",
    "print(f\"Polaris Scores: {gpt3_5_meta_meta_prompt_detailed_scores}\")"
   ]
  },
  {
   "cell_type": "markdown",
   "metadata": {},
   "source": [
    "# ALL results"
   ]
  },
  {
   "cell_type": "code",
   "execution_count": 279,
   "metadata": {},
   "outputs": [],
   "source": [
    "# code to aggregate all the results"
   ]
  },
  {
   "cell_type": "code",
   "execution_count": 280,
   "metadata": {},
   "outputs": [],
   "source": [
    "results_gpt4o_zs = [\n",
    "    gpt4o_zs_baseline_system_prompt_results,\n",
    "    gpt4o_zs_baseline_system_prompt_detailed_results,\n",
    "    gpt4o_zs_role_system_prompt_results,\n",
    "    gpt4o_zs_role_system_prompt_detailed_results,\n",
    "    gpt4o_zs_role_best_system_prompt_results,\n",
    "    gpt4o_zs_role_best_system_prompt_detailed_results\n",
    "]\n",
    "\n",
    "scores_gpt4o_zs = gpt4o_zs_baseline_system_prompt_scores + gpt4o_zs_baseline_system_prompt_detailed_scores + gpt4o_zs_role_system_prompt_scores + gpt4o_zs_role_system_prompt_detailed_scores + gpt4o_zs_role_best_system_prompt_scores + gpt4o_zs_role_best_system_prompt_detailed_scores\n",
    "\n",
    "results_gpt4o_cot = [\n",
    "    gpt4o_cot_human_prompt_results,\n",
    "    gpt4o_cot_human_prompt_detailed_results,\n",
    "    gpt4o_cot_ape_prompt_results,\n",
    "    gpt4o_cot_ape_prompt_detailed_results\n",
    "]\n",
    "\n",
    "scores_gpt4o_cot = gpt4o_cot_human_prompt_scores + gpt4o_cot_human_prompt_detailed_scores + gpt4o_cot_ape_prompt_scores + gpt4o_cot_ape_prompt_detailed_scores\n",
    "\n",
    "results_gpt4o_tot = [\n",
    "    gpt4o_tot_prompt_1_results,\n",
    "    gpt4o_tot_prompt_2_results,\n",
    "    gpt4o_tot_prompt_3_results,\n",
    "    gpt4o_tot_detailed_prompt_1_results,\n",
    "    gpt4o_tot_detailed_prompt_2_results,\n",
    "    gpt4o_tot_detailed_prompt_3_results\n",
    "]\n",
    "\n",
    "scores_gpt4o_tot = gpt4o_tot_prompt_1_scores + gpt4o_tot_prompt_2_scores + gpt4o_tot_prompt_3_scores + gpt4o_tot_detailed_prompt_1_scores + gpt4o_tot_detailed_prompt_2_scores + gpt4o_tot_detailed_prompt_3_scores\n",
    "\n",
    "results_gpt4o_meta = [\n",
    "    gpt4o_meta_system_prompt_results,\n",
    "    gpt4o_meta_system_prompt_detailed_results,\n",
    "    gpt4o_meta_meta_prompt_results,\n",
    "    gpt4o_meta_meta_prompt_detailed_results\n",
    "]\n",
    "\n",
    "scores_gpt4o_meta = gpt4o_meta_system_prompt_scores + gpt4o_meta_system_prompt_detailed_scores + gpt4o_meta_meta_prompt_scores + gpt4o_meta_meta_prompt_detailed_scores\n",
    "\n",
    "results_gpt4o = results_gpt4o_zs + results_gpt4o_cot + results_gpt4o_tot + results_gpt4o_meta\n",
    "\n",
    "scores_gpt4o = scores_gpt4o_zs + scores_gpt4o_cot + scores_gpt4o_tot + scores_gpt4o_meta\n"
   ]
  },
  {
   "cell_type": "code",
   "execution_count": 281,
   "metadata": {},
   "outputs": [
    {
     "ename": "Exception",
     "evalue": "Error count does not match for unhealthy results",
     "output_type": "error",
     "traceback": [
      "\u001b[0;31m---------------------------------------------------------------------------\u001b[0m",
      "\u001b[0;31mException\u001b[0m                                 Traceback (most recent call last)",
      "Cell \u001b[0;32mIn[281], line 1\u001b[0m\n\u001b[0;32m----> 1\u001b[0m gpt4o_all_results \u001b[38;5;241m=\u001b[39m \u001b[43maggregate_all_test_results\u001b[49m\u001b[43m(\u001b[49m\u001b[43mresults_gpt4o\u001b[49m\u001b[43m,\u001b[49m\u001b[43m \u001b[49m\u001b[43mscores_gpt4o\u001b[49m\u001b[43m)\u001b[49m\n\u001b[1;32m      4\u001b[0m \u001b[38;5;28mprint\u001b[39m(\u001b[38;5;124mf\u001b[39m\u001b[38;5;124m\"\u001b[39m\u001b[38;5;124mAggregated Results: GPT-4o\u001b[39m\u001b[38;5;124m\"\u001b[39m)\n\u001b[1;32m      5\u001b[0m \u001b[38;5;28mprint\u001b[39m(json\u001b[38;5;241m.\u001b[39mdumps(gpt4o_all_results, indent\u001b[38;5;241m=\u001b[39m\u001b[38;5;241m4\u001b[39m))\n",
      "Cell \u001b[0;32mIn[240], line 29\u001b[0m, in \u001b[0;36maggregate_all_test_results\u001b[0;34m(results, scores)\u001b[0m\n\u001b[1;32m     27\u001b[0m             aggregated_results[key] \u001b[38;5;241m+\u001b[39m\u001b[38;5;241m=\u001b[39m result[key]\n\u001b[1;32m     28\u001b[0m \u001b[38;5;28;01mif\u001b[39;00m (aggregated_results[\u001b[38;5;124m\"\u001b[39m\u001b[38;5;124munhealthy\u001b[39m\u001b[38;5;124m\"\u001b[39m] \u001b[38;5;241m!=\u001b[39m aggregated_results[\u001b[38;5;124m\"\u001b[39m\u001b[38;5;124mPVC_failed\u001b[39m\u001b[38;5;124m\"\u001b[39m] \u001b[38;5;241m+\u001b[39m aggregated_results[\u001b[38;5;124m\"\u001b[39m\u001b[38;5;124mMySQL_PVC_unbound\u001b[39m\u001b[38;5;124m\"\u001b[39m] \u001b[38;5;241m+\u001b[39m aggregated_results[\u001b[38;5;124m\"\u001b[39m\u001b[38;5;124mMySQL_not_ready\u001b[39m\u001b[38;5;124m\"\u001b[39m] \u001b[38;5;241m+\u001b[39m aggregated_results[\u001b[38;5;124m\"\u001b[39m\u001b[38;5;124mWordpress_PVC_unbound\u001b[39m\u001b[38;5;124m\"\u001b[39m] \u001b[38;5;241m+\u001b[39m aggregated_results[\u001b[38;5;124m\"\u001b[39m\u001b[38;5;124mWordpress_not_ready\u001b[39m\u001b[38;5;124m\"\u001b[39m] \u001b[38;5;241m+\u001b[39m aggregated_results[\u001b[38;5;124m\"\u001b[39m\u001b[38;5;124mUnknown_error\u001b[39m\u001b[38;5;124m\"\u001b[39m]):\n\u001b[0;32m---> 29\u001b[0m     \u001b[38;5;28;01mraise\u001b[39;00m \u001b[38;5;167;01mException\u001b[39;00m(\u001b[38;5;124mf\u001b[39m\u001b[38;5;124m\"\u001b[39m\u001b[38;5;124mError count does not match for unhealthy results\u001b[39m\u001b[38;5;124m\"\u001b[39m)\n\u001b[1;32m     30\u001b[0m \u001b[38;5;28;01mif\u001b[39;00m (aggregated_results[\u001b[38;5;124m\"\u001b[39m\u001b[38;5;124mtotal_responses\u001b[39m\u001b[38;5;124m\"\u001b[39m] \u001b[38;5;241m!=\u001b[39m aggregated_results[\u001b[38;5;124m\"\u001b[39m\u001b[38;5;124mhealthy\u001b[39m\u001b[38;5;124m\"\u001b[39m] \u001b[38;5;241m+\u001b[39m aggregated_results[\u001b[38;5;124m\"\u001b[39m\u001b[38;5;124munhealthy\u001b[39m\u001b[38;5;124m\"\u001b[39m] \u001b[38;5;241m+\u001b[39m aggregated_results[\u001b[38;5;124m\"\u001b[39m\u001b[38;5;124mdeployment_failed\u001b[39m\u001b[38;5;124m\"\u001b[39m] \u001b[38;5;241m+\u001b[39m aggregated_results[\u001b[38;5;124m\"\u001b[39m\u001b[38;5;124mno_mysql_or_wordpress\u001b[39m\u001b[38;5;124m\"\u001b[39m] \u001b[38;5;241m+\u001b[39m aggregated_results[\u001b[38;5;124m\"\u001b[39m\u001b[38;5;124mkubeconform_failed\u001b[39m\u001b[38;5;124m\"\u001b[39m] \u001b[38;5;241m+\u001b[39m aggregated_results[\u001b[38;5;124m\"\u001b[39m\u001b[38;5;124minvalid_yaml\u001b[39m\u001b[38;5;124m\"\u001b[39m] \u001b[38;5;241m+\u001b[39m aggregated_results[\u001b[38;5;124m\"\u001b[39m\u001b[38;5;124myaml_not_wrapped\u001b[39m\u001b[38;5;124m\"\u001b[39m]):\n\u001b[1;32m     31\u001b[0m     \u001b[38;5;28;01mraise\u001b[39;00m \u001b[38;5;167;01mException\u001b[39;00m(\u001b[38;5;124mf\u001b[39m\u001b[38;5;124m\"\u001b[39m\u001b[38;5;124mError count does not match for all results\u001b[39m\u001b[38;5;124m\"\u001b[39m)\n",
      "\u001b[0;31mException\u001b[0m: Error count does not match for unhealthy results"
     ]
    }
   ],
   "source": [
    "gpt4o_all_results = aggregate_all_test_results(results_gpt4o, scores_gpt4o)\n",
    "\n",
    "\n",
    "print(f\"Aggregated Results: GPT-4o\")\n",
    "print(json.dumps(gpt4o_all_results, indent=4))\n",
    "print(f\"Polaris Scores: {scores_gpt4o}\")"
   ]
  }
 ],
 "metadata": {
  "kernelspec": {
   "display_name": "Python 3",
   "language": "python",
   "name": "python3"
  },
  "language_info": {
   "codemirror_mode": {
    "name": "ipython",
    "version": 3
   },
   "file_extension": ".py",
   "mimetype": "text/x-python",
   "name": "python",
   "nbconvert_exporter": "python",
   "pygments_lexer": "ipython3",
   "version": "3.10.12"
  }
 },
 "nbformat": 4,
 "nbformat_minor": 2
}
