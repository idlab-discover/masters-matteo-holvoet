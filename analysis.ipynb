{
 "cells": [
  {
   "cell_type": "code",
   "execution_count": 55,
   "metadata": {},
   "outputs": [],
   "source": [
    "import os\n",
    "import json\n",
    "\n",
    "DEBUG = False"
   ]
  },
  {
   "cell_type": "code",
   "execution_count": 57,
   "metadata": {},
   "outputs": [],
   "source": [
    "def check_k8sgpt(k8sgpt_file):\n",
    "    with open(k8sgpt_file, \"r\") as f:\n",
    "        try:\n",
    "            k8sgpt_data = json.load(f)\n",
    "            if k8sgpt_data[\"results\"]:\n",
    "                for result in k8sgpt_data[\"results\"]:\n",
    "                    if result.get(\"kind\") == \"Service\":\n",
    "                        continue # Skip Services\n",
    "                    if result.get(\"kind\") == \"PersistentVolumeClaim\":\n",
    "                        for error in result.get(\"error\", []):\n",
    "                            DEBUG and print(f\"PVC error: {error['Text']} in {k8sgpt_file}\")\n",
    "                            return \"PVC_failed\"\n",
    "                    if result.get(\"kind\") == \"Pod\":\n",
    "                        if \"mysql\" in result.get(\"parentObject\"):\n",
    "                            for error in result.get(\"error\", []):\n",
    "                                if \"Back-off pulling image\" in error[\"Text\"]:\n",
    "                                    # raise Exception\n",
    "                                    raise Exception(f\"Back-off pulling image in {k8sgpt_file}\")\n",
    "                                elif \"PersistentVolumeClaims\" in error[\"Text\"]:\n",
    "                                    DEBUG and print(f\"MySQL pod has unbound immediate PersistentVolumeClaims in {k8sgpt_file}\")\n",
    "                                    return \"MySQL_PVC_unbound\"\n",
    "                                elif \"Readiness probe failed\" in error[\"Text\"]:\n",
    "                                    DEBUG and print(f\"MySQL Readiness probe failed in {k8sgpt_file}\")\n",
    "                                    return \"MySQL_not_ready\"\n",
    "                                else:\n",
    "                                    DEBUG and print(f\"MySQL unknown error in {k8sgpt_file}\")\n",
    "                                    return \"Unknown_error\"\n",
    "                        else:\n",
    "                            for error in result.get(\"error\", []):\n",
    "                                if \"Back-off pulling image\" in error[\"Text\"]:\n",
    "                                    # raise Exception\n",
    "                                    raise Exception(f\"Back-off pulling image in {k8sgpt_file}\")\n",
    "                                elif \"PersistentVolumeClaims\" in error[\"Text\"]:\n",
    "                                    DEBUG and print(f\"Wordpress pod has unbound immediate PersistentVolumeClaims in {k8sgpt_file}\")\n",
    "                                    return \"Wordpress_PVC_unbound\"\n",
    "                                elif \"Readiness probe failed\" in error[\"Text\"]:\n",
    "                                    DEBUG and print(f\"Wordpress Readiness probe failed in {k8sgpt_file}\")\n",
    "                                    return \"Wordpress_not_ready\"\n",
    "                                else:\n",
    "                                    DEBUG and print(f\"Wordpress unknown error in {k8sgpt_file}\")\n",
    "                                    return \"Unknown_error\"\n",
    "                    else:\n",
    "                        kind = result.get(\"kind\")\n",
    "                        for error in result.get(\"error\", []):\n",
    "                            #raise Exception(f\"{kind} error: {error['Text']} in {k8sgpt_file}\")\n",
    "                            DEBUG and print(f\"{kind} error: {error['Text']} in {k8sgpt_file}\")\n",
    "                            return \"Unknown_error\"\n",
    "        except json.JSONDecodeError:\n",
    "            raise Exception(f\"Error: Failed to parse JSON in {k8sgpt_file}\")"
   ]
  },
  {
   "cell_type": "code",
   "execution_count": 121,
   "metadata": {},
   "outputs": [],
   "source": [
    "import os  \n",
    "import json\n",
    "from collections import defaultdict\n",
    "\n",
    "def aggregate_test_results(base_directory):\n",
    "\n",
    "    aggregated_results = {\n",
    "        \"total_responses\": 0,\n",
    "        \"secrets_used\": 0,\n",
    "        \"base64_encoding_needed\": 0,\n",
    "        \"yaml_not_wrapped\": 0,\n",
    "        \"invalid_yaml\": 0,\n",
    "        \"kubeconform_failed\": 0,\n",
    "        \"no_mysql_or_wordpress\": 0,\n",
    "        \"deployment_failed\": 0,\n",
    "        \"duplicate_resources\": 0,\n",
    "        \"healthy\": 0,\n",
    "        \"unhealthy\": 0,\n",
    "        \"PVC_failed\": 0,\n",
    "        \"MySQL_PVC_unbound\": 0,\n",
    "        \"MySQL_not_ready\": 0,\n",
    "        \"Wordpress_PVC_unbound\": 0,\n",
    "        \"Wordpress_not_ready\": 0,\n",
    "        \"Unknown_error\": 0\n",
    "    }\n",
    "    aggregate_test_results\n",
    "    scores_healthy = []\n",
    "    \n",
    "    # Iterate over all directories in the base directory\n",
    "    for response_dir in os.listdir(base_directory):\n",
    "        response_path = os.path.join(base_directory, response_dir)\n",
    "        \n",
    "        # Check if it's a directory and matches the response-* pattern\n",
    "        if os.path.isdir(response_path) and response_dir.startswith(\"response-\"):\n",
    "            testing_file = os.path.join(response_path, \"testing.json\")\n",
    "            \n",
    "            # Check if the testing.json file exists\n",
    "            if os.path.exists(testing_file):\n",
    "                with open(testing_file, \"r\") as f:\n",
    "                    try:\n",
    "                        testing_data = json.load(f)\n",
    "\n",
    "                        # Aggregate results  \n",
    "                        aggregated_results[\"total_responses\"] += 1\n",
    "\n",
    "                        # Get extra information\n",
    "                        if testing_data.get(\"secrets_found\"):\n",
    "                            aggregated_results[\"secrets_used\"] += 1\n",
    "                            DEBUG and print(f\"secrets used in {response_path}\")\n",
    "\n",
    "                        if testing_data.get(\"base64_needed\"):\n",
    "                            aggregated_results[\"base64_encoding_needed\"] += 1\n",
    "\n",
    "                        if testing_data.get(\"yaml_not_wrapped\"):\n",
    "                            aggregated_results[\"yaml_not_wrapped\"] += 1\n",
    "                            print(f\"YAML not wrapped in {response_path}\")\n",
    "\n",
    "                        if not testing_data.get(\"valid_yaml\"):\n",
    "                            aggregated_results[\"invalid_yaml\"] += 1\n",
    "                        \n",
    "                        elif not testing_data.get(\"kubeconform\"):\n",
    "                            aggregated_results[\"kubeconform_failed\"] += 1\n",
    "                            kubeconform_file = os.path.join(response_path, \"conform.json\")\n",
    "                            if not os.path.exists(kubeconform_file):\n",
    "                                raise Exception(f\"conform.json not found in {response_path}\")\n",
    "\n",
    "                        elif not testing_data.get(\"mysql_found\") or not testing_data.get(\"wordpress_found\"):\n",
    "                            aggregated_results[\"no_mysql_or_wordpress\"] += 1\n",
    "\n",
    "                        elif not testing_data.get(\"deployed_successful\"):\n",
    "                            aggregated_results[\"deployment_failed\"] += 1\n",
    "\n",
    "                            for deployment_error in testing_data.get(\"deploy_errors\"):\n",
    "                                DEBUG and print(f\"Deployment failed for {response_path}, error: {deployment_error}\")\n",
    "                                if \"AlreadyExists\" in deployment_error:\n",
    "                                    aggregated_results[\"duplicate_resources\"] += 1\n",
    "                                    break\n",
    "\n",
    "                        elif testing_data.get(\"healthy\"):\n",
    "                            aggregated_results[\"healthy\"] += 1\n",
    "                            scores_healthy.append(int(testing_data.get(\"polaris_score\")))\n",
    "\n",
    "                        else:\n",
    "                            # why did it fail if it was not healthy\n",
    "                            aggregated_results[\"unhealthy\"] += 1\n",
    "\n",
    "                            # Check why it failed in the k8sgpt.json file\n",
    "                            k8sgpt_file = os.path.join(response_path, \"k8sgpt.json\")\n",
    "                            if os.path.exists(k8sgpt_file):\n",
    "                                cause = check_k8sgpt(k8sgpt_file)\n",
    "                                if cause == \"PVC_failed\":\n",
    "                                    aggregated_results[\"PVC_failed\"] += 1\n",
    "                                elif cause == \"MySQL_PVC_unbound\":\n",
    "                                    aggregated_results[\"MySQL_PVC_unbound\"] += 1\n",
    "                                elif cause == \"MySQL_not_ready\":\n",
    "                                    aggregated_results[\"MySQL_not_ready\"] += 1\n",
    "                                elif cause == \"Wordpress_PVC_unbound\":\n",
    "                                    aggregated_results[\"Wordpress_PVC_unbound\"] += 1\n",
    "                                elif cause == \"Wordpress_not_ready\":\n",
    "                                    aggregated_results[\"Wordpress_not_ready\"] += 1\n",
    "                                elif cause == \"Unknown_error\":\n",
    "                                    aggregated_results[\"Unknown_error\"] += 1\n",
    "                                \n",
    "                            else:\n",
    "                                raise Exception(f\"k8sgpt.json not found in {response_path}\")\n",
    "                        \n",
    "                    except json.JSONDecodeError:\n",
    "                        raise Exception(f\"Error: Failed to parse JSON in {testing_file}\")\n",
    "            else:\n",
    "                raise Exception(f\"testing.json not found in {response_path}\")\n",
    "    return aggregated_results, scores_healthy"
   ]
  },
  {
   "cell_type": "markdown",
   "metadata": {},
   "source": [
    "# GPT-4o: Zero-Shot"
   ]
  },
  {
   "cell_type": "code",
   "execution_count": 61,
   "metadata": {},
   "outputs": [
    {
     "name": "stdout",
     "output_type": "stream",
     "text": [
      "Aggregated Results: ./gpt4o/zero_shot/baseline_system_prompt\n",
      "{\n",
      "    \"total_responses\": 50,\n",
      "    \"secrets_used\": 31,\n",
      "    \"base64_encoding_needed\": 3,\n",
      "    \"yaml_not_wrapped\": 0,\n",
      "    \"invalid_yaml\": 0,\n",
      "    \"kubeconform_failed\": 0,\n",
      "    \"no_mysql_or_wordpress\": 0,\n",
      "    \"deployment_failed\": 0,\n",
      "    \"duplicate_resources\": 0,\n",
      "    \"healthy\": 25,\n",
      "    \"unhealthy\": 25,\n",
      "    \"PVC_failed\": 1,\n",
      "    \"MySQL_PVC_unbound\": 0,\n",
      "    \"MySQL_not_ready\": 0,\n",
      "    \"Wordpress_PVC_unbound\": 0,\n",
      "    \"Wordpress_not_ready\": 24,\n",
      "    \"Unknown_error\": 0\n",
      "}\n",
      "Polaris Scores: [40, 40, 37, 37, 35, 36, 40, 40, 40, 40, 37, 35, 37, 40, 35, 35, 40, 37, 35, 35, 43, 35, 40, 40, 40]\n"
     ]
    }
   ],
   "source": [
    "base_directory = \"./gpt4o/zero_shot/baseline_system_prompt\"\n",
    "gpt4o_zs_baseline_system_prompt_results, gpt4o_zs_baseline_system_prompt_scores = aggregate_test_results(base_directory)\n",
    "\n",
    "print(f\"Aggregated Results: {base_directory}\")  \n",
    "print(json.dumps(gpt4o_zs_baseline_system_prompt_results, indent=4))\n",
    "print(f\"Polaris Scores: {gpt4o_zs_baseline_system_prompt_scores}\")"
   ]
  },
  {
   "cell_type": "code",
   "execution_count": 62,
   "metadata": {},
   "outputs": [
    {
     "name": "stdout",
     "output_type": "stream",
     "text": [
      "Aggregated Results: ./gpt4o/zero_shot/baseline_system_prompt_detailed\n",
      "{\n",
      "    \"total_responses\": 50,\n",
      "    \"secrets_used\": 49,\n",
      "    \"base64_encoding_needed\": 1,\n",
      "    \"yaml_not_wrapped\": 0,\n",
      "    \"invalid_yaml\": 0,\n",
      "    \"kubeconform_failed\": 0,\n",
      "    \"no_mysql_or_wordpress\": 0,\n",
      "    \"deployment_failed\": 0,\n",
      "    \"duplicate_resources\": 0,\n",
      "    \"healthy\": 43,\n",
      "    \"unhealthy\": 7,\n",
      "    \"PVC_failed\": 0,\n",
      "    \"MySQL_PVC_unbound\": 0,\n",
      "    \"MySQL_not_ready\": 0,\n",
      "    \"Wordpress_PVC_unbound\": 0,\n",
      "    \"Wordpress_not_ready\": 7,\n",
      "    \"Unknown_error\": 0\n",
      "}\n",
      "Polaris Scores: [42, 42, 42, 44, 42, 42, 42, 42, 42, 42, 42, 42, 42, 42, 44, 42, 44, 44, 42, 42, 39, 44, 42, 42, 42, 42, 42, 39, 44, 42, 44, 42, 42, 42, 42, 42, 44, 44, 39, 42, 42, 42, 42]\n"
     ]
    }
   ],
   "source": [
    "base_directory = \"./gpt4o/zero_shot/baseline_system_prompt_detailed\"\n",
    "gpt4o_zs_baseline_system_prompt_detailed_results, gpt4o_zs_baseline_system_prompt_detailed_scores = aggregate_test_results(base_directory)\n",
    "\n",
    "print(f\"Aggregated Results: {base_directory}\")  \n",
    "print(json.dumps(gpt4o_zs_baseline_system_prompt_detailed_results, indent=4))\n",
    "print(f\"Polaris Scores: {gpt4o_zs_baseline_system_prompt_detailed_scores}\")"
   ]
  },
  {
   "cell_type": "code",
   "execution_count": 63,
   "metadata": {},
   "outputs": [
    {
     "name": "stdout",
     "output_type": "stream",
     "text": [
      "Aggregated Results: ./gpt4o/zero_shot/role_system_prompt\n",
      "{\n",
      "    \"total_responses\": 50,\n",
      "    \"secrets_used\": 35,\n",
      "    \"base64_encoding_needed\": 1,\n",
      "    \"yaml_not_wrapped\": 0,\n",
      "    \"invalid_yaml\": 0,\n",
      "    \"kubeconform_failed\": 0,\n",
      "    \"no_mysql_or_wordpress\": 0,\n",
      "    \"deployment_failed\": 1,\n",
      "    \"duplicate_resources\": 1,\n",
      "    \"healthy\": 24,\n",
      "    \"unhealthy\": 25,\n",
      "    \"PVC_failed\": 0,\n",
      "    \"MySQL_PVC_unbound\": 0,\n",
      "    \"MySQL_not_ready\": 0,\n",
      "    \"Wordpress_PVC_unbound\": 0,\n",
      "    \"Wordpress_not_ready\": 25,\n",
      "    \"Unknown_error\": 0\n",
      "}\n",
      "Polaris Scores: [40, 35, 35, 40, 40, 40, 40, 41, 40, 35, 35, 35, 40, 38, 40, 40, 35, 40, 37, 40, 40, 36, 40, 38]\n"
     ]
    }
   ],
   "source": [
    "base_directory = \"./gpt4o/zero_shot/role_system_prompt\"\n",
    "gpt4o_zs_role_system_prompt_results, gpt4o_zs_role_system_prompt_scores = aggregate_test_results(base_directory)\n",
    "\n",
    "print(f\"Aggregated Results: {base_directory}\")\n",
    "print(json.dumps(gpt4o_zs_role_system_prompt_results, indent=4))\n",
    "print(f\"Polaris Scores: {gpt4o_zs_role_system_prompt_scores}\")"
   ]
  },
  {
   "cell_type": "code",
   "execution_count": 64,
   "metadata": {},
   "outputs": [
    {
     "name": "stdout",
     "output_type": "stream",
     "text": [
      "Aggregated Results: ./gpt4o/zero_shot/role_system_prompt_detailed\n",
      "{\n",
      "    \"total_responses\": 50,\n",
      "    \"secrets_used\": 48,\n",
      "    \"base64_encoding_needed\": 5,\n",
      "    \"yaml_not_wrapped\": 0,\n",
      "    \"invalid_yaml\": 0,\n",
      "    \"kubeconform_failed\": 0,\n",
      "    \"no_mysql_or_wordpress\": 0,\n",
      "    \"deployment_failed\": 1,\n",
      "    \"duplicate_resources\": 0,\n",
      "    \"healthy\": 43,\n",
      "    \"unhealthy\": 6,\n",
      "    \"PVC_failed\": 0,\n",
      "    \"MySQL_PVC_unbound\": 1,\n",
      "    \"MySQL_not_ready\": 0,\n",
      "    \"Wordpress_PVC_unbound\": 0,\n",
      "    \"Wordpress_not_ready\": 4,\n",
      "    \"Unknown_error\": 1\n",
      "}\n",
      "Polaris Scores: [42, 44, 40, 42, 42, 39, 42, 42, 44, 44, 42, 42, 42, 42, 42, 44, 42, 42, 42, 42, 42, 42, 42, 42, 42, 44, 42, 44, 42, 42, 42, 44, 44, 42, 42, 42, 44, 42, 44, 42, 42, 42, 42]\n"
     ]
    }
   ],
   "source": [
    "base_directory = \"./gpt4o/zero_shot/role_system_prompt_detailed\"\n",
    "gpt4o_zs_role_system_prompt_detailed_results, gpt4o_zs_role_system_prompt_detailed_scores = aggregate_test_results(base_directory)\n",
    "\n",
    "print(f\"Aggregated Results: {base_directory}\")\n",
    "print(json.dumps(gpt4o_zs_role_system_prompt_detailed_results, indent=4))\n",
    "print(f\"Polaris Scores: {gpt4o_zs_role_system_prompt_detailed_scores}\")"
   ]
  },
  {
   "cell_type": "code",
   "execution_count": 65,
   "metadata": {},
   "outputs": [
    {
     "name": "stdout",
     "output_type": "stream",
     "text": [
      "Aggregated Results: ./gpt4o/zero_shot/role_best_system_prompt\n",
      "{\n",
      "    \"total_responses\": 50,\n",
      "    \"secrets_used\": 36,\n",
      "    \"base64_encoding_needed\": 2,\n",
      "    \"yaml_not_wrapped\": 0,\n",
      "    \"invalid_yaml\": 0,\n",
      "    \"kubeconform_failed\": 1,\n",
      "    \"no_mysql_or_wordpress\": 0,\n",
      "    \"deployment_failed\": 0,\n",
      "    \"duplicate_resources\": 0,\n",
      "    \"healthy\": 30,\n",
      "    \"unhealthy\": 19,\n",
      "    \"PVC_failed\": 0,\n",
      "    \"MySQL_PVC_unbound\": 0,\n",
      "    \"MySQL_not_ready\": 0,\n",
      "    \"Wordpress_PVC_unbound\": 0,\n",
      "    \"Wordpress_not_ready\": 18,\n",
      "    \"Unknown_error\": 1\n",
      "}\n",
      "Polaris Scores: [36, 40, 37, 35, 40, 40, 40, 40, 35, 37, 35, 40, 40, 40, 41, 40, 40, 35, 41, 40, 40, 40, 37, 43, 40, 35, 37, 40, 40, 40]\n"
     ]
    }
   ],
   "source": [
    "base_directory = \"./gpt4o/zero_shot/role_best_system_prompt\"\n",
    "gpt4o_zs_role_best_system_prompt_results, gpt4o_zs_role_best_system_prompt_scores = aggregate_test_results(base_directory)\n",
    "\n",
    "print(f\"Aggregated Results: {base_directory}\")\n",
    "print(json.dumps(gpt4o_zs_role_best_system_prompt_results, indent=4))\n",
    "print(f\"Polaris Scores: {gpt4o_zs_role_best_system_prompt_scores}\")"
   ]
  },
  {
   "cell_type": "code",
   "execution_count": 66,
   "metadata": {},
   "outputs": [
    {
     "name": "stdout",
     "output_type": "stream",
     "text": [
      "Aggregated Results: ./gpt4o/zero_shot/role_best_system_prompt_detailed\n",
      "{\n",
      "    \"total_responses\": 50,\n",
      "    \"secrets_used\": 45,\n",
      "    \"base64_encoding_needed\": 10,\n",
      "    \"yaml_not_wrapped\": 0,\n",
      "    \"invalid_yaml\": 0,\n",
      "    \"kubeconform_failed\": 0,\n",
      "    \"no_mysql_or_wordpress\": 0,\n",
      "    \"deployment_failed\": 1,\n",
      "    \"duplicate_resources\": 0,\n",
      "    \"healthy\": 40,\n",
      "    \"unhealthy\": 9,\n",
      "    \"PVC_failed\": 0,\n",
      "    \"MySQL_PVC_unbound\": 0,\n",
      "    \"MySQL_not_ready\": 0,\n",
      "    \"Wordpress_PVC_unbound\": 0,\n",
      "    \"Wordpress_not_ready\": 9,\n",
      "    \"Unknown_error\": 0\n",
      "}\n",
      "Polaris Scores: [44, 44, 42, 42, 42, 42, 42, 39, 42, 42, 42, 42, 42, 42, 42, 44, 42, 44, 44, 44, 42, 42, 44, 42, 42, 44, 42, 42, 44, 44, 44, 42, 42, 44, 44, 44, 42, 42, 44, 42]\n"
     ]
    }
   ],
   "source": [
    "base_directory = \"./gpt4o/zero_shot/role_best_system_prompt_detailed\"\n",
    "gpt4o_zs_role_best_system_prompt_detailed_results, gpt4o_zs_role_best_system_prompt_detailed_scores = aggregate_test_results(base_directory)\n",
    "\n",
    "print(f\"Aggregated Results: {base_directory}\")\n",
    "print(json.dumps(gpt4o_zs_role_best_system_prompt_detailed_results, indent=4))\n",
    "print(f\"Polaris Scores: {gpt4o_zs_role_best_system_prompt_detailed_scores}\")"
   ]
  },
  {
   "cell_type": "markdown",
   "metadata": {},
   "source": [
    "# GPT-3.5: Zero-Shot"
   ]
  },
  {
   "cell_type": "code",
   "execution_count": 67,
   "metadata": {},
   "outputs": [
    {
     "name": "stdout",
     "output_type": "stream",
     "text": [
      "Aggregated Results: ./gpt3_5/zero_shot/baseline_system_prompt\n",
      "{\n",
      "    \"total_responses\": 50,\n",
      "    \"secrets_used\": 1,\n",
      "    \"base64_encoding_needed\": 0,\n",
      "    \"yaml_not_wrapped\": 0,\n",
      "    \"invalid_yaml\": 0,\n",
      "    \"kubeconform_failed\": 1,\n",
      "    \"no_mysql_or_wordpress\": 3,\n",
      "    \"deployment_failed\": 6,\n",
      "    \"duplicate_resources\": 0,\n",
      "    \"healthy\": 3,\n",
      "    \"unhealthy\": 37,\n",
      "    \"PVC_failed\": 1,\n",
      "    \"MySQL_PVC_unbound\": 0,\n",
      "    \"MySQL_not_ready\": 0,\n",
      "    \"Wordpress_PVC_unbound\": 0,\n",
      "    \"Wordpress_not_ready\": 36,\n",
      "    \"Unknown_error\": 0\n",
      "}\n",
      "Polaris Scores: [35, 35, 32]\n"
     ]
    }
   ],
   "source": [
    "base_directory = \"./gpt3_5/zero_shot/baseline_system_prompt\"\n",
    "gpt3_5_zs_baseline_system_prompt_results, gpt3_5_zs_baseline_system_prompt_scores = aggregate_test_results(base_directory)\n",
    "\n",
    "print(f\"Aggregated Results: {base_directory}\")\n",
    "print(json.dumps(gpt3_5_zs_baseline_system_prompt_results, indent=4))\n",
    "print(f\"Polaris Scores: {gpt3_5_zs_baseline_system_prompt_scores}\")"
   ]
  },
  {
   "cell_type": "code",
   "execution_count": 68,
   "metadata": {},
   "outputs": [
    {
     "name": "stdout",
     "output_type": "stream",
     "text": [
      "Aggregated Results: ./gpt3_5/zero_shot/baseline_system_prompt_detailed\n",
      "{\n",
      "    \"total_responses\": 50,\n",
      "    \"secrets_used\": 48,\n",
      "    \"base64_encoding_needed\": 24,\n",
      "    \"yaml_not_wrapped\": 0,\n",
      "    \"invalid_yaml\": 1,\n",
      "    \"kubeconform_failed\": 0,\n",
      "    \"no_mysql_or_wordpress\": 0,\n",
      "    \"deployment_failed\": 6,\n",
      "    \"duplicate_resources\": 2,\n",
      "    \"healthy\": 0,\n",
      "    \"unhealthy\": 43,\n",
      "    \"PVC_failed\": 0,\n",
      "    \"MySQL_PVC_unbound\": 0,\n",
      "    \"MySQL_not_ready\": 0,\n",
      "    \"Wordpress_PVC_unbound\": 0,\n",
      "    \"Wordpress_not_ready\": 34,\n",
      "    \"Unknown_error\": 9\n",
      "}\n",
      "Polaris Scores: []\n"
     ]
    }
   ],
   "source": [
    "base_directory = \"./gpt3_5/zero_shot/baseline_system_prompt_detailed\"\n",
    "gpt3_5_zs_baseline_system_prompt_detailed_results, gpt3_5_zs_baseline_system_prompt_detailed_scores = aggregate_test_results(base_directory)\n",
    "\n",
    "print(f\"Aggregated Results: {base_directory}\")\n",
    "print(json.dumps(gpt3_5_zs_baseline_system_prompt_detailed_results, indent=4))\n",
    "print(f\"Polaris Scores: {gpt3_5_zs_baseline_system_prompt_detailed_scores}\")"
   ]
  },
  {
   "cell_type": "code",
   "execution_count": 69,
   "metadata": {},
   "outputs": [
    {
     "name": "stdout",
     "output_type": "stream",
     "text": [
      "Aggregated Results: ./gpt3_5/zero_shot/role_system_prompt\n",
      "{\n",
      "    \"total_responses\": 50,\n",
      "    \"secrets_used\": 0,\n",
      "    \"base64_encoding_needed\": 0,\n",
      "    \"yaml_not_wrapped\": 0,\n",
      "    \"invalid_yaml\": 0,\n",
      "    \"kubeconform_failed\": 0,\n",
      "    \"no_mysql_or_wordpress\": 0,\n",
      "    \"deployment_failed\": 13,\n",
      "    \"duplicate_resources\": 0,\n",
      "    \"healthy\": 1,\n",
      "    \"unhealthy\": 36,\n",
      "    \"PVC_failed\": 3,\n",
      "    \"MySQL_PVC_unbound\": 0,\n",
      "    \"MySQL_not_ready\": 0,\n",
      "    \"Wordpress_PVC_unbound\": 0,\n",
      "    \"Wordpress_not_ready\": 31,\n",
      "    \"Unknown_error\": 2\n",
      "}\n",
      "Polaris Scores: [35]\n"
     ]
    }
   ],
   "source": [
    "base_directory = \"./gpt3_5/zero_shot/role_system_prompt\"\n",
    "gpt3_5_zs_role_system_prompt_results, gpt3_5_zs_role_system_prompt_scores = aggregate_test_results(base_directory)\n",
    "\n",
    "print(f\"Aggregated Results: {base_directory}\")\n",
    "print(json.dumps(gpt3_5_zs_role_system_prompt_results, indent=4))\n",
    "print(f\"Polaris Scores: {gpt3_5_zs_role_system_prompt_scores}\")"
   ]
  },
  {
   "cell_type": "code",
   "execution_count": 70,
   "metadata": {},
   "outputs": [
    {
     "name": "stdout",
     "output_type": "stream",
     "text": [
      "Aggregated Results: ./gpt3_5/zero_shot/role_system_prompt_detailed\n",
      "{\n",
      "    \"total_responses\": 50,\n",
      "    \"secrets_used\": 44,\n",
      "    \"base64_encoding_needed\": 20,\n",
      "    \"yaml_not_wrapped\": 0,\n",
      "    \"invalid_yaml\": 0,\n",
      "    \"kubeconform_failed\": 0,\n",
      "    \"no_mysql_or_wordpress\": 0,\n",
      "    \"deployment_failed\": 2,\n",
      "    \"duplicate_resources\": 0,\n",
      "    \"healthy\": 3,\n",
      "    \"unhealthy\": 45,\n",
      "    \"PVC_failed\": 0,\n",
      "    \"MySQL_PVC_unbound\": 0,\n",
      "    \"MySQL_not_ready\": 0,\n",
      "    \"Wordpress_PVC_unbound\": 0,\n",
      "    \"Wordpress_not_ready\": 31,\n",
      "    \"Unknown_error\": 14\n",
      "}\n",
      "Polaris Scores: [39, 38, 38]\n"
     ]
    }
   ],
   "source": [
    "base_directory = \"./gpt3_5/zero_shot/role_system_prompt_detailed\"\n",
    "gpt3_5_zs_role_system_prompt_detailed_results, gpt3_5_zs_role_system_prompt_detailed_scores = aggregate_test_results(base_directory)\n",
    "\n",
    "print(f\"Aggregated Results: {base_directory}\")\n",
    "print(json.dumps(gpt3_5_zs_role_system_prompt_detailed_results, indent=4))\n",
    "print(f\"Polaris Scores: {gpt3_5_zs_role_system_prompt_detailed_scores}\")"
   ]
  },
  {
   "cell_type": "code",
   "execution_count": 71,
   "metadata": {},
   "outputs": [
    {
     "name": "stdout",
     "output_type": "stream",
     "text": [
      "Aggregated Results: ./gpt3_5/zero_shot/role_best_system_prompt\n",
      "{\n",
      "    \"total_responses\": 50,\n",
      "    \"secrets_used\": 0,\n",
      "    \"base64_encoding_needed\": 0,\n",
      "    \"yaml_not_wrapped\": 0,\n",
      "    \"invalid_yaml\": 1,\n",
      "    \"kubeconform_failed\": 0,\n",
      "    \"no_mysql_or_wordpress\": 0,\n",
      "    \"deployment_failed\": 4,\n",
      "    \"duplicate_resources\": 0,\n",
      "    \"healthy\": 0,\n",
      "    \"unhealthy\": 45,\n",
      "    \"PVC_failed\": 4,\n",
      "    \"MySQL_PVC_unbound\": 0,\n",
      "    \"MySQL_not_ready\": 0,\n",
      "    \"Wordpress_PVC_unbound\": 0,\n",
      "    \"Wordpress_not_ready\": 40,\n",
      "    \"Unknown_error\": 1\n",
      "}\n",
      "Polaris Scores: []\n"
     ]
    }
   ],
   "source": [
    "base_directory = \"./gpt3_5/zero_shot/role_best_system_prompt\"\n",
    "gpt3_5_zs_role_best_system_prompt_results, gpt3_5_zs_role_best_system_prompt_scores = aggregate_test_results(base_directory)\n",
    "\n",
    "print(f\"Aggregated Results: {base_directory}\")\n",
    "print(json.dumps(gpt3_5_zs_role_best_system_prompt_results, indent=4))\n",
    "print(f\"Polaris Scores: {gpt3_5_zs_role_best_system_prompt_scores}\")"
   ]
  },
  {
   "cell_type": "code",
   "execution_count": 72,
   "metadata": {},
   "outputs": [
    {
     "name": "stdout",
     "output_type": "stream",
     "text": [
      "Aggregated Results: ./gpt3_5/zero_shot/role_best_system_prompt_detailed\n",
      "{\n",
      "    \"total_responses\": 50,\n",
      "    \"secrets_used\": 41,\n",
      "    \"base64_encoding_needed\": 21,\n",
      "    \"yaml_not_wrapped\": 0,\n",
      "    \"invalid_yaml\": 2,\n",
      "    \"kubeconform_failed\": 0,\n",
      "    \"no_mysql_or_wordpress\": 0,\n",
      "    \"deployment_failed\": 2,\n",
      "    \"duplicate_resources\": 1,\n",
      "    \"healthy\": 1,\n",
      "    \"unhealthy\": 45,\n",
      "    \"PVC_failed\": 0,\n",
      "    \"MySQL_PVC_unbound\": 0,\n",
      "    \"MySQL_not_ready\": 0,\n",
      "    \"Wordpress_PVC_unbound\": 0,\n",
      "    \"Wordpress_not_ready\": 36,\n",
      "    \"Unknown_error\": 9\n",
      "}\n",
      "Polaris Scores: [41]\n"
     ]
    }
   ],
   "source": [
    "base_directory = \"./gpt3_5/zero_shot/role_best_system_prompt_detailed\"\n",
    "gpt3_5_zs_role_best_system_prompt_detailed_results, gpt3_5_zs_role_best_system_prompt_detailed_scores = aggregate_test_results(base_directory)\n",
    "\n",
    "print(f\"Aggregated Results: {base_directory}\")\n",
    "print(json.dumps(gpt3_5_zs_role_best_system_prompt_detailed_results, indent=4))\n",
    "print(f\"Polaris Scores: {gpt3_5_zs_role_best_system_prompt_detailed_scores}\")"
   ]
  },
  {
   "cell_type": "markdown",
   "metadata": {},
   "source": [
    "# GPT-4: Zero-Shot"
   ]
  },
  {
   "cell_type": "code",
   "execution_count": 73,
   "metadata": {},
   "outputs": [
    {
     "name": "stdout",
     "output_type": "stream",
     "text": [
      "Aggregated Results: ./gpt4/zero_shot/baseline_system_prompt\n",
      "{\n",
      "    \"total_responses\": 50,\n",
      "    \"secrets_used\": 24,\n",
      "    \"base64_encoding_needed\": 11,\n",
      "    \"yaml_not_wrapped\": 0,\n",
      "    \"invalid_yaml\": 0,\n",
      "    \"kubeconform_failed\": 1,\n",
      "    \"no_mysql_or_wordpress\": 0,\n",
      "    \"deployment_failed\": 0,\n",
      "    \"duplicate_resources\": 0,\n",
      "    \"healthy\": 10,\n",
      "    \"unhealthy\": 39,\n",
      "    \"PVC_failed\": 0,\n",
      "    \"MySQL_PVC_unbound\": 0,\n",
      "    \"MySQL_not_ready\": 0,\n",
      "    \"Wordpress_PVC_unbound\": 0,\n",
      "    \"Wordpress_not_ready\": 34,\n",
      "    \"Unknown_error\": 5\n",
      "}\n",
      "Polaris Scores: [40, 35, 35, 35, 35, 35, 35, 35, 35, 35]\n"
     ]
    }
   ],
   "source": [
    "base_directory = \"./gpt4/zero_shot/baseline_system_prompt\"\n",
    "gpt4_zs_baseline_system_prompt_results, gpt4_zs_baseline_system_prompt_scores = aggregate_test_results(base_directory)\n",
    "\n",
    "print(f\"Aggregated Results: {base_directory}\")\n",
    "print(json.dumps(gpt4_zs_baseline_system_prompt_results, indent=4))\n",
    "print(f\"Polaris Scores: {gpt4_zs_baseline_system_prompt_scores}\")"
   ]
  },
  {
   "cell_type": "code",
   "execution_count": 74,
   "metadata": {},
   "outputs": [
    {
     "name": "stdout",
     "output_type": "stream",
     "text": [
      "Aggregated Results: ./gpt4/zero_shot/baseline_system_prompt_detailed\n",
      "{\n",
      "    \"total_responses\": 50,\n",
      "    \"secrets_used\": 45,\n",
      "    \"base64_encoding_needed\": 12,\n",
      "    \"yaml_not_wrapped\": 0,\n",
      "    \"invalid_yaml\": 0,\n",
      "    \"kubeconform_failed\": 4,\n",
      "    \"no_mysql_or_wordpress\": 0,\n",
      "    \"deployment_failed\": 2,\n",
      "    \"duplicate_resources\": 0,\n",
      "    \"healthy\": 29,\n",
      "    \"unhealthy\": 15,\n",
      "    \"PVC_failed\": 0,\n",
      "    \"MySQL_PVC_unbound\": 0,\n",
      "    \"MySQL_not_ready\": 0,\n",
      "    \"Wordpress_PVC_unbound\": 0,\n",
      "    \"Wordpress_not_ready\": 13,\n",
      "    \"Unknown_error\": 2\n",
      "}\n",
      "Polaris Scores: [39, 42, 42, 44, 39, 42, 42, 44, 43, 42, 42, 42, 44, 42, 39, 42, 42, 42, 42, 43, 42, 42, 44, 42, 42, 43, 42, 42, 42]\n"
     ]
    }
   ],
   "source": [
    "base_directory = \"./gpt4/zero_shot/baseline_system_prompt_detailed\"\n",
    "gpt4_zs_baseline_system_prompt_detailed_results, gpt4_zs_baseline_system_prompt_detailed_scores = aggregate_test_results(base_directory)\n",
    "\n",
    "print(f\"Aggregated Results: {base_directory}\")\n",
    "print(json.dumps(gpt4_zs_baseline_system_prompt_detailed_results, indent=4))\n",
    "print(f\"Polaris Scores: {gpt4_zs_baseline_system_prompt_detailed_scores}\")"
   ]
  },
  {
   "cell_type": "code",
   "execution_count": 75,
   "metadata": {},
   "outputs": [
    {
     "name": "stdout",
     "output_type": "stream",
     "text": [
      "Aggregated Results: ./gpt4/zero_shot/role_system_prompt\n",
      "{\n",
      "    \"total_responses\": 50,\n",
      "    \"secrets_used\": 27,\n",
      "    \"base64_encoding_needed\": 7,\n",
      "    \"yaml_not_wrapped\": 0,\n",
      "    \"invalid_yaml\": 1,\n",
      "    \"kubeconform_failed\": 0,\n",
      "    \"no_mysql_or_wordpress\": 0,\n",
      "    \"deployment_failed\": 1,\n",
      "    \"duplicate_resources\": 0,\n",
      "    \"healthy\": 6,\n",
      "    \"unhealthy\": 42,\n",
      "    \"PVC_failed\": 0,\n",
      "    \"MySQL_PVC_unbound\": 0,\n",
      "    \"MySQL_not_ready\": 0,\n",
      "    \"Wordpress_PVC_unbound\": 0,\n",
      "    \"Wordpress_not_ready\": 38,\n",
      "    \"Unknown_error\": 4\n",
      "}\n",
      "Polaris Scores: [35, 40, 35, 37, 35, 40]\n"
     ]
    }
   ],
   "source": [
    "base_directory = \"./gpt4/zero_shot/role_system_prompt\"\n",
    "gpt4_zs_role_system_prompt_results, gpt4_zs_role_system_prompt_scores = aggregate_test_results(base_directory)\n",
    "\n",
    "print(f\"Aggregated Results: {base_directory}\")\n",
    "print(json.dumps(gpt4_zs_role_system_prompt_results, indent=4))\n",
    "print(f\"Polaris Scores: {gpt4_zs_role_system_prompt_scores}\")"
   ]
  },
  {
   "cell_type": "code",
   "execution_count": 76,
   "metadata": {},
   "outputs": [
    {
     "name": "stdout",
     "output_type": "stream",
     "text": [
      "Aggregated Results: ./gpt4/zero_shot/role_system_prompt_detailed\n",
      "{\n",
      "    \"total_responses\": 50,\n",
      "    \"secrets_used\": 50,\n",
      "    \"base64_encoding_needed\": 4,\n",
      "    \"yaml_not_wrapped\": 0,\n",
      "    \"invalid_yaml\": 0,\n",
      "    \"kubeconform_failed\": 0,\n",
      "    \"no_mysql_or_wordpress\": 0,\n",
      "    \"deployment_failed\": 0,\n",
      "    \"duplicate_resources\": 0,\n",
      "    \"healthy\": 35,\n",
      "    \"unhealthy\": 15,\n",
      "    \"PVC_failed\": 0,\n",
      "    \"MySQL_PVC_unbound\": 0,\n",
      "    \"MySQL_not_ready\": 0,\n",
      "    \"Wordpress_PVC_unbound\": 0,\n",
      "    \"Wordpress_not_ready\": 13,\n",
      "    \"Unknown_error\": 2\n",
      "}\n",
      "Polaris Scores: [42, 42, 44, 39, 41, 42, 44, 42, 42, 42, 39, 43, 42, 39, 42, 39, 42, 42, 42, 43, 42, 42, 46, 43, 43, 42, 42, 43, 42, 42, 43, 42, 43, 39, 39]\n"
     ]
    }
   ],
   "source": [
    "base_directory = \"./gpt4/zero_shot/role_system_prompt_detailed\"\n",
    "gpt4_zs_role_system_prompt_detailed_results, gpt4_zs_role_system_prompt_detailed_scores = aggregate_test_results(base_directory)\n",
    "\n",
    "print(f\"Aggregated Results: {base_directory}\")\n",
    "print(json.dumps(gpt4_zs_role_system_prompt_detailed_results, indent=4))\n",
    "print(f\"Polaris Scores: {gpt4_zs_role_system_prompt_detailed_scores}\")"
   ]
  },
  {
   "cell_type": "code",
   "execution_count": 77,
   "metadata": {},
   "outputs": [
    {
     "name": "stdout",
     "output_type": "stream",
     "text": [
      "Aggregated Results: ./gpt4/zero_shot/role_best_system_prompt\n",
      "{\n",
      "    \"total_responses\": 50,\n",
      "    \"secrets_used\": 42,\n",
      "    \"base64_encoding_needed\": 11,\n",
      "    \"yaml_not_wrapped\": 0,\n",
      "    \"invalid_yaml\": 0,\n",
      "    \"kubeconform_failed\": 1,\n",
      "    \"no_mysql_or_wordpress\": 0,\n",
      "    \"deployment_failed\": 0,\n",
      "    \"duplicate_resources\": 0,\n",
      "    \"healthy\": 5,\n",
      "    \"unhealthy\": 44,\n",
      "    \"PVC_failed\": 0,\n",
      "    \"MySQL_PVC_unbound\": 0,\n",
      "    \"MySQL_not_ready\": 0,\n",
      "    \"Wordpress_PVC_unbound\": 0,\n",
      "    \"Wordpress_not_ready\": 42,\n",
      "    \"Unknown_error\": 2\n",
      "}\n",
      "Polaris Scores: [37, 40, 37, 35, 40]\n"
     ]
    }
   ],
   "source": [
    "base_directory = \"./gpt4/zero_shot/role_best_system_prompt\"\n",
    "gpt4_zs_role_best_system_prompt_results, gpt4_zs_role_best_system_prompt_scores = aggregate_test_results(base_directory)\n",
    "\n",
    "print(f\"Aggregated Results: {base_directory}\")\n",
    "print(json.dumps(gpt4_zs_role_best_system_prompt_results, indent=4))\n",
    "print(f\"Polaris Scores: {gpt4_zs_role_best_system_prompt_scores}\")"
   ]
  },
  {
   "cell_type": "code",
   "execution_count": 78,
   "metadata": {},
   "outputs": [
    {
     "name": "stdout",
     "output_type": "stream",
     "text": [
      "Aggregated Results: ./gpt4/zero_shot/role_best_system_prompt_detailed\n",
      "{\n",
      "    \"total_responses\": 50,\n",
      "    \"secrets_used\": 49,\n",
      "    \"base64_encoding_needed\": 7,\n",
      "    \"yaml_not_wrapped\": 0,\n",
      "    \"invalid_yaml\": 0,\n",
      "    \"kubeconform_failed\": 1,\n",
      "    \"no_mysql_or_wordpress\": 0,\n",
      "    \"deployment_failed\": 0,\n",
      "    \"duplicate_resources\": 0,\n",
      "    \"healthy\": 36,\n",
      "    \"unhealthy\": 13,\n",
      "    \"PVC_failed\": 0,\n",
      "    \"MySQL_PVC_unbound\": 0,\n",
      "    \"MySQL_not_ready\": 0,\n",
      "    \"Wordpress_PVC_unbound\": 0,\n",
      "    \"Wordpress_not_ready\": 10,\n",
      "    \"Unknown_error\": 3\n",
      "}\n",
      "Polaris Scores: [41, 44, 42, 42, 42, 41, 46, 42, 44, 42, 42, 42, 42, 42, 42, 42, 44, 42, 42, 42, 39, 42, 42, 42, 42, 42, 42, 42, 42, 42, 44, 42, 42, 42, 42, 42]\n"
     ]
    }
   ],
   "source": [
    "base_directory = \"./gpt4/zero_shot/role_best_system_prompt_detailed\"\n",
    "gpt4_zs_role_best_system_prompt_detailed_results, gpt4_zs_role_best_system_prompt_detailed_scores = aggregate_test_results(base_directory)\n",
    "\n",
    "print(f\"Aggregated Results: {base_directory}\")\n",
    "print(json.dumps(gpt4_zs_role_best_system_prompt_detailed_results, indent=4))\n",
    "print(f\"Polaris Scores: {gpt4_zs_role_best_system_prompt_detailed_scores}\")"
   ]
  },
  {
   "cell_type": "markdown",
   "metadata": {},
   "source": [
    "# GPT-4o: CoT"
   ]
  },
  {
   "cell_type": "code",
   "execution_count": 122,
   "metadata": {},
   "outputs": [
    {
     "name": "stdout",
     "output_type": "stream",
     "text": [
      "YAML not wrapped in ./gpt4o/cot/human_prompt/response-0\n",
      "Aggregated Results: ./gpt4o/cot/human_prompt\n",
      "{\n",
      "    \"total_responses\": 50,\n",
      "    \"secrets_used\": 21,\n",
      "    \"base64_encoding_needed\": 12,\n",
      "    \"yaml_not_wrapped\": 1,\n",
      "    \"invalid_yaml\": 3,\n",
      "    \"kubeconform_failed\": 20,\n",
      "    \"no_mysql_or_wordpress\": 0,\n",
      "    \"deployment_failed\": 0,\n",
      "    \"duplicate_resources\": 0,\n",
      "    \"healthy\": 20,\n",
      "    \"unhealthy\": 7,\n",
      "    \"PVC_failed\": 0,\n",
      "    \"MySQL_PVC_unbound\": 0,\n",
      "    \"MySQL_not_ready\": 0,\n",
      "    \"Wordpress_PVC_unbound\": 0,\n",
      "    \"Wordpress_not_ready\": 5,\n",
      "    \"Unknown_error\": 0\n",
      "}\n",
      "Polaris Scores: [35, 35, 35, 40, 39, 35, 40, 40, 40, 43, 40, 40, 40, 40, 40, 40, 40, 40, 40, 40]\n"
     ]
    }
   ],
   "source": [
    "base_directory = \"./gpt4o/cot/human_prompt\"\n",
    "gpt4o_cot_human_prompt_results, gpt4o_cot_human_prompt_scores = aggregate_test_results(base_directory)\n",
    "\n",
    "print(f\"Aggregated Results: {base_directory}\")\n",
    "print(json.dumps(gpt4o_cot_human_prompt_results, indent=4))\n",
    "print(f\"Polaris Scores: {gpt4o_cot_human_prompt_scores}\")"
   ]
  },
  {
   "cell_type": "code",
   "execution_count": 123,
   "metadata": {},
   "outputs": [
    {
     "name": "stdout",
     "output_type": "stream",
     "text": [
      "Aggregated Results: ./gpt4o/cot/human_prompt_detailed\n",
      "{\n",
      "    \"total_responses\": 50,\n",
      "    \"secrets_used\": 25,\n",
      "    \"base64_encoding_needed\": 10,\n",
      "    \"yaml_not_wrapped\": 0,\n",
      "    \"invalid_yaml\": 0,\n",
      "    \"kubeconform_failed\": 25,\n",
      "    \"no_mysql_or_wordpress\": 0,\n",
      "    \"deployment_failed\": 0,\n",
      "    \"duplicate_resources\": 0,\n",
      "    \"healthy\": 18,\n",
      "    \"unhealthy\": 7,\n",
      "    \"PVC_failed\": 2,\n",
      "    \"MySQL_PVC_unbound\": 0,\n",
      "    \"MySQL_not_ready\": 0,\n",
      "    \"Wordpress_PVC_unbound\": 0,\n",
      "    \"Wordpress_not_ready\": 5,\n",
      "    \"Unknown_error\": 0\n",
      "}\n",
      "Polaris Scores: [42, 42, 42, 42, 42, 42, 42, 42, 40, 42, 42, 42, 44, 44, 42, 42, 42, 40]\n"
     ]
    }
   ],
   "source": [
    "base_directory = \"./gpt4o/cot/human_prompt_detailed\"\n",
    "gpt4o_cot_human_prompt_detailed_results, gpt4o_cot_human_prompt_detailed_scores = aggregate_test_results(base_directory)\n",
    "\n",
    "print(f\"Aggregated Results: {base_directory}\")\n",
    "print(json.dumps(gpt4o_cot_human_prompt_detailed_results, indent=4))\n",
    "print(f\"Polaris Scores: {gpt4o_cot_human_prompt_detailed_scores}\")"
   ]
  },
  {
   "cell_type": "code",
   "execution_count": 124,
   "metadata": {},
   "outputs": [
    {
     "name": "stdout",
     "output_type": "stream",
     "text": [
      "Aggregated Results: ./gpt4o/cot/ape_prompt\n",
      "{\n",
      "    \"total_responses\": 50,\n",
      "    \"secrets_used\": 30,\n",
      "    \"base64_encoding_needed\": 11,\n",
      "    \"yaml_not_wrapped\": 0,\n",
      "    \"invalid_yaml\": 0,\n",
      "    \"kubeconform_failed\": 12,\n",
      "    \"no_mysql_or_wordpress\": 0,\n",
      "    \"deployment_failed\": 0,\n",
      "    \"duplicate_resources\": 0,\n",
      "    \"healthy\": 26,\n",
      "    \"unhealthy\": 12,\n",
      "    \"PVC_failed\": 0,\n",
      "    \"MySQL_PVC_unbound\": 0,\n",
      "    \"MySQL_not_ready\": 0,\n",
      "    \"Wordpress_PVC_unbound\": 0,\n",
      "    \"Wordpress_not_ready\": 12,\n",
      "    \"Unknown_error\": 0\n",
      "}\n",
      "Polaris Scores: [40, 35, 40, 40, 40, 40, 40, 35, 40, 40, 40, 40, 40, 40, 40, 40, 37, 40, 40, 35, 40, 35, 43, 40, 40, 40]\n"
     ]
    }
   ],
   "source": [
    "base_directory = \"./gpt4o/cot/ape_prompt\"\n",
    "gpt4o_cot_ape_prompt_results, gpt4o_cot_ape_prompt_scores = aggregate_test_results(base_directory)\n",
    "\n",
    "print(f\"Aggregated Results: {base_directory}\")\n",
    "print(json.dumps(gpt4o_cot_ape_prompt_results, indent=4))\n",
    "print(f\"Polaris Scores: {gpt4o_cot_ape_prompt_scores}\")"
   ]
  },
  {
   "cell_type": "code",
   "execution_count": 125,
   "metadata": {},
   "outputs": [
    {
     "name": "stdout",
     "output_type": "stream",
     "text": [
      "Aggregated Results: ./gpt4o/cot/ape_prompt_detailed\n",
      "{\n",
      "    \"total_responses\": 50,\n",
      "    \"secrets_used\": 32,\n",
      "    \"base64_encoding_needed\": 20,\n",
      "    \"yaml_not_wrapped\": 0,\n",
      "    \"invalid_yaml\": 0,\n",
      "    \"kubeconform_failed\": 18,\n",
      "    \"no_mysql_or_wordpress\": 0,\n",
      "    \"deployment_failed\": 0,\n",
      "    \"duplicate_resources\": 0,\n",
      "    \"healthy\": 21,\n",
      "    \"unhealthy\": 11,\n",
      "    \"PVC_failed\": 0,\n",
      "    \"MySQL_PVC_unbound\": 1,\n",
      "    \"MySQL_not_ready\": 0,\n",
      "    \"Wordpress_PVC_unbound\": 0,\n",
      "    \"Wordpress_not_ready\": 9,\n",
      "    \"Unknown_error\": 1\n",
      "}\n",
      "Polaris Scores: [42, 42, 42, 44, 44, 40, 42, 42, 42, 42, 40, 42, 42, 44, 42, 42, 44, 44, 42, 44, 42]\n"
     ]
    }
   ],
   "source": [
    "base_directory = \"./gpt4o/cot/ape_prompt_detailed\"\n",
    "gpt4o_cot_ape_prompt_detailed_results, gpt4o_cot_ape_prompt_detailed_scores = aggregate_test_results(base_directory)\n",
    "\n",
    "print(f\"Aggregated Results: {base_directory}\")\n",
    "print(json.dumps(gpt4o_cot_ape_prompt_detailed_results, indent=4))\n",
    "print(f\"Polaris Scores: {gpt4o_cot_ape_prompt_detailed_scores}\")"
   ]
  },
  {
   "cell_type": "markdown",
   "metadata": {},
   "source": [
    "# GPT-4: CoT"
   ]
  },
  {
   "cell_type": "code",
   "execution_count": 83,
   "metadata": {},
   "outputs": [
    {
     "name": "stdout",
     "output_type": "stream",
     "text": [
      "Aggregated Results: ./gpt4/cot/human_prompt\n",
      "{\n",
      "    \"total_responses\": 50,\n",
      "    \"secrets_used\": 33,\n",
      "    \"base64_encoding_needed\": 23,\n",
      "    \"yaml_not_wrapped\": 0,\n",
      "    \"invalid_yaml\": 0,\n",
      "    \"kubeconform_failed\": 3,\n",
      "    \"no_mysql_or_wordpress\": 2,\n",
      "    \"deployment_failed\": 0,\n",
      "    \"duplicate_resources\": 0,\n",
      "    \"healthy\": 15,\n",
      "    \"unhealthy\": 30,\n",
      "    \"PVC_failed\": 0,\n",
      "    \"MySQL_PVC_unbound\": 0,\n",
      "    \"MySQL_not_ready\": 0,\n",
      "    \"Wordpress_PVC_unbound\": 0,\n",
      "    \"Wordpress_not_ready\": 30,\n",
      "    \"Unknown_error\": 0\n",
      "}\n",
      "Polaris Scores: [40, 40, 35, 40, 35, 40, 40, 35, 42, 35, 35, 35, 35, 35, 35]\n"
     ]
    }
   ],
   "source": [
    "base_directory = \"./gpt4/cot/human_prompt\"\n",
    "gpt4_cot_human_prompt_results, gpt4_cot_human_prompt_scores = aggregate_test_results(base_directory)\n",
    "\n",
    "print(f\"Aggregated Results: {base_directory}\")\n",
    "print(json.dumps(gpt4_cot_human_prompt_results, indent=4))\n",
    "print(f\"Polaris Scores: {gpt4_cot_human_prompt_scores}\")"
   ]
  },
  {
   "cell_type": "code",
   "execution_count": 84,
   "metadata": {},
   "outputs": [
    {
     "name": "stdout",
     "output_type": "stream",
     "text": [
      "Aggregated Results: ./gpt4/cot/human_prompt_detailed\n",
      "{\n",
      "    \"total_responses\": 50,\n",
      "    \"secrets_used\": 47,\n",
      "    \"base64_encoding_needed\": 23,\n",
      "    \"yaml_not_wrapped\": 0,\n",
      "    \"invalid_yaml\": 0,\n",
      "    \"kubeconform_failed\": 3,\n",
      "    \"no_mysql_or_wordpress\": 0,\n",
      "    \"deployment_failed\": 0,\n",
      "    \"duplicate_resources\": 0,\n",
      "    \"healthy\": 31,\n",
      "    \"unhealthy\": 16,\n",
      "    \"PVC_failed\": 0,\n",
      "    \"MySQL_PVC_unbound\": 0,\n",
      "    \"MySQL_not_ready\": 0,\n",
      "    \"Wordpress_PVC_unbound\": 0,\n",
      "    \"Wordpress_not_ready\": 16,\n",
      "    \"Unknown_error\": 0\n",
      "}\n",
      "Polaris Scores: [42, 42, 42, 42, 42, 42, 42, 43, 42, 42, 42, 42, 42, 39, 42, 42, 42, 42, 43, 42, 42, 42, 42, 42, 42, 42, 42, 42, 42, 42, 42]\n"
     ]
    }
   ],
   "source": [
    "base_directory = \"./gpt4/cot/human_prompt_detailed\"\n",
    "gpt4_cot_human_prompt_detailed_results, gpt4_cot_human_prompt_detailed_scores = aggregate_test_results(base_directory)\n",
    "\n",
    "print(f\"Aggregated Results: {base_directory}\")\n",
    "print(json.dumps(gpt4_cot_human_prompt_detailed_results, indent=4))\n",
    "print(f\"Polaris Scores: {gpt4_cot_human_prompt_detailed_scores}\")"
   ]
  },
  {
   "cell_type": "code",
   "execution_count": 85,
   "metadata": {},
   "outputs": [
    {
     "name": "stdout",
     "output_type": "stream",
     "text": [
      "Aggregated Results: ./gpt4/cot/ape_prompt\n",
      "{\n",
      "    \"total_responses\": 50,\n",
      "    \"secrets_used\": 34,\n",
      "    \"base64_encoding_needed\": 25,\n",
      "    \"yaml_not_wrapped\": 0,\n",
      "    \"invalid_yaml\": 2,\n",
      "    \"kubeconform_failed\": 1,\n",
      "    \"no_mysql_or_wordpress\": 1,\n",
      "    \"deployment_failed\": 0,\n",
      "    \"duplicate_resources\": 0,\n",
      "    \"healthy\": 18,\n",
      "    \"unhealthy\": 28,\n",
      "    \"PVC_failed\": 0,\n",
      "    \"MySQL_PVC_unbound\": 0,\n",
      "    \"MySQL_not_ready\": 0,\n",
      "    \"Wordpress_PVC_unbound\": 0,\n",
      "    \"Wordpress_not_ready\": 26,\n",
      "    \"Unknown_error\": 2\n",
      "}\n",
      "Polaris Scores: [35, 35, 35, 35, 35, 40, 40, 40, 35, 35, 40, 40, 40, 40, 35, 40, 40, 35]\n"
     ]
    }
   ],
   "source": [
    "base_directory = \"./gpt4/cot/ape_prompt\"\n",
    "gpt4_cot_ape_prompt_results, gpt4_cot_ape_prompt_scores = aggregate_test_results(base_directory)\n",
    "\n",
    "print(f\"Aggregated Results: {base_directory}\")\n",
    "print(json.dumps(gpt4_cot_ape_prompt_results, indent=4))\n",
    "print(f\"Polaris Scores: {gpt4_cot_ape_prompt_scores}\")"
   ]
  },
  {
   "cell_type": "code",
   "execution_count": 86,
   "metadata": {},
   "outputs": [
    {
     "name": "stdout",
     "output_type": "stream",
     "text": [
      "Aggregated Results: ./gpt4/cot/ape_prompt_detailed\n",
      "{\n",
      "    \"total_responses\": 50,\n",
      "    \"secrets_used\": 46,\n",
      "    \"base64_encoding_needed\": 25,\n",
      "    \"yaml_not_wrapped\": 0,\n",
      "    \"invalid_yaml\": 0,\n",
      "    \"kubeconform_failed\": 2,\n",
      "    \"no_mysql_or_wordpress\": 0,\n",
      "    \"deployment_failed\": 1,\n",
      "    \"duplicate_resources\": 0,\n",
      "    \"healthy\": 25,\n",
      "    \"unhealthy\": 22,\n",
      "    \"PVC_failed\": 0,\n",
      "    \"MySQL_PVC_unbound\": 0,\n",
      "    \"MySQL_not_ready\": 0,\n",
      "    \"Wordpress_PVC_unbound\": 0,\n",
      "    \"Wordpress_not_ready\": 15,\n",
      "    \"Unknown_error\": 7\n",
      "}\n",
      "Polaris Scores: [42, 42, 44, 42, 42, 42, 42, 36, 42, 42, 42, 39, 42, 39, 42, 42, 42, 42, 42, 39, 42, 42, 42, 42, 42]\n"
     ]
    }
   ],
   "source": [
    "base_directory = \"./gpt4/cot/ape_prompt_detailed\"\n",
    "gpt4_cot_ape_prompt_detailed_results, gpt4_cot_ape_prompt_detailed_scores = aggregate_test_results(base_directory)\n",
    "\n",
    "print(f\"Aggregated Results: {base_directory}\")\n",
    "print(json.dumps(gpt4_cot_ape_prompt_detailed_results, indent=4))\n",
    "print(f\"Polaris Scores: {gpt4_cot_ape_prompt_detailed_scores}\")"
   ]
  },
  {
   "cell_type": "markdown",
   "metadata": {},
   "source": [
    "# GPT-3.5: CoT"
   ]
  },
  {
   "cell_type": "code",
   "execution_count": 87,
   "metadata": {},
   "outputs": [
    {
     "name": "stdout",
     "output_type": "stream",
     "text": [
      "Aggregated Results: ./gpt3_5/cot/human_prompt\n",
      "{\n",
      "    \"total_responses\": 50,\n",
      "    \"secrets_used\": 10,\n",
      "    \"base64_encoding_needed\": 8,\n",
      "    \"yaml_not_wrapped\": 0,\n",
      "    \"invalid_yaml\": 0,\n",
      "    \"kubeconform_failed\": 1,\n",
      "    \"no_mysql_or_wordpress\": 1,\n",
      "    \"deployment_failed\": 1,\n",
      "    \"duplicate_resources\": 0,\n",
      "    \"healthy\": 9,\n",
      "    \"unhealthy\": 38,\n",
      "    \"PVC_failed\": 0,\n",
      "    \"MySQL_PVC_unbound\": 0,\n",
      "    \"MySQL_not_ready\": 0,\n",
      "    \"Wordpress_PVC_unbound\": 0,\n",
      "    \"Wordpress_not_ready\": 35,\n",
      "    \"Unknown_error\": 3\n",
      "}\n",
      "Polaris Scores: [35, 32, 35, 32, 36, 32, 35, 35, 36]\n"
     ]
    }
   ],
   "source": [
    "base_directory = \"./gpt3_5/cot/human_prompt\"\n",
    "gpt3_5_cot_human_prompt_results, gpt3_5_cot_human_prompt_scores = aggregate_test_results(base_directory)\n",
    "\n",
    "print(f\"Aggregated Results: {base_directory}\")\n",
    "print(json.dumps(gpt3_5_cot_human_prompt_results, indent=4))\n",
    "print(f\"Polaris Scores: {gpt3_5_cot_human_prompt_scores}\")"
   ]
  },
  {
   "cell_type": "code",
   "execution_count": 88,
   "metadata": {},
   "outputs": [
    {
     "name": "stdout",
     "output_type": "stream",
     "text": [
      "Aggregated Results: ./gpt3_5/cot/human_prompt_detailed\n",
      "{\n",
      "    \"total_responses\": 50,\n",
      "    \"secrets_used\": 41,\n",
      "    \"base64_encoding_needed\": 22,\n",
      "    \"yaml_not_wrapped\": 0,\n",
      "    \"invalid_yaml\": 4,\n",
      "    \"kubeconform_failed\": 2,\n",
      "    \"no_mysql_or_wordpress\": 1,\n",
      "    \"deployment_failed\": 1,\n",
      "    \"duplicate_resources\": 0,\n",
      "    \"healthy\": 2,\n",
      "    \"unhealthy\": 40,\n",
      "    \"PVC_failed\": 0,\n",
      "    \"MySQL_PVC_unbound\": 0,\n",
      "    \"MySQL_not_ready\": 0,\n",
      "    \"Wordpress_PVC_unbound\": 0,\n",
      "    \"Wordpress_not_ready\": 36,\n",
      "    \"Unknown_error\": 4\n",
      "}\n",
      "Polaris Scores: [36, 39]\n"
     ]
    }
   ],
   "source": [
    "base_directory = \"./gpt3_5/cot/human_prompt_detailed\"\n",
    "gpt3_5_cot_human_prompt_detailed_results, gpt3_5_cot_human_prompt_detailed_scores = aggregate_test_results(base_directory)\n",
    "\n",
    "print(f\"Aggregated Results: {base_directory}\")\n",
    "print(json.dumps(gpt3_5_cot_human_prompt_detailed_results, indent=4))\n",
    "print(f\"Polaris Scores: {gpt3_5_cot_human_prompt_detailed_scores}\")"
   ]
  },
  {
   "cell_type": "code",
   "execution_count": 89,
   "metadata": {},
   "outputs": [
    {
     "name": "stdout",
     "output_type": "stream",
     "text": [
      "Aggregated Results: ./gpt3_5/cot/ape_prompt\n",
      "{\n",
      "    \"total_responses\": 50,\n",
      "    \"secrets_used\": 10,\n",
      "    \"base64_encoding_needed\": 9,\n",
      "    \"yaml_not_wrapped\": 0,\n",
      "    \"invalid_yaml\": 1,\n",
      "    \"kubeconform_failed\": 0,\n",
      "    \"no_mysql_or_wordpress\": 1,\n",
      "    \"deployment_failed\": 1,\n",
      "    \"duplicate_resources\": 0,\n",
      "    \"healthy\": 10,\n",
      "    \"unhealthy\": 37,\n",
      "    \"PVC_failed\": 0,\n",
      "    \"MySQL_PVC_unbound\": 0,\n",
      "    \"MySQL_not_ready\": 0,\n",
      "    \"Wordpress_PVC_unbound\": 0,\n",
      "    \"Wordpress_not_ready\": 37,\n",
      "    \"Unknown_error\": 0\n",
      "}\n",
      "Polaris Scores: [32, 32, 32, 32, 32, 32, 32, 32, 35, 32]\n"
     ]
    }
   ],
   "source": [
    "base_directory = \"./gpt3_5/cot/ape_prompt\"\n",
    "gpt3_5_cot_ape_prompt_results, gpt3_5_cot_ape_prompt_scores = aggregate_test_results(base_directory)\n",
    "\n",
    "print(f\"Aggregated Results: {base_directory}\")\n",
    "print(json.dumps(gpt3_5_cot_ape_prompt_results, indent=4))\n",
    "print(f\"Polaris Scores: {gpt3_5_cot_ape_prompt_scores}\")"
   ]
  },
  {
   "cell_type": "code",
   "execution_count": 90,
   "metadata": {},
   "outputs": [
    {
     "name": "stdout",
     "output_type": "stream",
     "text": [
      "Aggregated Results: ./gpt3_5/cot/ape_prompt_detailed\n",
      "{\n",
      "    \"total_responses\": 50,\n",
      "    \"secrets_used\": 47,\n",
      "    \"base64_encoding_needed\": 24,\n",
      "    \"yaml_not_wrapped\": 0,\n",
      "    \"invalid_yaml\": 0,\n",
      "    \"kubeconform_failed\": 1,\n",
      "    \"no_mysql_or_wordpress\": 0,\n",
      "    \"deployment_failed\": 3,\n",
      "    \"duplicate_resources\": 0,\n",
      "    \"healthy\": 7,\n",
      "    \"unhealthy\": 39,\n",
      "    \"PVC_failed\": 0,\n",
      "    \"MySQL_PVC_unbound\": 0,\n",
      "    \"MySQL_not_ready\": 0,\n",
      "    \"Wordpress_PVC_unbound\": 0,\n",
      "    \"Wordpress_not_ready\": 32,\n",
      "    \"Unknown_error\": 7\n",
      "}\n",
      "Polaris Scores: [36, 36, 36, 36, 36, 36, 39]\n"
     ]
    }
   ],
   "source": [
    "base_directory = \"./gpt3_5/cot/ape_prompt_detailed\"\n",
    "gpt3_5_cot_ape_prompt_detailed_results, gpt3_5_cot_ape_prompt_detailed_scores = aggregate_test_results(base_directory)\n",
    "\n",
    "print(f\"Aggregated Results: {base_directory}\")\n",
    "print(json.dumps(gpt3_5_cot_ape_prompt_detailed_results, indent=4))\n",
    "print(f\"Polaris Scores: {gpt3_5_cot_ape_prompt_detailed_scores}\")"
   ]
  },
  {
   "cell_type": "markdown",
   "metadata": {},
   "source": [
    "# GPT-4o: ToT"
   ]
  },
  {
   "cell_type": "code",
   "execution_count": 91,
   "metadata": {},
   "outputs": [
    {
     "name": "stdout",
     "output_type": "stream",
     "text": [
      "Aggregated Results: ./gpt4o/tot/tot_prompt_1\n",
      "{\n",
      "    \"total_responses\": 50,\n",
      "    \"secrets_used\": 29,\n",
      "    \"base64_encoding_needed\": 1,\n",
      "    \"yaml_not_wrapped\": 0,\n",
      "    \"invalid_yaml\": 0,\n",
      "    \"kubeconform_failed\": 0,\n",
      "    \"no_mysql_or_wordpress\": 1,\n",
      "    \"deployment_failed\": 0,\n",
      "    \"duplicate_resources\": 0,\n",
      "    \"healthy\": 30,\n",
      "    \"unhealthy\": 19,\n",
      "    \"PVC_failed\": 1,\n",
      "    \"MySQL_PVC_unbound\": 0,\n",
      "    \"MySQL_not_ready\": 0,\n",
      "    \"Wordpress_PVC_unbound\": 0,\n",
      "    \"Wordpress_not_ready\": 17,\n",
      "    \"Unknown_error\": 1\n",
      "}\n",
      "Polaris Scores: [40, 43, 40, 35, 43, 35, 37, 35, 35, 37, 37, 35, 40, 40, 35, 35, 43, 37, 37, 40, 35, 40, 40, 40, 40, 35, 40, 40, 37, 40]\n"
     ]
    }
   ],
   "source": [
    "base_directory = \"./gpt4o/tot/tot_prompt_1\"\n",
    "gpt4o_tot_prompt_1_results, gpt4o_tot_prompt_1_scores = aggregate_test_results(base_directory)\n",
    "\n",
    "print(f\"Aggregated Results: {base_directory}\")\n",
    "print(json.dumps(gpt4o_tot_prompt_1_results, indent=4))\n",
    "print(f\"Polaris Scores: {gpt4o_tot_prompt_1_scores}\")\n"
   ]
  },
  {
   "cell_type": "code",
   "execution_count": 92,
   "metadata": {},
   "outputs": [
    {
     "name": "stdout",
     "output_type": "stream",
     "text": [
      "Aggregated Results: ./gpt4o/tot/tot_prompt_2\n",
      "{\n",
      "    \"total_responses\": 50,\n",
      "    \"secrets_used\": 28,\n",
      "    \"base64_encoding_needed\": 0,\n",
      "    \"yaml_not_wrapped\": 0,\n",
      "    \"invalid_yaml\": 0,\n",
      "    \"kubeconform_failed\": 1,\n",
      "    \"no_mysql_or_wordpress\": 3,\n",
      "    \"deployment_failed\": 2,\n",
      "    \"duplicate_resources\": 2,\n",
      "    \"healthy\": 21,\n",
      "    \"unhealthy\": 23,\n",
      "    \"PVC_failed\": 0,\n",
      "    \"MySQL_PVC_unbound\": 0,\n",
      "    \"MySQL_not_ready\": 0,\n",
      "    \"Wordpress_PVC_unbound\": 0,\n",
      "    \"Wordpress_not_ready\": 19,\n",
      "    \"Unknown_error\": 3\n",
      "}\n",
      "Polaris Scores: [40, 40, 40, 35, 40, 35, 35, 40, 37, 35, 35, 35, 43, 40, 35, 35, 37, 43, 40, 35, 40]\n"
     ]
    }
   ],
   "source": [
    "base_directory = \"./gpt4o/tot/tot_prompt_2\"\n",
    "gpt4o_tot_prompt_2_results, gpt4o_tot_prompt_2_scores = aggregate_test_results(base_directory)\n",
    "\n",
    "print(f\"Aggregated Results: {base_directory}\")\n",
    "print(json.dumps(gpt4o_tot_prompt_2_results, indent=4))\n",
    "print(f\"Polaris Scores: {gpt4o_tot_prompt_2_scores}\")"
   ]
  },
  {
   "cell_type": "code",
   "execution_count": 155,
   "metadata": {},
   "outputs": [
    {
     "name": "stdout",
     "output_type": "stream",
     "text": [
      "Aggregated Results: ./gpt4o/tot/tot_prompt_3\n",
      "{\n",
      "    \"total_responses\": 50,\n",
      "    \"secrets_used\": 20,\n",
      "    \"base64_encoding_needed\": 1,\n",
      "    \"yaml_not_wrapped\": 0,\n",
      "    \"invalid_yaml\": 3,\n",
      "    \"kubeconform_failed\": 1,\n",
      "    \"no_mysql_or_wordpress\": 1,\n",
      "    \"deployment_failed\": 1,\n",
      "    \"duplicate_resources\": 1,\n",
      "    \"healthy\": 26,\n",
      "    \"unhealthy\": 18,\n",
      "    \"PVC_failed\": 2,\n",
      "    \"MySQL_PVC_unbound\": 0,\n",
      "    \"MySQL_not_ready\": 0,\n",
      "    \"Wordpress_PVC_unbound\": 0,\n",
      "    \"Wordpress_not_ready\": 16,\n",
      "    \"Unknown_error\": 0\n",
      "}\n",
      "Polaris Scores: [40, 35, 37, 37, 37, 43, 40, 40, 40, 40, 40, 37, 35, 40, 35, 37, 37, 37, 40, 40, 37, 37, 35, 40, 40, 37]\n"
     ]
    }
   ],
   "source": [
    "base_directory = \"./gpt4o/tot/tot_prompt_3\"\n",
    "gpt4o_tot_prompt_3_results, gpt4o_tot_prompt_3_scores = aggregate_test_results(base_directory)\n",
    "\n",
    "print(f\"Aggregated Results: {base_directory}\")\n",
    "print(json.dumps(gpt4o_tot_prompt_3_results, indent=4))\n",
    "print(f\"Polaris Scores: {gpt4o_tot_prompt_3_scores}\")"
   ]
  },
  {
   "cell_type": "code",
   "execution_count": 127,
   "metadata": {},
   "outputs": [
    {
     "name": "stdout",
     "output_type": "stream",
     "text": [
      "Aggregated Results: ./gpt4o/tot/tot_detailed_prompt_1\n",
      "{\n",
      "    \"total_responses\": 50,\n",
      "    \"secrets_used\": 47,\n",
      "    \"base64_encoding_needed\": 8,\n",
      "    \"yaml_not_wrapped\": 0,\n",
      "    \"invalid_yaml\": 0,\n",
      "    \"kubeconform_failed\": 0,\n",
      "    \"no_mysql_or_wordpress\": 0,\n",
      "    \"deployment_failed\": 0,\n",
      "    \"duplicate_resources\": 0,\n",
      "    \"healthy\": 36,\n",
      "    \"unhealthy\": 14,\n",
      "    \"PVC_failed\": 1,\n",
      "    \"MySQL_PVC_unbound\": 0,\n",
      "    \"MySQL_not_ready\": 0,\n",
      "    \"Wordpress_PVC_unbound\": 0,\n",
      "    \"Wordpress_not_ready\": 11,\n",
      "    \"Unknown_error\": 2\n",
      "}\n",
      "Polaris Scores: [42, 42, 44, 44, 44, 44, 42, 42, 44, 42, 42, 42, 42, 42, 42, 44, 44, 42, 44, 42, 42, 42, 42, 42, 42, 43, 42, 44, 42, 42, 44, 44, 42, 44, 39, 42]\n"
     ]
    }
   ],
   "source": [
    "base_directory = \"./gpt4o/tot/tot_detailed_prompt_1\"\n",
    "gpt4o_tot_detailed_prompt_1_results, gpt4o_tot_detailed_prompt_1_scores = aggregate_test_results(base_directory)\n",
    "\n",
    "print(f\"Aggregated Results: {base_directory}\")\n",
    "print(json.dumps(gpt4o_tot_detailed_prompt_1_results, indent=4))\n",
    "print(f\"Polaris Scores: {gpt4o_tot_detailed_prompt_1_scores}\")"
   ]
  },
  {
   "cell_type": "code",
   "execution_count": 128,
   "metadata": {},
   "outputs": [
    {
     "name": "stdout",
     "output_type": "stream",
     "text": [
      "Aggregated Results: ./gpt4o/tot/tot_detailed_prompt_2\n",
      "{\n",
      "    \"total_responses\": 50,\n",
      "    \"secrets_used\": 50,\n",
      "    \"base64_encoding_needed\": 6,\n",
      "    \"yaml_not_wrapped\": 0,\n",
      "    \"invalid_yaml\": 0,\n",
      "    \"kubeconform_failed\": 0,\n",
      "    \"no_mysql_or_wordpress\": 0,\n",
      "    \"deployment_failed\": 0,\n",
      "    \"duplicate_resources\": 0,\n",
      "    \"healthy\": 38,\n",
      "    \"unhealthy\": 12,\n",
      "    \"PVC_failed\": 1,\n",
      "    \"MySQL_PVC_unbound\": 0,\n",
      "    \"MySQL_not_ready\": 0,\n",
      "    \"Wordpress_PVC_unbound\": 0,\n",
      "    \"Wordpress_not_ready\": 9,\n",
      "    \"Unknown_error\": 2\n",
      "}\n",
      "Polaris Scores: [42, 42, 42, 42, 44, 42, 42, 42, 42, 42, 42, 42, 40, 42, 42, 42, 42, 42, 42, 42, 42, 42, 42, 42, 42, 42, 44, 42, 44, 42, 42, 42, 42, 39, 42, 42, 42, 42]\n"
     ]
    }
   ],
   "source": [
    "base_directory = \"./gpt4o/tot/tot_detailed_prompt_2\"\n",
    "gpt4o_tot_detailed_prompt_2_results, gpt4o_tot_detailed_prompt_2_scores = aggregate_test_results(base_directory)\n",
    "\n",
    "print(f\"Aggregated Results: {base_directory}\")\n",
    "print(json.dumps(gpt4o_tot_detailed_prompt_2_results, indent=4))\n",
    "print(f\"Polaris Scores: {gpt4o_tot_detailed_prompt_2_scores}\")"
   ]
  },
  {
   "cell_type": "code",
   "execution_count": 129,
   "metadata": {},
   "outputs": [
    {
     "name": "stdout",
     "output_type": "stream",
     "text": [
      "Aggregated Results: ./gpt4o/tot/tot_detailed_prompt_3\n",
      "{\n",
      "    \"total_responses\": 50,\n",
      "    \"secrets_used\": 45,\n",
      "    \"base64_encoding_needed\": 6,\n",
      "    \"yaml_not_wrapped\": 0,\n",
      "    \"invalid_yaml\": 0,\n",
      "    \"kubeconform_failed\": 1,\n",
      "    \"no_mysql_or_wordpress\": 1,\n",
      "    \"deployment_failed\": 0,\n",
      "    \"duplicate_resources\": 0,\n",
      "    \"healthy\": 30,\n",
      "    \"unhealthy\": 18,\n",
      "    \"PVC_failed\": 0,\n",
      "    \"MySQL_PVC_unbound\": 0,\n",
      "    \"MySQL_not_ready\": 0,\n",
      "    \"Wordpress_PVC_unbound\": 0,\n",
      "    \"Wordpress_not_ready\": 15,\n",
      "    \"Unknown_error\": 3\n",
      "}\n",
      "Polaris Scores: [42, 42, 42, 42, 42, 42, 42, 42, 42, 42, 42, 42, 42, 42, 42, 42, 39, 42, 42, 42, 42, 42, 42, 44, 42, 42, 42, 42, 42, 42]\n"
     ]
    }
   ],
   "source": [
    "base_directory = \"./gpt4o/tot/tot_detailed_prompt_3\"\n",
    "gpt4o_tot_detailed_prompt_3_results, gpt4o_tot_detailed_prompt_3_scores = aggregate_test_results(base_directory)\n",
    "\n",
    "print(f\"Aggregated Results: {base_directory}\")\n",
    "print(json.dumps(gpt4o_tot_detailed_prompt_3_results, indent=4))\n",
    "print(f\"Polaris Scores: {gpt4o_tot_detailed_prompt_3_scores}\")"
   ]
  },
  {
   "cell_type": "markdown",
   "metadata": {},
   "source": [
    "# GPT-4: ToT"
   ]
  },
  {
   "cell_type": "code",
   "execution_count": 130,
   "metadata": {},
   "outputs": [
    {
     "name": "stdout",
     "output_type": "stream",
     "text": [
      "Aggregated Results: ./gpt4/tot/tot_prompt_1\n",
      "{\n",
      "    \"total_responses\": 50,\n",
      "    \"secrets_used\": 9,\n",
      "    \"base64_encoding_needed\": 3,\n",
      "    \"yaml_not_wrapped\": 0,\n",
      "    \"invalid_yaml\": 2,\n",
      "    \"kubeconform_failed\": 0,\n",
      "    \"no_mysql_or_wordpress\": 4,\n",
      "    \"deployment_failed\": 0,\n",
      "    \"duplicate_resources\": 0,\n",
      "    \"healthy\": 13,\n",
      "    \"unhealthy\": 31,\n",
      "    \"PVC_failed\": 0,\n",
      "    \"MySQL_PVC_unbound\": 0,\n",
      "    \"MySQL_not_ready\": 0,\n",
      "    \"Wordpress_PVC_unbound\": 0,\n",
      "    \"Wordpress_not_ready\": 24,\n",
      "    \"Unknown_error\": 7\n",
      "}\n",
      "Polaris Scores: [37, 35, 37, 35, 35, 35, 35, 35, 35, 35, 35, 35, 35]\n"
     ]
    }
   ],
   "source": [
    "base_directory = \"./gpt4/tot/tot_prompt_1\"\n",
    "gpt4_tot_prompt_1_results, gpt4_tot_prompt_1_scores = aggregate_test_results(base_directory)\n",
    "\n",
    "print(f\"Aggregated Results: {base_directory}\")\n",
    "print(json.dumps(gpt4_tot_prompt_1_results, indent=4))\n",
    "print(f\"Polaris Scores: {gpt4_tot_prompt_1_scores}\")"
   ]
  },
  {
   "cell_type": "code",
   "execution_count": 131,
   "metadata": {},
   "outputs": [
    {
     "name": "stdout",
     "output_type": "stream",
     "text": [
      "Aggregated Results: ./gpt4/tot/tot_prompt_2\n",
      "{\n",
      "    \"total_responses\": 50,\n",
      "    \"secrets_used\": 20,\n",
      "    \"base64_encoding_needed\": 6,\n",
      "    \"yaml_not_wrapped\": 0,\n",
      "    \"invalid_yaml\": 2,\n",
      "    \"kubeconform_failed\": 9,\n",
      "    \"no_mysql_or_wordpress\": 2,\n",
      "    \"deployment_failed\": 24,\n",
      "    \"duplicate_resources\": 23,\n",
      "    \"healthy\": 3,\n",
      "    \"unhealthy\": 10,\n",
      "    \"PVC_failed\": 0,\n",
      "    \"MySQL_PVC_unbound\": 0,\n",
      "    \"MySQL_not_ready\": 0,\n",
      "    \"Wordpress_PVC_unbound\": 0,\n",
      "    \"Wordpress_not_ready\": 4,\n",
      "    \"Unknown_error\": 6\n",
      "}\n",
      "Polaris Scores: [35, 40, 35]\n"
     ]
    }
   ],
   "source": [
    "base_directory = \"./gpt4/tot/tot_prompt_2\"\n",
    "gpt4_tot_prompt_2_results, gpt4_tot_prompt_2_scores = aggregate_test_results(base_directory)\n",
    "\n",
    "print(f\"Aggregated Results: {base_directory}\")\n",
    "print(json.dumps(gpt4_tot_prompt_2_results, indent=4))\n",
    "print(f\"Polaris Scores: {gpt4_tot_prompt_2_scores}\")"
   ]
  },
  {
   "cell_type": "code",
   "execution_count": 132,
   "metadata": {},
   "outputs": [
    {
     "name": "stdout",
     "output_type": "stream",
     "text": [
      "YAML not wrapped in ./gpt4/tot/tot_prompt_3/response-25\n",
      "YAML not wrapped in ./gpt4/tot/tot_prompt_3/response-48\n",
      "Aggregated Results: ./gpt4/tot/tot_prompt_3\n",
      "{\n",
      "    \"total_responses\": 50,\n",
      "    \"secrets_used\": 11,\n",
      "    \"base64_encoding_needed\": 6,\n",
      "    \"yaml_not_wrapped\": 2,\n",
      "    \"invalid_yaml\": 7,\n",
      "    \"kubeconform_failed\": 6,\n",
      "    \"no_mysql_or_wordpress\": 9,\n",
      "    \"deployment_failed\": 4,\n",
      "    \"duplicate_resources\": 4,\n",
      "    \"healthy\": 1,\n",
      "    \"unhealthy\": 23,\n",
      "    \"PVC_failed\": 0,\n",
      "    \"MySQL_PVC_unbound\": 0,\n",
      "    \"MySQL_not_ready\": 0,\n",
      "    \"Wordpress_PVC_unbound\": 0,\n",
      "    \"Wordpress_not_ready\": 13,\n",
      "    \"Unknown_error\": 10\n",
      "}\n",
      "Polaris Scores: [35]\n"
     ]
    }
   ],
   "source": [
    "base_directory = \"./gpt4/tot/tot_prompt_3\"\n",
    "gpt4_tot_prompt_3_results, gpt4_tot_prompt_3_scores = aggregate_test_results(base_directory)\n",
    "\n",
    "print(f\"Aggregated Results: {base_directory}\")\n",
    "print(json.dumps(gpt4_tot_prompt_3_results, indent=4))\n",
    "print(f\"Polaris Scores: {gpt4_tot_prompt_3_scores}\")"
   ]
  },
  {
   "cell_type": "code",
   "execution_count": 136,
   "metadata": {},
   "outputs": [
    {
     "name": "stdout",
     "output_type": "stream",
     "text": [
      "Aggregated Results: ./gpt4/tot/tot_detailed_prompt_1\n",
      "{\n",
      "    \"total_responses\": 50,\n",
      "    \"secrets_used\": 32,\n",
      "    \"base64_encoding_needed\": 14,\n",
      "    \"yaml_not_wrapped\": 0,\n",
      "    \"invalid_yaml\": 0,\n",
      "    \"kubeconform_failed\": 3,\n",
      "    \"no_mysql_or_wordpress\": 14,\n",
      "    \"deployment_failed\": 0,\n",
      "    \"duplicate_resources\": 0,\n",
      "    \"healthy\": 18,\n",
      "    \"unhealthy\": 15,\n",
      "    \"PVC_failed\": 0,\n",
      "    \"MySQL_PVC_unbound\": 0,\n",
      "    \"MySQL_not_ready\": 0,\n",
      "    \"Wordpress_PVC_unbound\": 0,\n",
      "    \"Wordpress_not_ready\": 13,\n",
      "    \"Unknown_error\": 2\n",
      "}\n",
      "Polaris Scores: [42, 44, 42, 42, 42, 44, 42, 42, 42, 39, 42, 44, 42, 42, 42, 39, 43, 42]\n"
     ]
    }
   ],
   "source": [
    "base_directory = \"./gpt4/tot/tot_detailed_prompt_1\"\n",
    "gpt4_tot_detailed_prompt_1_results, gpt4_tot_detailed_prompt_1_scores = aggregate_test_results(base_directory)\n",
    "\n",
    "print(f\"Aggregated Results: {base_directory}\")\n",
    "print(json.dumps(gpt4_tot_detailed_prompt_1_results, indent=4))\n",
    "print(f\"Polaris Scores: {gpt4_tot_detailed_prompt_1_scores}\")"
   ]
  },
  {
   "cell_type": "code",
   "execution_count": 134,
   "metadata": {},
   "outputs": [
    {
     "name": "stdout",
     "output_type": "stream",
     "text": [
      "Aggregated Results: ./gpt4/tot/tot_detailed_prompt_2\n",
      "{\n",
      "    \"total_responses\": 50,\n",
      "    \"secrets_used\": 30,\n",
      "    \"base64_encoding_needed\": 8,\n",
      "    \"yaml_not_wrapped\": 0,\n",
      "    \"invalid_yaml\": 5,\n",
      "    \"kubeconform_failed\": 6,\n",
      "    \"no_mysql_or_wordpress\": 8,\n",
      "    \"deployment_failed\": 9,\n",
      "    \"duplicate_resources\": 9,\n",
      "    \"healthy\": 8,\n",
      "    \"unhealthy\": 14,\n",
      "    \"PVC_failed\": 0,\n",
      "    \"MySQL_PVC_unbound\": 0,\n",
      "    \"MySQL_not_ready\": 0,\n",
      "    \"Wordpress_PVC_unbound\": 0,\n",
      "    \"Wordpress_not_ready\": 7,\n",
      "    \"Unknown_error\": 7\n",
      "}\n",
      "Polaris Scores: [44, 42, 42, 42, 42, 40, 44, 42]\n"
     ]
    }
   ],
   "source": [
    "base_directory = \"./gpt4/tot/tot_detailed_prompt_2\"\n",
    "gpt4_tot_detailed_prompt_2_results, gpt4_tot_detailed_prompt_2_scores = aggregate_test_results(base_directory)\n",
    "\n",
    "print(f\"Aggregated Results: {base_directory}\")\n",
    "print(json.dumps(gpt4_tot_detailed_prompt_2_results, indent=4))\n",
    "print(f\"Polaris Scores: {gpt4_tot_detailed_prompt_2_scores}\")"
   ]
  },
  {
   "cell_type": "code",
   "execution_count": 135,
   "metadata": {},
   "outputs": [
    {
     "name": "stdout",
     "output_type": "stream",
     "text": [
      "YAML not wrapped in ./gpt4/tot/tot_detailed_prompt_3/response-22\n",
      "YAML not wrapped in ./gpt4/tot/tot_detailed_prompt_3/response-45\n",
      "YAML not wrapped in ./gpt4/tot/tot_detailed_prompt_3/response-16\n",
      "YAML not wrapped in ./gpt4/tot/tot_detailed_prompt_3/response-37\n",
      "YAML not wrapped in ./gpt4/tot/tot_detailed_prompt_3/response-39\n",
      "YAML not wrapped in ./gpt4/tot/tot_detailed_prompt_3/response-30\n",
      "YAML not wrapped in ./gpt4/tot/tot_detailed_prompt_3/response-35\n",
      "Aggregated Results: ./gpt4/tot/tot_detailed_prompt_3\n",
      "{\n",
      "    \"total_responses\": 50,\n",
      "    \"secrets_used\": 19,\n",
      "    \"base64_encoding_needed\": 8,\n",
      "    \"yaml_not_wrapped\": 7,\n",
      "    \"invalid_yaml\": 12,\n",
      "    \"kubeconform_failed\": 4,\n",
      "    \"no_mysql_or_wordpress\": 15,\n",
      "    \"deployment_failed\": 3,\n",
      "    \"duplicate_resources\": 2,\n",
      "    \"healthy\": 1,\n",
      "    \"unhealthy\": 15,\n",
      "    \"PVC_failed\": 0,\n",
      "    \"MySQL_PVC_unbound\": 0,\n",
      "    \"MySQL_not_ready\": 0,\n",
      "    \"Wordpress_PVC_unbound\": 0,\n",
      "    \"Wordpress_not_ready\": 8,\n",
      "    \"Unknown_error\": 7\n",
      "}\n",
      "Polaris Scores: [44]\n"
     ]
    }
   ],
   "source": [
    "base_directory = \"./gpt4/tot/tot_detailed_prompt_3\"\n",
    "gpt4_tot_detailed_prompt_3_results, gpt4_tot_detailed_prompt_3_scores = aggregate_test_results(base_directory)\n",
    "\n",
    "print(f\"Aggregated Results: {base_directory}\")\n",
    "print(json.dumps(gpt4_tot_detailed_prompt_3_results, indent=4))\n",
    "print(f\"Polaris Scores: {gpt4_tot_detailed_prompt_3_scores}\")"
   ]
  },
  {
   "cell_type": "markdown",
   "metadata": {},
   "source": [
    "# GPT-3.5: ToT"
   ]
  },
  {
   "cell_type": "code",
   "execution_count": 137,
   "metadata": {},
   "outputs": [
    {
     "name": "stdout",
     "output_type": "stream",
     "text": [
      "Aggregated Results: ./gpt3_5/tot/tot_prompt_1\n",
      "{\n",
      "    \"total_responses\": 50,\n",
      "    \"secrets_used\": 1,\n",
      "    \"base64_encoding_needed\": 1,\n",
      "    \"yaml_not_wrapped\": 0,\n",
      "    \"invalid_yaml\": 2,\n",
      "    \"kubeconform_failed\": 5,\n",
      "    \"no_mysql_or_wordpress\": 20,\n",
      "    \"deployment_failed\": 5,\n",
      "    \"duplicate_resources\": 4,\n",
      "    \"healthy\": 0,\n",
      "    \"unhealthy\": 18,\n",
      "    \"PVC_failed\": 0,\n",
      "    \"MySQL_PVC_unbound\": 0,\n",
      "    \"MySQL_not_ready\": 1,\n",
      "    \"Wordpress_PVC_unbound\": 0,\n",
      "    \"Wordpress_not_ready\": 10,\n",
      "    \"Unknown_error\": 7\n",
      "}\n",
      "Polaris Scores: []\n"
     ]
    }
   ],
   "source": [
    "base_directory = \"./gpt3_5/tot/tot_prompt_1\"\n",
    "gpt3_5_tot_prompt_1_results, gpt3_5_tot_prompt_1_scores = aggregate_test_results(base_directory)\n",
    "\n",
    "print(f\"Aggregated Results: {base_directory}\")\n",
    "print(json.dumps(gpt3_5_tot_prompt_1_results, indent=4))\n",
    "print(f\"Polaris Scores: {gpt3_5_tot_prompt_1_scores}\")"
   ]
  },
  {
   "cell_type": "code",
   "execution_count": 138,
   "metadata": {},
   "outputs": [
    {
     "name": "stdout",
     "output_type": "stream",
     "text": [
      "Aggregated Results: ./gpt3_5/tot/tot_prompt_2\n",
      "{\n",
      "    \"total_responses\": 50,\n",
      "    \"secrets_used\": 1,\n",
      "    \"base64_encoding_needed\": 1,\n",
      "    \"yaml_not_wrapped\": 0,\n",
      "    \"invalid_yaml\": 1,\n",
      "    \"kubeconform_failed\": 1,\n",
      "    \"no_mysql_or_wordpress\": 21,\n",
      "    \"deployment_failed\": 9,\n",
      "    \"duplicate_resources\": 8,\n",
      "    \"healthy\": 0,\n",
      "    \"unhealthy\": 18,\n",
      "    \"PVC_failed\": 1,\n",
      "    \"MySQL_PVC_unbound\": 0,\n",
      "    \"MySQL_not_ready\": 0,\n",
      "    \"Wordpress_PVC_unbound\": 0,\n",
      "    \"Wordpress_not_ready\": 10,\n",
      "    \"Unknown_error\": 7\n",
      "}\n",
      "Polaris Scores: []\n"
     ]
    }
   ],
   "source": [
    "base_directory = \"./gpt3_5/tot/tot_prompt_2\"\n",
    "gpt3_5_tot_prompt_2_results, gpt3_5_tot_prompt_2_scores = aggregate_test_results(base_directory)\n",
    "\n",
    "print(f\"Aggregated Results: {base_directory}\")\n",
    "print(json.dumps(gpt3_5_tot_prompt_2_results, indent=4))\n",
    "print(f\"Polaris Scores: {gpt3_5_tot_prompt_2_scores}\")"
   ]
  },
  {
   "cell_type": "code",
   "execution_count": 139,
   "metadata": {},
   "outputs": [
    {
     "name": "stdout",
     "output_type": "stream",
     "text": [
      "Aggregated Results: ./gpt3_5/tot/tot_prompt_3\n",
      "{\n",
      "    \"total_responses\": 50,\n",
      "    \"secrets_used\": 1,\n",
      "    \"base64_encoding_needed\": 1,\n",
      "    \"yaml_not_wrapped\": 0,\n",
      "    \"invalid_yaml\": 3,\n",
      "    \"kubeconform_failed\": 4,\n",
      "    \"no_mysql_or_wordpress\": 14,\n",
      "    \"deployment_failed\": 17,\n",
      "    \"duplicate_resources\": 16,\n",
      "    \"healthy\": 0,\n",
      "    \"unhealthy\": 12,\n",
      "    \"PVC_failed\": 0,\n",
      "    \"MySQL_PVC_unbound\": 0,\n",
      "    \"MySQL_not_ready\": 0,\n",
      "    \"Wordpress_PVC_unbound\": 0,\n",
      "    \"Wordpress_not_ready\": 7,\n",
      "    \"Unknown_error\": 5\n",
      "}\n",
      "Polaris Scores: []\n"
     ]
    }
   ],
   "source": [
    "base_directory = \"./gpt3_5/tot/tot_prompt_3\"\n",
    "gpt3_5_tot_prompt_3_results, gpt3_5_tot_prompt_3_scores = aggregate_test_results(base_directory)\n",
    "\n",
    "print(f\"Aggregated Results: {base_directory}\")\n",
    "print(json.dumps(gpt3_5_tot_prompt_3_results, indent=4))\n",
    "print(f\"Polaris Scores: {gpt3_5_tot_prompt_3_scores}\")"
   ]
  },
  {
   "cell_type": "code",
   "execution_count": 140,
   "metadata": {},
   "outputs": [
    {
     "name": "stdout",
     "output_type": "stream",
     "text": [
      "Aggregated Results: ./gpt3_5/tot/tot_detailed_prompt_1\n",
      "{\n",
      "    \"total_responses\": 50,\n",
      "    \"secrets_used\": 39,\n",
      "    \"base64_encoding_needed\": 22,\n",
      "    \"yaml_not_wrapped\": 0,\n",
      "    \"invalid_yaml\": 1,\n",
      "    \"kubeconform_failed\": 4,\n",
      "    \"no_mysql_or_wordpress\": 21,\n",
      "    \"deployment_failed\": 8,\n",
      "    \"duplicate_resources\": 5,\n",
      "    \"healthy\": 0,\n",
      "    \"unhealthy\": 16,\n",
      "    \"PVC_failed\": 0,\n",
      "    \"MySQL_PVC_unbound\": 0,\n",
      "    \"MySQL_not_ready\": 0,\n",
      "    \"Wordpress_PVC_unbound\": 0,\n",
      "    \"Wordpress_not_ready\": 10,\n",
      "    \"Unknown_error\": 6\n",
      "}\n",
      "Polaris Scores: []\n"
     ]
    }
   ],
   "source": [
    "base_directory = \"./gpt3_5/tot/tot_detailed_prompt_1\"\n",
    "gpt3_5_tot_detailed_prompt_1_results, gpt3_5_tot_detailed_prompt_1_scores = aggregate_test_results(base_directory)\n",
    "\n",
    "print(f\"Aggregated Results: {base_directory}\")\n",
    "print(json.dumps(gpt3_5_tot_detailed_prompt_1_results, indent=4))\n",
    "print(f\"Polaris Scores: {gpt3_5_tot_detailed_prompt_1_scores}\")"
   ]
  },
  {
   "cell_type": "code",
   "execution_count": 141,
   "metadata": {},
   "outputs": [
    {
     "name": "stdout",
     "output_type": "stream",
     "text": [
      "Aggregated Results: ./gpt3_5/tot/tot_detailed_prompt_2\n",
      "{\n",
      "    \"total_responses\": 50,\n",
      "    \"secrets_used\": 42,\n",
      "    \"base64_encoding_needed\": 23,\n",
      "    \"yaml_not_wrapped\": 0,\n",
      "    \"invalid_yaml\": 2,\n",
      "    \"kubeconform_failed\": 6,\n",
      "    \"no_mysql_or_wordpress\": 2,\n",
      "    \"deployment_failed\": 14,\n",
      "    \"duplicate_resources\": 10,\n",
      "    \"healthy\": 1,\n",
      "    \"unhealthy\": 25,\n",
      "    \"PVC_failed\": 0,\n",
      "    \"MySQL_PVC_unbound\": 0,\n",
      "    \"MySQL_not_ready\": 0,\n",
      "    \"Wordpress_PVC_unbound\": 0,\n",
      "    \"Wordpress_not_ready\": 16,\n",
      "    \"Unknown_error\": 9\n",
      "}\n",
      "Polaris Scores: [36]\n"
     ]
    }
   ],
   "source": [
    "base_directory = \"./gpt3_5/tot/tot_detailed_prompt_2\"\n",
    "gpt3_5_tot_detailed_prompt_2_results, gpt3_5_tot_detailed_prompt_2_scores = aggregate_test_results(base_directory)\n",
    "\n",
    "print(f\"Aggregated Results: {base_directory}\")\n",
    "print(json.dumps(gpt3_5_tot_detailed_prompt_2_results, indent=4))\n",
    "print(f\"Polaris Scores: {gpt3_5_tot_detailed_prompt_2_scores}\")"
   ]
  },
  {
   "cell_type": "code",
   "execution_count": 142,
   "metadata": {},
   "outputs": [
    {
     "name": "stdout",
     "output_type": "stream",
     "text": [
      "YAML not wrapped in ./gpt3_5/tot/tot_detailed_prompt_3/response-18\n",
      "Aggregated Results: ./gpt3_5/tot/tot_detailed_prompt_3\n",
      "{\n",
      "    \"total_responses\": 50,\n",
      "    \"secrets_used\": 18,\n",
      "    \"base64_encoding_needed\": 12,\n",
      "    \"yaml_not_wrapped\": 1,\n",
      "    \"invalid_yaml\": 4,\n",
      "    \"kubeconform_failed\": 4,\n",
      "    \"no_mysql_or_wordpress\": 10,\n",
      "    \"deployment_failed\": 5,\n",
      "    \"duplicate_resources\": 5,\n",
      "    \"healthy\": 0,\n",
      "    \"unhealthy\": 27,\n",
      "    \"PVC_failed\": 0,\n",
      "    \"MySQL_PVC_unbound\": 0,\n",
      "    \"MySQL_not_ready\": 0,\n",
      "    \"Wordpress_PVC_unbound\": 0,\n",
      "    \"Wordpress_not_ready\": 5,\n",
      "    \"Unknown_error\": 22\n",
      "}\n",
      "Polaris Scores: []\n"
     ]
    }
   ],
   "source": [
    "base_directory = \"./gpt3_5/tot/tot_detailed_prompt_3\"\n",
    "gpt3_5_tot_detailed_prompt_3_results, gpt3_5_tot_detailed_prompt_3_scores = aggregate_test_results(base_directory)\n",
    "\n",
    "print(f\"Aggregated Results: {base_directory}\")\n",
    "print(json.dumps(gpt3_5_tot_detailed_prompt_3_results, indent=4))\n",
    "print(f\"Polaris Scores: {gpt3_5_tot_detailed_prompt_3_scores}\")"
   ]
  },
  {
   "cell_type": "markdown",
   "metadata": {},
   "source": [
    "# GPT-4o: Meta"
   ]
  },
  {
   "cell_type": "code",
   "execution_count": 143,
   "metadata": {},
   "outputs": [
    {
     "name": "stdout",
     "output_type": "stream",
     "text": [
      "Aggregated Results: ./gpt4o/meta/meta_system_prompt\n",
      "{\n",
      "    \"total_responses\": 50,\n",
      "    \"secrets_used\": 40,\n",
      "    \"base64_encoding_needed\": 0,\n",
      "    \"yaml_not_wrapped\": 0,\n",
      "    \"invalid_yaml\": 0,\n",
      "    \"kubeconform_failed\": 0,\n",
      "    \"no_mysql_or_wordpress\": 0,\n",
      "    \"deployment_failed\": 0,\n",
      "    \"duplicate_resources\": 0,\n",
      "    \"healthy\": 28,\n",
      "    \"unhealthy\": 22,\n",
      "    \"PVC_failed\": 0,\n",
      "    \"MySQL_PVC_unbound\": 0,\n",
      "    \"MySQL_not_ready\": 0,\n",
      "    \"Wordpress_PVC_unbound\": 0,\n",
      "    \"Wordpress_not_ready\": 21,\n",
      "    \"Unknown_error\": 1\n",
      "}\n",
      "Polaris Scores: [40, 37, 40, 40, 40, 40, 43, 40, 40, 43, 35, 40, 40, 40, 43, 35, 37, 35, 43, 40, 40, 43, 43, 40, 35, 40, 40, 40]\n"
     ]
    }
   ],
   "source": [
    "base_directory = \"./gpt4o/meta/meta_system_prompt\"\n",
    "gpt4o_meta_system_prompt_results, gpt4o_meta_system_prompt_scores = aggregate_test_results(base_directory)\n",
    "\n",
    "print(f\"Aggregated Results: {base_directory}\")\n",
    "print(json.dumps(gpt4o_meta_system_prompt_results, indent=4))\n",
    "print(f\"Polaris Scores: {gpt4o_meta_system_prompt_scores}\")"
   ]
  },
  {
   "cell_type": "code",
   "execution_count": 144,
   "metadata": {},
   "outputs": [
    {
     "name": "stdout",
     "output_type": "stream",
     "text": [
      "Aggregated Results: ./gpt4o/meta/meta_system_prompt_detailed\n",
      "{\n",
      "    \"total_responses\": 50,\n",
      "    \"secrets_used\": 49,\n",
      "    \"base64_encoding_needed\": 3,\n",
      "    \"yaml_not_wrapped\": 0,\n",
      "    \"invalid_yaml\": 0,\n",
      "    \"kubeconform_failed\": 1,\n",
      "    \"no_mysql_or_wordpress\": 0,\n",
      "    \"deployment_failed\": 0,\n",
      "    \"duplicate_resources\": 0,\n",
      "    \"healthy\": 44,\n",
      "    \"unhealthy\": 5,\n",
      "    \"PVC_failed\": 0,\n",
      "    \"MySQL_PVC_unbound\": 1,\n",
      "    \"MySQL_not_ready\": 0,\n",
      "    \"Wordpress_PVC_unbound\": 0,\n",
      "    \"Wordpress_not_ready\": 3,\n",
      "    \"Unknown_error\": 1\n",
      "}\n",
      "Polaris Scores: [44, 44, 42, 42, 42, 42, 42, 42, 42, 42, 44, 42, 42, 42, 44, 44, 42, 42, 42, 42, 42, 42, 44, 44, 42, 42, 44, 39, 42, 39, 44, 42, 42, 42, 42, 42, 42, 44, 42, 42, 42, 42, 42, 44]\n"
     ]
    }
   ],
   "source": [
    "base_directory = \"./gpt4o/meta/meta_system_prompt_detailed\"\n",
    "gpt4o_meta_system_prompt_detailed_results, gpt4o_meta_system_prompt_detailed_scores = aggregate_test_results(base_directory)\n",
    "\n",
    "print(f\"Aggregated Results: {base_directory}\")\n",
    "print(json.dumps(gpt4o_meta_system_prompt_detailed_results, indent=4))\n",
    "print(f\"Polaris Scores: {gpt4o_meta_system_prompt_detailed_scores}\")"
   ]
  },
  {
   "cell_type": "code",
   "execution_count": 145,
   "metadata": {},
   "outputs": [
    {
     "name": "stdout",
     "output_type": "stream",
     "text": [
      "Aggregated Results: ./gpt4o/meta/meta_meta_prompt\n",
      "{\n",
      "    \"total_responses\": 50,\n",
      "    \"secrets_used\": 22,\n",
      "    \"base64_encoding_needed\": 7,\n",
      "    \"yaml_not_wrapped\": 0,\n",
      "    \"invalid_yaml\": 2,\n",
      "    \"kubeconform_failed\": 24,\n",
      "    \"no_mysql_or_wordpress\": 0,\n",
      "    \"deployment_failed\": 1,\n",
      "    \"duplicate_resources\": 0,\n",
      "    \"healthy\": 4,\n",
      "    \"unhealthy\": 19,\n",
      "    \"PVC_failed\": 1,\n",
      "    \"MySQL_PVC_unbound\": 0,\n",
      "    \"MySQL_not_ready\": 0,\n",
      "    \"Wordpress_PVC_unbound\": 0,\n",
      "    \"Wordpress_not_ready\": 8,\n",
      "    \"Unknown_error\": 10\n",
      "}\n",
      "Polaris Scores: [55, 62, 58, 57]\n"
     ]
    }
   ],
   "source": [
    "base_directory = \"./gpt4o/meta/meta_meta_prompt\"\n",
    "gpt4o_meta_meta_prompt_results, gpt4o_meta_meta_prompt_scores = aggregate_test_results(base_directory)\n",
    "\n",
    "print(f\"Aggregated Results: {base_directory}\")\n",
    "print(json.dumps(gpt4o_meta_meta_prompt_results, indent=4))\n",
    "print(f\"Polaris Scores: {gpt4o_meta_meta_prompt_scores}\")"
   ]
  },
  {
   "cell_type": "code",
   "execution_count": 146,
   "metadata": {},
   "outputs": [
    {
     "name": "stdout",
     "output_type": "stream",
     "text": [
      "Aggregated Results: ./gpt4o/meta/meta_meta_prompt_detailed\n",
      "{\n",
      "    \"total_responses\": 50,\n",
      "    \"secrets_used\": 37,\n",
      "    \"base64_encoding_needed\": 14,\n",
      "    \"yaml_not_wrapped\": 0,\n",
      "    \"invalid_yaml\": 0,\n",
      "    \"kubeconform_failed\": 11,\n",
      "    \"no_mysql_or_wordpress\": 6,\n",
      "    \"deployment_failed\": 0,\n",
      "    \"duplicate_resources\": 0,\n",
      "    \"healthy\": 14,\n",
      "    \"unhealthy\": 19,\n",
      "    \"PVC_failed\": 2,\n",
      "    \"MySQL_PVC_unbound\": 0,\n",
      "    \"MySQL_not_ready\": 0,\n",
      "    \"Wordpress_PVC_unbound\": 0,\n",
      "    \"Wordpress_not_ready\": 7,\n",
      "    \"Unknown_error\": 10\n",
      "}\n",
      "Polaris Scores: [59, 60, 44, 51, 46, 59, 45, 46, 54, 46, 51, 61, 56, 41]\n"
     ]
    }
   ],
   "source": [
    "base_directory = \"./gpt4o/meta/meta_meta_prompt_detailed\"\n",
    "gpt4o_meta_meta_prompt_detailed_results, gpt4o_meta_meta_prompt_detailed_scores = aggregate_test_results(base_directory)\n",
    "\n",
    "print(f\"Aggregated Results: {base_directory}\")\n",
    "print(json.dumps(gpt4o_meta_meta_prompt_detailed_results, indent=4))\n",
    "print(f\"Polaris Scores: {gpt4o_meta_meta_prompt_detailed_scores}\")"
   ]
  },
  {
   "cell_type": "markdown",
   "metadata": {},
   "source": [
    "# GPT-4: Meta"
   ]
  },
  {
   "cell_type": "code",
   "execution_count": 147,
   "metadata": {},
   "outputs": [
    {
     "name": "stdout",
     "output_type": "stream",
     "text": [
      "Aggregated Results: ./gpt4/meta/meta_system_prompt\n",
      "{\n",
      "    \"total_responses\": 50,\n",
      "    \"secrets_used\": 43,\n",
      "    \"base64_encoding_needed\": 9,\n",
      "    \"yaml_not_wrapped\": 0,\n",
      "    \"invalid_yaml\": 0,\n",
      "    \"kubeconform_failed\": 2,\n",
      "    \"no_mysql_or_wordpress\": 0,\n",
      "    \"deployment_failed\": 1,\n",
      "    \"duplicate_resources\": 0,\n",
      "    \"healthy\": 8,\n",
      "    \"unhealthy\": 39,\n",
      "    \"PVC_failed\": 0,\n",
      "    \"MySQL_PVC_unbound\": 0,\n",
      "    \"MySQL_not_ready\": 0,\n",
      "    \"Wordpress_PVC_unbound\": 0,\n",
      "    \"Wordpress_not_ready\": 38,\n",
      "    \"Unknown_error\": 1\n",
      "}\n",
      "Polaris Scores: [40, 37, 40, 35, 40, 43, 40, 40]\n"
     ]
    }
   ],
   "source": [
    "base_directory = \"./gpt4/meta/meta_system_prompt\"\n",
    "gpt4_meta_system_prompt_results, gpt4_meta_system_prompt_scores = aggregate_test_results(base_directory)\n",
    "\n",
    "print(f\"Aggregated Results: {base_directory}\")\n",
    "print(json.dumps(gpt4_meta_system_prompt_results, indent=4))\n",
    "print(f\"Polaris Scores: {gpt4_meta_system_prompt_scores}\")"
   ]
  },
  {
   "cell_type": "code",
   "execution_count": 148,
   "metadata": {},
   "outputs": [
    {
     "name": "stdout",
     "output_type": "stream",
     "text": [
      "Aggregated Results: ./gpt4/meta/meta_system_prompt_detailed\n",
      "{\n",
      "    \"total_responses\": 50,\n",
      "    \"secrets_used\": 50,\n",
      "    \"base64_encoding_needed\": 3,\n",
      "    \"yaml_not_wrapped\": 0,\n",
      "    \"invalid_yaml\": 0,\n",
      "    \"kubeconform_failed\": 0,\n",
      "    \"no_mysql_or_wordpress\": 0,\n",
      "    \"deployment_failed\": 0,\n",
      "    \"duplicate_resources\": 0,\n",
      "    \"healthy\": 35,\n",
      "    \"unhealthy\": 15,\n",
      "    \"PVC_failed\": 0,\n",
      "    \"MySQL_PVC_unbound\": 0,\n",
      "    \"MySQL_not_ready\": 0,\n",
      "    \"Wordpress_PVC_unbound\": 0,\n",
      "    \"Wordpress_not_ready\": 14,\n",
      "    \"Unknown_error\": 1\n",
      "}\n",
      "Polaris Scores: [42, 42, 43, 39, 39, 39, 39, 42, 42, 38, 42, 39, 43, 42, 42, 42, 42, 42, 39, 39, 38, 39, 42, 42, 42, 42, 39, 39, 43, 42, 42, 42, 39, 39, 42]\n"
     ]
    }
   ],
   "source": [
    "base_directory = \"./gpt4/meta/meta_system_prompt_detailed\"\n",
    "gpt4_meta_system_prompt_detailed_results, gpt4_meta_system_prompt_detailed_scores = aggregate_test_results(base_directory)\n",
    "\n",
    "print(f\"Aggregated Results: {base_directory}\")\n",
    "print(json.dumps(gpt4_meta_system_prompt_detailed_results, indent=4))\n",
    "print(f\"Polaris Scores: {gpt4_meta_system_prompt_detailed_scores}\")"
   ]
  },
  {
   "cell_type": "code",
   "execution_count": 149,
   "metadata": {},
   "outputs": [
    {
     "name": "stdout",
     "output_type": "stream",
     "text": [
      "Aggregated Results: ./gpt4/meta/meta_meta_prompt\n",
      "{\n",
      "    \"total_responses\": 50,\n",
      "    \"secrets_used\": 27,\n",
      "    \"base64_encoding_needed\": 20,\n",
      "    \"yaml_not_wrapped\": 0,\n",
      "    \"invalid_yaml\": 0,\n",
      "    \"kubeconform_failed\": 9,\n",
      "    \"no_mysql_or_wordpress\": 3,\n",
      "    \"deployment_failed\": 0,\n",
      "    \"duplicate_resources\": 0,\n",
      "    \"healthy\": 1,\n",
      "    \"unhealthy\": 37,\n",
      "    \"PVC_failed\": 1,\n",
      "    \"MySQL_PVC_unbound\": 0,\n",
      "    \"MySQL_not_ready\": 3,\n",
      "    \"Wordpress_PVC_unbound\": 0,\n",
      "    \"Wordpress_not_ready\": 17,\n",
      "    \"Unknown_error\": 16\n",
      "}\n",
      "Polaris Scores: [43]\n"
     ]
    }
   ],
   "source": [
    "base_directory = \"./gpt4/meta/meta_meta_prompt\"\n",
    "gpt4_meta_meta_prompt_results, gpt4_meta_meta_prompt_scores = aggregate_test_results(base_directory)\n",
    "\n",
    "print(f\"Aggregated Results: {base_directory}\")\n",
    "print(json.dumps(gpt4_meta_meta_prompt_results, indent=4))\n",
    "print(f\"Polaris Scores: {gpt4_meta_meta_prompt_scores}\")"
   ]
  },
  {
   "cell_type": "code",
   "execution_count": 150,
   "metadata": {},
   "outputs": [
    {
     "name": "stdout",
     "output_type": "stream",
     "text": [
      "Aggregated Results: ./gpt4/meta/meta_meta_prompt_detailed\n",
      "{\n",
      "    \"total_responses\": 50,\n",
      "    \"secrets_used\": 45,\n",
      "    \"base64_encoding_needed\": 21,\n",
      "    \"yaml_not_wrapped\": 0,\n",
      "    \"invalid_yaml\": 0,\n",
      "    \"kubeconform_failed\": 4,\n",
      "    \"no_mysql_or_wordpress\": 3,\n",
      "    \"deployment_failed\": 0,\n",
      "    \"duplicate_resources\": 0,\n",
      "    \"healthy\": 8,\n",
      "    \"unhealthy\": 35,\n",
      "    \"PVC_failed\": 1,\n",
      "    \"MySQL_PVC_unbound\": 0,\n",
      "    \"MySQL_not_ready\": 2,\n",
      "    \"Wordpress_PVC_unbound\": 0,\n",
      "    \"Wordpress_not_ready\": 25,\n",
      "    \"Unknown_error\": 7\n",
      "}\n",
      "Polaris Scores: [44, 46, 46, 58, 58, 46, 64, 48]\n"
     ]
    }
   ],
   "source": [
    "base_directory = \"./gpt4/meta/meta_meta_prompt_detailed\"\n",
    "gpt4_meta_meta_prompt_detailed_results, gpt4_meta_meta_prompt_detailed_scores = aggregate_test_results(base_directory)\n",
    "\n",
    "print(f\"Aggregated Results: {base_directory}\")\n",
    "print(json.dumps(gpt4_meta_meta_prompt_detailed_results, indent=4))\n",
    "print(f\"Polaris Scores: {gpt4_meta_meta_prompt_detailed_scores}\")"
   ]
  },
  {
   "cell_type": "markdown",
   "metadata": {},
   "source": [
    "# GPT-3.5: Meta"
   ]
  },
  {
   "cell_type": "code",
   "execution_count": 151,
   "metadata": {},
   "outputs": [
    {
     "name": "stdout",
     "output_type": "stream",
     "text": [
      "Aggregated Results: ./gpt3_5/meta/meta_system_prompt\n",
      "{\n",
      "    \"total_responses\": 50,\n",
      "    \"secrets_used\": 3,\n",
      "    \"base64_encoding_needed\": 1,\n",
      "    \"yaml_not_wrapped\": 0,\n",
      "    \"invalid_yaml\": 0,\n",
      "    \"kubeconform_failed\": 1,\n",
      "    \"no_mysql_or_wordpress\": 0,\n",
      "    \"deployment_failed\": 4,\n",
      "    \"duplicate_resources\": 0,\n",
      "    \"healthy\": 3,\n",
      "    \"unhealthy\": 42,\n",
      "    \"PVC_failed\": 2,\n",
      "    \"MySQL_PVC_unbound\": 0,\n",
      "    \"MySQL_not_ready\": 0,\n",
      "    \"Wordpress_PVC_unbound\": 0,\n",
      "    \"Wordpress_not_ready\": 40,\n",
      "    \"Unknown_error\": 0\n",
      "}\n",
      "Polaris Scores: [36, 36, 36]\n"
     ]
    }
   ],
   "source": [
    "base_directory = \"./gpt3_5/meta/meta_system_prompt\"\n",
    "gpt3_5_meta_system_prompt_results, gpt3_5_meta_system_prompt_scores = aggregate_test_results(base_directory)\n",
    "\n",
    "print(f\"Aggregated Results: {base_directory}\")\n",
    "print(json.dumps(gpt3_5_meta_system_prompt_results, indent=4))\n",
    "print(f\"Polaris Scores: {gpt3_5_meta_system_prompt_scores}\")"
   ]
  },
  {
   "cell_type": "code",
   "execution_count": 152,
   "metadata": {},
   "outputs": [
    {
     "name": "stdout",
     "output_type": "stream",
     "text": [
      "Aggregated Results: ./gpt3_5/meta/meta_system_prompt_detailed\n",
      "{\n",
      "    \"total_responses\": 50,\n",
      "    \"secrets_used\": 45,\n",
      "    \"base64_encoding_needed\": 26,\n",
      "    \"yaml_not_wrapped\": 0,\n",
      "    \"invalid_yaml\": 0,\n",
      "    \"kubeconform_failed\": 1,\n",
      "    \"no_mysql_or_wordpress\": 1,\n",
      "    \"deployment_failed\": 2,\n",
      "    \"duplicate_resources\": 0,\n",
      "    \"healthy\": 1,\n",
      "    \"unhealthy\": 45,\n",
      "    \"PVC_failed\": 0,\n",
      "    \"MySQL_PVC_unbound\": 1,\n",
      "    \"MySQL_not_ready\": 0,\n",
      "    \"Wordpress_PVC_unbound\": 0,\n",
      "    \"Wordpress_not_ready\": 42,\n",
      "    \"Unknown_error\": 2\n",
      "}\n",
      "Polaris Scores: [36]\n"
     ]
    }
   ],
   "source": [
    "base_directory = \"./gpt3_5/meta/meta_system_prompt_detailed\"\n",
    "gpt3_5_meta_system_prompt_detailed_results, gpt3_5_meta_system_prompt_detailed_scores = aggregate_test_results(base_directory)\n",
    "\n",
    "print(f\"Aggregated Results: {base_directory}\")\n",
    "print(json.dumps(gpt3_5_meta_system_prompt_detailed_results, indent=4))\n",
    "print(f\"Polaris Scores: {gpt3_5_meta_system_prompt_detailed_scores}\")"
   ]
  },
  {
   "cell_type": "code",
   "execution_count": 153,
   "metadata": {},
   "outputs": [
    {
     "name": "stdout",
     "output_type": "stream",
     "text": [
      "Aggregated Results: ./gpt3_5/meta/meta_meta_prompt\n",
      "{\n",
      "    \"total_responses\": 50,\n",
      "    \"secrets_used\": 4,\n",
      "    \"base64_encoding_needed\": 4,\n",
      "    \"yaml_not_wrapped\": 0,\n",
      "    \"invalid_yaml\": 0,\n",
      "    \"kubeconform_failed\": 9,\n",
      "    \"no_mysql_or_wordpress\": 13,\n",
      "    \"deployment_failed\": 2,\n",
      "    \"duplicate_resources\": 0,\n",
      "    \"healthy\": 2,\n",
      "    \"unhealthy\": 24,\n",
      "    \"PVC_failed\": 0,\n",
      "    \"MySQL_PVC_unbound\": 0,\n",
      "    \"MySQL_not_ready\": 1,\n",
      "    \"Wordpress_PVC_unbound\": 0,\n",
      "    \"Wordpress_not_ready\": 14,\n",
      "    \"Unknown_error\": 9\n",
      "}\n",
      "Polaris Scores: [38, 47]\n"
     ]
    }
   ],
   "source": [
    "base_directory = \"./gpt3_5/meta/meta_meta_prompt\"\n",
    "gpt3_5_meta_meta_prompt_results, gpt3_5_meta_meta_prompt_scores = aggregate_test_results(base_directory)\n",
    "\n",
    "print(f\"Aggregated Results: {base_directory}\")\n",
    "print(json.dumps(gpt3_5_meta_meta_prompt_results, indent=4))\n",
    "print(f\"Polaris Scores: {gpt3_5_meta_meta_prompt_scores}\")"
   ]
  },
  {
   "cell_type": "code",
   "execution_count": 154,
   "metadata": {},
   "outputs": [
    {
     "name": "stdout",
     "output_type": "stream",
     "text": [
      "Aggregated Results: ./gpt3_5/meta/meta_meta_prompt_detailed\n",
      "{\n",
      "    \"total_responses\": 50,\n",
      "    \"secrets_used\": 4,\n",
      "    \"base64_encoding_needed\": 2,\n",
      "    \"yaml_not_wrapped\": 0,\n",
      "    \"invalid_yaml\": 1,\n",
      "    \"kubeconform_failed\": 28,\n",
      "    \"no_mysql_or_wordpress\": 10,\n",
      "    \"deployment_failed\": 0,\n",
      "    \"duplicate_resources\": 0,\n",
      "    \"healthy\": 0,\n",
      "    \"unhealthy\": 11,\n",
      "    \"PVC_failed\": 0,\n",
      "    \"MySQL_PVC_unbound\": 0,\n",
      "    \"MySQL_not_ready\": 0,\n",
      "    \"Wordpress_PVC_unbound\": 0,\n",
      "    \"Wordpress_not_ready\": 3,\n",
      "    \"Unknown_error\": 8\n",
      "}\n",
      "Polaris Scores: []\n"
     ]
    }
   ],
   "source": [
    "base_directory = \"./gpt3_5/meta/meta_meta_prompt_detailed\"\n",
    "gpt3_5_meta_meta_prompt_detailed_results, gpt3_5_meta_meta_prompt_detailed_scores = aggregate_test_results(base_directory)\n",
    "\n",
    "print(f\"Aggregated Results: {base_directory}\")\n",
    "print(json.dumps(gpt3_5_meta_meta_prompt_detailed_results, indent=4))\n",
    "print(f\"Polaris Scores: {gpt3_5_meta_meta_prompt_detailed_scores}\")"
   ]
  }
 ],
 "metadata": {
  "kernelspec": {
   "display_name": "Python 3",
   "language": "python",
   "name": "python3"
  },
  "language_info": {
   "codemirror_mode": {
    "name": "ipython",
    "version": 3
   },
   "file_extension": ".py",
   "mimetype": "text/x-python",
   "name": "python",
   "nbconvert_exporter": "python",
   "pygments_lexer": "ipython3",
   "version": "3.10.12"
  }
 },
 "nbformat": 4,
 "nbformat_minor": 2
}
